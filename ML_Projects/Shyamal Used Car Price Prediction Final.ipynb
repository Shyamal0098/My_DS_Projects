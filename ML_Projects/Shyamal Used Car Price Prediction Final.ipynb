{
 "cells": [
  {
   "cell_type": "code",
   "execution_count": 1,
   "metadata": {},
   "outputs": [],
   "source": [
    "import pandas as pd\n",
    "import seaborn as sns\n",
    "import numpy as np\n",
    "import matplotlib.pyplot as plt\n",
    "from sklearn.preprocessing import LabelEncoder\n",
    "from sklearn.preprocessing import StandardScaler\n",
    "from scipy.stats import skew\n",
    "from scipy.special import boxcox1p\n",
    "from sklearn.decomposition import PCA\n",
    "from sklearn.model_selection import KFold, cross_val_score\n",
    "from sklearn.metrics import mean_squared_error\n",
    "import xgboost as xgb\n",
    "from sklearn.ensemble import GradientBoostingRegressor\n",
    "import warnings\n",
    "warnings.filterwarnings(\"ignore\")"
   ]
  },
  {
   "cell_type": "code",
   "execution_count": 2,
   "metadata": {},
   "outputs": [
    {
     "data": {
      "text/html": [
       "<div>\n",
       "<style scoped>\n",
       "    .dataframe tbody tr th:only-of-type {\n",
       "        vertical-align: middle;\n",
       "    }\n",
       "\n",
       "    .dataframe tbody tr th {\n",
       "        vertical-align: top;\n",
       "    }\n",
       "\n",
       "    .dataframe thead th {\n",
       "        text-align: right;\n",
       "    }\n",
       "</style>\n",
       "<table border=\"1\" class=\"dataframe\">\n",
       "  <thead>\n",
       "    <tr style=\"text-align: right;\">\n",
       "      <th></th>\n",
       "      <th>Name</th>\n",
       "      <th>Price</th>\n",
       "      <th>Rating</th>\n",
       "      <th>city</th>\n",
       "      <th>Kilometers</th>\n",
       "      <th>Year_of_Purchase</th>\n",
       "      <th>Owner</th>\n",
       "      <th>Fuel_Type</th>\n",
       "      <th>Transmission</th>\n",
       "      <th>RTO</th>\n",
       "      <th>Insurance</th>\n",
       "      <th>Insurance_Type</th>\n",
       "    </tr>\n",
       "  </thead>\n",
       "  <tbody>\n",
       "    <tr>\n",
       "      <th>0</th>\n",
       "      <td>2010 Maruti Alto LXI</td>\n",
       "      <td>₹ 174,699</td>\n",
       "      <td>4out of 5</td>\n",
       "      <td>3686</td>\n",
       "      <td>Kilometers34,854 km</td>\n",
       "      <td>Year of PurchaseMay 2010</td>\n",
       "      <td>OwnerFirst Owner</td>\n",
       "      <td>FuelPetrol</td>\n",
       "      <td>TransmissionMANUAL</td>\n",
       "      <td>RTOAP09</td>\n",
       "      <td>NaN</td>\n",
       "      <td>Insurance TypeInsurance Expired</td>\n",
       "    </tr>\n",
       "    <tr>\n",
       "      <th>1</th>\n",
       "      <td>2013 Maruti Wagon R 1.0 VXI</td>\n",
       "      <td>₹ 333,999</td>\n",
       "      <td>4.2out of 5</td>\n",
       "      <td>3686</td>\n",
       "      <td>Kilometers39,541 km</td>\n",
       "      <td>Year of PurchaseJuly 2013</td>\n",
       "      <td>OwnerSecond Owner</td>\n",
       "      <td>FuelPetrol</td>\n",
       "      <td>TransmissionMANUAL</td>\n",
       "      <td>RTOAP28</td>\n",
       "      <td>Insurance6/8/2021</td>\n",
       "      <td>Insurance TypeComp</td>\n",
       "    </tr>\n",
       "    <tr>\n",
       "      <th>2</th>\n",
       "      <td>2014 Maruti Wagon R 1.0 VXI</td>\n",
       "      <td>₹ 353,199</td>\n",
       "      <td>4.3out of 5</td>\n",
       "      <td>3686</td>\n",
       "      <td>Kilometers23,233 km</td>\n",
       "      <td>Year of PurchaseMarch 2014</td>\n",
       "      <td>OwnerSecond Owner</td>\n",
       "      <td>FuelPetrol</td>\n",
       "      <td>TransmissionMANUAL</td>\n",
       "      <td>RTOAP28</td>\n",
       "      <td>Insurance28/4/2021</td>\n",
       "      <td>Insurance TypeComp</td>\n",
       "    </tr>\n",
       "    <tr>\n",
       "      <th>3</th>\n",
       "      <td>2013 Hyundai Eon D LITE PLUS</td>\n",
       "      <td>₹ 237,899</td>\n",
       "      <td>4.4out of 5</td>\n",
       "      <td>3686</td>\n",
       "      <td>Kilometers27,748 km</td>\n",
       "      <td>Year of PurchaseNovember 2013</td>\n",
       "      <td>OwnerFirst Owner</td>\n",
       "      <td>FuelPetrol</td>\n",
       "      <td>TransmissionMANUAL</td>\n",
       "      <td>RTOAP13</td>\n",
       "      <td>Insurance1/1/2022</td>\n",
       "      <td>Insurance TypeComp</td>\n",
       "    </tr>\n",
       "    <tr>\n",
       "      <th>4</th>\n",
       "      <td>2017 Hyundai Eon ERA PLUS</td>\n",
       "      <td>₹ 300,699</td>\n",
       "      <td>4.4out of 5</td>\n",
       "      <td>3686</td>\n",
       "      <td>Kilometers12,238 km</td>\n",
       "      <td>Year of PurchaseAugust 2017</td>\n",
       "      <td>OwnerSecond Owner</td>\n",
       "      <td>FuelPetrol</td>\n",
       "      <td>TransmissionMANUAL</td>\n",
       "      <td>RTOTS10</td>\n",
       "      <td>NaN</td>\n",
       "      <td>Insurance TypeExpired</td>\n",
       "    </tr>\n",
       "  </tbody>\n",
       "</table>\n",
       "</div>"
      ],
      "text/plain": [
       "                           Name      Price       Rating  city  \\\n",
       "0          2010 Maruti Alto LXI  ₹ 174,699    4out of 5  3686   \n",
       "1   2013 Maruti Wagon R 1.0 VXI  ₹ 333,999  4.2out of 5  3686   \n",
       "2   2014 Maruti Wagon R 1.0 VXI  ₹ 353,199  4.3out of 5  3686   \n",
       "3  2013 Hyundai Eon D LITE PLUS  ₹ 237,899  4.4out of 5  3686   \n",
       "4     2017 Hyundai Eon ERA PLUS  ₹ 300,699  4.4out of 5  3686   \n",
       "\n",
       "            Kilometers               Year_of_Purchase              Owner  \\\n",
       "0  Kilometers34,854 km       Year of PurchaseMay 2010   OwnerFirst Owner   \n",
       "1  Kilometers39,541 km      Year of PurchaseJuly 2013  OwnerSecond Owner   \n",
       "2  Kilometers23,233 km     Year of PurchaseMarch 2014  OwnerSecond Owner   \n",
       "3  Kilometers27,748 km  Year of PurchaseNovember 2013   OwnerFirst Owner   \n",
       "4  Kilometers12,238 km    Year of PurchaseAugust 2017  OwnerSecond Owner   \n",
       "\n",
       "    Fuel_Type        Transmission      RTO           Insurance  \\\n",
       "0  FuelPetrol  TransmissionMANUAL  RTOAP09                 NaN   \n",
       "1  FuelPetrol  TransmissionMANUAL  RTOAP28   Insurance6/8/2021   \n",
       "2  FuelPetrol  TransmissionMANUAL  RTOAP28  Insurance28/4/2021   \n",
       "3  FuelPetrol  TransmissionMANUAL  RTOAP13   Insurance1/1/2022   \n",
       "4  FuelPetrol  TransmissionMANUAL  RTOTS10                 NaN   \n",
       "\n",
       "                    Insurance_Type  \n",
       "0  Insurance TypeInsurance Expired  \n",
       "1               Insurance TypeComp  \n",
       "2               Insurance TypeComp  \n",
       "3               Insurance TypeComp  \n",
       "4            Insurance TypeExpired  "
      ]
     },
     "execution_count": 2,
     "metadata": {},
     "output_type": "execute_result"
    }
   ],
   "source": [
    "df_org=pd.read_csv('cars_datafinal.csv')\n",
    "df_org.head()"
   ]
  },
  {
   "cell_type": "code",
   "execution_count": 3,
   "metadata": {},
   "outputs": [],
   "source": [
    "df=df_org.copy()"
   ]
  },
  {
   "cell_type": "code",
   "execution_count": 4,
   "metadata": {},
   "outputs": [
    {
     "data": {
      "text/html": [
       "<div>\n",
       "<style scoped>\n",
       "    .dataframe tbody tr th:only-of-type {\n",
       "        vertical-align: middle;\n",
       "    }\n",
       "\n",
       "    .dataframe tbody tr th {\n",
       "        vertical-align: top;\n",
       "    }\n",
       "\n",
       "    .dataframe thead th {\n",
       "        text-align: right;\n",
       "    }\n",
       "</style>\n",
       "<table border=\"1\" class=\"dataframe\">\n",
       "  <thead>\n",
       "    <tr style=\"text-align: right;\">\n",
       "      <th></th>\n",
       "      <th>Name</th>\n",
       "      <th>Price</th>\n",
       "      <th>Rating</th>\n",
       "      <th>city</th>\n",
       "      <th>Kilometers</th>\n",
       "      <th>Year_of_Purchase</th>\n",
       "      <th>Owner</th>\n",
       "      <th>Fuel_Type</th>\n",
       "      <th>Transmission</th>\n",
       "      <th>RTO</th>\n",
       "      <th>Insurance</th>\n",
       "      <th>Insurance_Type</th>\n",
       "    </tr>\n",
       "  </thead>\n",
       "  <tbody>\n",
       "    <tr>\n",
       "      <th>0</th>\n",
       "      <td>2010 Maruti Alto LXI</td>\n",
       "      <td>₹ 174,699</td>\n",
       "      <td>4out of 5</td>\n",
       "      <td>3686</td>\n",
       "      <td>Kilometers34,854 km</td>\n",
       "      <td>Year of PurchaseMay 2010</td>\n",
       "      <td>OwnerFirst Owner</td>\n",
       "      <td>FuelPetrol</td>\n",
       "      <td>TransmissionMANUAL</td>\n",
       "      <td>RTOAP09</td>\n",
       "      <td>NaN</td>\n",
       "      <td>Insurance TypeInsurance Expired</td>\n",
       "    </tr>\n",
       "    <tr>\n",
       "      <th>1</th>\n",
       "      <td>2013 Maruti Wagon R 1.0 VXI</td>\n",
       "      <td>₹ 333,999</td>\n",
       "      <td>4.2out of 5</td>\n",
       "      <td>3686</td>\n",
       "      <td>Kilometers39,541 km</td>\n",
       "      <td>Year of PurchaseJuly 2013</td>\n",
       "      <td>OwnerSecond Owner</td>\n",
       "      <td>FuelPetrol</td>\n",
       "      <td>TransmissionMANUAL</td>\n",
       "      <td>RTOAP28</td>\n",
       "      <td>Insurance6/8/2021</td>\n",
       "      <td>Insurance TypeComp</td>\n",
       "    </tr>\n",
       "    <tr>\n",
       "      <th>2</th>\n",
       "      <td>2014 Maruti Wagon R 1.0 VXI</td>\n",
       "      <td>₹ 353,199</td>\n",
       "      <td>4.3out of 5</td>\n",
       "      <td>3686</td>\n",
       "      <td>Kilometers23,233 km</td>\n",
       "      <td>Year of PurchaseMarch 2014</td>\n",
       "      <td>OwnerSecond Owner</td>\n",
       "      <td>FuelPetrol</td>\n",
       "      <td>TransmissionMANUAL</td>\n",
       "      <td>RTOAP28</td>\n",
       "      <td>Insurance28/4/2021</td>\n",
       "      <td>Insurance TypeComp</td>\n",
       "    </tr>\n",
       "    <tr>\n",
       "      <th>3</th>\n",
       "      <td>2013 Hyundai Eon D LITE PLUS</td>\n",
       "      <td>₹ 237,899</td>\n",
       "      <td>4.4out of 5</td>\n",
       "      <td>3686</td>\n",
       "      <td>Kilometers27,748 km</td>\n",
       "      <td>Year of PurchaseNovember 2013</td>\n",
       "      <td>OwnerFirst Owner</td>\n",
       "      <td>FuelPetrol</td>\n",
       "      <td>TransmissionMANUAL</td>\n",
       "      <td>RTOAP13</td>\n",
       "      <td>Insurance1/1/2022</td>\n",
       "      <td>Insurance TypeComp</td>\n",
       "    </tr>\n",
       "    <tr>\n",
       "      <th>4</th>\n",
       "      <td>2017 Hyundai Eon ERA PLUS</td>\n",
       "      <td>₹ 300,699</td>\n",
       "      <td>4.4out of 5</td>\n",
       "      <td>3686</td>\n",
       "      <td>Kilometers12,238 km</td>\n",
       "      <td>Year of PurchaseAugust 2017</td>\n",
       "      <td>OwnerSecond Owner</td>\n",
       "      <td>FuelPetrol</td>\n",
       "      <td>TransmissionMANUAL</td>\n",
       "      <td>RTOTS10</td>\n",
       "      <td>NaN</td>\n",
       "      <td>Insurance TypeExpired</td>\n",
       "    </tr>\n",
       "  </tbody>\n",
       "</table>\n",
       "</div>"
      ],
      "text/plain": [
       "                           Name      Price       Rating  city  \\\n",
       "0          2010 Maruti Alto LXI  ₹ 174,699    4out of 5  3686   \n",
       "1   2013 Maruti Wagon R 1.0 VXI  ₹ 333,999  4.2out of 5  3686   \n",
       "2   2014 Maruti Wagon R 1.0 VXI  ₹ 353,199  4.3out of 5  3686   \n",
       "3  2013 Hyundai Eon D LITE PLUS  ₹ 237,899  4.4out of 5  3686   \n",
       "4     2017 Hyundai Eon ERA PLUS  ₹ 300,699  4.4out of 5  3686   \n",
       "\n",
       "            Kilometers               Year_of_Purchase              Owner  \\\n",
       "0  Kilometers34,854 km       Year of PurchaseMay 2010   OwnerFirst Owner   \n",
       "1  Kilometers39,541 km      Year of PurchaseJuly 2013  OwnerSecond Owner   \n",
       "2  Kilometers23,233 km     Year of PurchaseMarch 2014  OwnerSecond Owner   \n",
       "3  Kilometers27,748 km  Year of PurchaseNovember 2013   OwnerFirst Owner   \n",
       "4  Kilometers12,238 km    Year of PurchaseAugust 2017  OwnerSecond Owner   \n",
       "\n",
       "    Fuel_Type        Transmission      RTO           Insurance  \\\n",
       "0  FuelPetrol  TransmissionMANUAL  RTOAP09                 NaN   \n",
       "1  FuelPetrol  TransmissionMANUAL  RTOAP28   Insurance6/8/2021   \n",
       "2  FuelPetrol  TransmissionMANUAL  RTOAP28  Insurance28/4/2021   \n",
       "3  FuelPetrol  TransmissionMANUAL  RTOAP13   Insurance1/1/2022   \n",
       "4  FuelPetrol  TransmissionMANUAL  RTOTS10                 NaN   \n",
       "\n",
       "                    Insurance_Type  \n",
       "0  Insurance TypeInsurance Expired  \n",
       "1               Insurance TypeComp  \n",
       "2               Insurance TypeComp  \n",
       "3               Insurance TypeComp  \n",
       "4            Insurance TypeExpired  "
      ]
     },
     "execution_count": 4,
     "metadata": {},
     "output_type": "execute_result"
    }
   ],
   "source": [
    "df.head()"
   ]
  },
  {
   "cell_type": "code",
   "execution_count": 5,
   "metadata": {},
   "outputs": [
    {
     "data": {
      "text/html": [
       "<div>\n",
       "<style scoped>\n",
       "    .dataframe tbody tr th:only-of-type {\n",
       "        vertical-align: middle;\n",
       "    }\n",
       "\n",
       "    .dataframe tbody tr th {\n",
       "        vertical-align: top;\n",
       "    }\n",
       "\n",
       "    .dataframe thead th {\n",
       "        text-align: right;\n",
       "    }\n",
       "</style>\n",
       "<table border=\"1\" class=\"dataframe\">\n",
       "  <thead>\n",
       "    <tr style=\"text-align: right;\">\n",
       "      <th></th>\n",
       "      <th>city</th>\n",
       "    </tr>\n",
       "  </thead>\n",
       "  <tbody>\n",
       "    <tr>\n",
       "      <th>count</th>\n",
       "      <td>32158.000000</td>\n",
       "    </tr>\n",
       "    <tr>\n",
       "      <th>mean</th>\n",
       "      <td>2883.844207</td>\n",
       "    </tr>\n",
       "    <tr>\n",
       "      <th>std</th>\n",
       "      <td>1569.462476</td>\n",
       "    </tr>\n",
       "    <tr>\n",
       "      <th>min</th>\n",
       "      <td>290.000000</td>\n",
       "    </tr>\n",
       "    <tr>\n",
       "      <th>25%</th>\n",
       "      <td>1692.000000</td>\n",
       "    </tr>\n",
       "    <tr>\n",
       "      <th>50%</th>\n",
       "      <td>2423.000000</td>\n",
       "    </tr>\n",
       "    <tr>\n",
       "      <th>75%</th>\n",
       "      <td>4709.000000</td>\n",
       "    </tr>\n",
       "    <tr>\n",
       "      <th>max</th>\n",
       "      <td>5732.000000</td>\n",
       "    </tr>\n",
       "  </tbody>\n",
       "</table>\n",
       "</div>"
      ],
      "text/plain": [
       "               city\n",
       "count  32158.000000\n",
       "mean    2883.844207\n",
       "std     1569.462476\n",
       "min      290.000000\n",
       "25%     1692.000000\n",
       "50%     2423.000000\n",
       "75%     4709.000000\n",
       "max     5732.000000"
      ]
     },
     "execution_count": 5,
     "metadata": {},
     "output_type": "execute_result"
    }
   ],
   "source": [
    "df.describe()"
   ]
  },
  {
   "cell_type": "code",
   "execution_count": 6,
   "metadata": {},
   "outputs": [
    {
     "data": {
      "text/plain": [
       "Name                object\n",
       "Price               object\n",
       "Rating              object\n",
       "city                 int64\n",
       "Kilometers          object\n",
       "Year_of_Purchase    object\n",
       "Owner               object\n",
       "Fuel_Type           object\n",
       "Transmission        object\n",
       "RTO                 object\n",
       "Insurance           object\n",
       "Insurance_Type      object\n",
       "dtype: object"
      ]
     },
     "execution_count": 6,
     "metadata": {},
     "output_type": "execute_result"
    }
   ],
   "source": [
    "df.dtypes"
   ]
  },
  {
   "cell_type": "code",
   "execution_count": 7,
   "metadata": {},
   "outputs": [
    {
     "data": {
      "text/plain": [
       "Name                   0\n",
       "Price                  0\n",
       "Rating                 0\n",
       "city                   0\n",
       "Kilometers             0\n",
       "Year_of_Purchase       0\n",
       "Owner                  0\n",
       "Fuel_Type              0\n",
       "Transmission        2816\n",
       "RTO                    0\n",
       "Insurance           9193\n",
       "Insurance_Type         0\n",
       "dtype: int64"
      ]
     },
     "execution_count": 7,
     "metadata": {},
     "output_type": "execute_result"
    }
   ],
   "source": [
    "df.isnull().sum()"
   ]
  },
  {
   "cell_type": "code",
   "execution_count": 8,
   "metadata": {},
   "outputs": [],
   "source": [
    "df2=df['Name'].str.split(\" \",n=2,expand=True)\n",
    "df['Year']=df2[0]\n",
    "df['Company']=df2[1]\n",
    "df['Car_Model']=df2[2]"
   ]
  },
  {
   "cell_type": "code",
   "execution_count": 9,
   "metadata": {},
   "outputs": [],
   "source": [
    "df.drop(columns=['Name','Insurance'],axis=1,inplace=True)"
   ]
  },
  {
   "cell_type": "code",
   "execution_count": 10,
   "metadata": {},
   "outputs": [
    {
     "data": {
      "text/html": [
       "<div>\n",
       "<style scoped>\n",
       "    .dataframe tbody tr th:only-of-type {\n",
       "        vertical-align: middle;\n",
       "    }\n",
       "\n",
       "    .dataframe tbody tr th {\n",
       "        vertical-align: top;\n",
       "    }\n",
       "\n",
       "    .dataframe thead th {\n",
       "        text-align: right;\n",
       "    }\n",
       "</style>\n",
       "<table border=\"1\" class=\"dataframe\">\n",
       "  <thead>\n",
       "    <tr style=\"text-align: right;\">\n",
       "      <th></th>\n",
       "      <th>Price</th>\n",
       "      <th>Rating</th>\n",
       "      <th>city</th>\n",
       "      <th>Kilometers</th>\n",
       "      <th>Year_of_Purchase</th>\n",
       "      <th>Owner</th>\n",
       "      <th>Fuel_Type</th>\n",
       "      <th>Transmission</th>\n",
       "      <th>RTO</th>\n",
       "      <th>Insurance_Type</th>\n",
       "      <th>Year</th>\n",
       "      <th>Company</th>\n",
       "      <th>Car_Model</th>\n",
       "    </tr>\n",
       "  </thead>\n",
       "  <tbody>\n",
       "    <tr>\n",
       "      <th>0</th>\n",
       "      <td>₹ 174,699</td>\n",
       "      <td>4out of 5</td>\n",
       "      <td>3686</td>\n",
       "      <td>Kilometers34,854 km</td>\n",
       "      <td>Year of PurchaseMay 2010</td>\n",
       "      <td>OwnerFirst Owner</td>\n",
       "      <td>FuelPetrol</td>\n",
       "      <td>TransmissionMANUAL</td>\n",
       "      <td>RTOAP09</td>\n",
       "      <td>Insurance TypeInsurance Expired</td>\n",
       "      <td>2010</td>\n",
       "      <td>Maruti</td>\n",
       "      <td>Alto LXI</td>\n",
       "    </tr>\n",
       "    <tr>\n",
       "      <th>1</th>\n",
       "      <td>₹ 333,999</td>\n",
       "      <td>4.2out of 5</td>\n",
       "      <td>3686</td>\n",
       "      <td>Kilometers39,541 km</td>\n",
       "      <td>Year of PurchaseJuly 2013</td>\n",
       "      <td>OwnerSecond Owner</td>\n",
       "      <td>FuelPetrol</td>\n",
       "      <td>TransmissionMANUAL</td>\n",
       "      <td>RTOAP28</td>\n",
       "      <td>Insurance TypeComp</td>\n",
       "      <td>2013</td>\n",
       "      <td>Maruti</td>\n",
       "      <td>Wagon R 1.0 VXI</td>\n",
       "    </tr>\n",
       "    <tr>\n",
       "      <th>2</th>\n",
       "      <td>₹ 353,199</td>\n",
       "      <td>4.3out of 5</td>\n",
       "      <td>3686</td>\n",
       "      <td>Kilometers23,233 km</td>\n",
       "      <td>Year of PurchaseMarch 2014</td>\n",
       "      <td>OwnerSecond Owner</td>\n",
       "      <td>FuelPetrol</td>\n",
       "      <td>TransmissionMANUAL</td>\n",
       "      <td>RTOAP28</td>\n",
       "      <td>Insurance TypeComp</td>\n",
       "      <td>2014</td>\n",
       "      <td>Maruti</td>\n",
       "      <td>Wagon R 1.0 VXI</td>\n",
       "    </tr>\n",
       "    <tr>\n",
       "      <th>3</th>\n",
       "      <td>₹ 237,899</td>\n",
       "      <td>4.4out of 5</td>\n",
       "      <td>3686</td>\n",
       "      <td>Kilometers27,748 km</td>\n",
       "      <td>Year of PurchaseNovember 2013</td>\n",
       "      <td>OwnerFirst Owner</td>\n",
       "      <td>FuelPetrol</td>\n",
       "      <td>TransmissionMANUAL</td>\n",
       "      <td>RTOAP13</td>\n",
       "      <td>Insurance TypeComp</td>\n",
       "      <td>2013</td>\n",
       "      <td>Hyundai</td>\n",
       "      <td>Eon D LITE PLUS</td>\n",
       "    </tr>\n",
       "    <tr>\n",
       "      <th>4</th>\n",
       "      <td>₹ 300,699</td>\n",
       "      <td>4.4out of 5</td>\n",
       "      <td>3686</td>\n",
       "      <td>Kilometers12,238 km</td>\n",
       "      <td>Year of PurchaseAugust 2017</td>\n",
       "      <td>OwnerSecond Owner</td>\n",
       "      <td>FuelPetrol</td>\n",
       "      <td>TransmissionMANUAL</td>\n",
       "      <td>RTOTS10</td>\n",
       "      <td>Insurance TypeExpired</td>\n",
       "      <td>2017</td>\n",
       "      <td>Hyundai</td>\n",
       "      <td>Eon ERA PLUS</td>\n",
       "    </tr>\n",
       "  </tbody>\n",
       "</table>\n",
       "</div>"
      ],
      "text/plain": [
       "       Price       Rating  city           Kilometers  \\\n",
       "0  ₹ 174,699    4out of 5  3686  Kilometers34,854 km   \n",
       "1  ₹ 333,999  4.2out of 5  3686  Kilometers39,541 km   \n",
       "2  ₹ 353,199  4.3out of 5  3686  Kilometers23,233 km   \n",
       "3  ₹ 237,899  4.4out of 5  3686  Kilometers27,748 km   \n",
       "4  ₹ 300,699  4.4out of 5  3686  Kilometers12,238 km   \n",
       "\n",
       "                Year_of_Purchase              Owner   Fuel_Type  \\\n",
       "0       Year of PurchaseMay 2010   OwnerFirst Owner  FuelPetrol   \n",
       "1      Year of PurchaseJuly 2013  OwnerSecond Owner  FuelPetrol   \n",
       "2     Year of PurchaseMarch 2014  OwnerSecond Owner  FuelPetrol   \n",
       "3  Year of PurchaseNovember 2013   OwnerFirst Owner  FuelPetrol   \n",
       "4    Year of PurchaseAugust 2017  OwnerSecond Owner  FuelPetrol   \n",
       "\n",
       "         Transmission      RTO                   Insurance_Type  Year  \\\n",
       "0  TransmissionMANUAL  RTOAP09  Insurance TypeInsurance Expired  2010   \n",
       "1  TransmissionMANUAL  RTOAP28               Insurance TypeComp  2013   \n",
       "2  TransmissionMANUAL  RTOAP28               Insurance TypeComp  2014   \n",
       "3  TransmissionMANUAL  RTOAP13               Insurance TypeComp  2013   \n",
       "4  TransmissionMANUAL  RTOTS10            Insurance TypeExpired  2017   \n",
       "\n",
       "   Company        Car_Model  \n",
       "0   Maruti         Alto LXI  \n",
       "1   Maruti  Wagon R 1.0 VXI  \n",
       "2   Maruti  Wagon R 1.0 VXI  \n",
       "3  Hyundai  Eon D LITE PLUS  \n",
       "4  Hyundai     Eon ERA PLUS  "
      ]
     },
     "execution_count": 10,
     "metadata": {},
     "output_type": "execute_result"
    }
   ],
   "source": [
    "df.head()"
   ]
  },
  {
   "cell_type": "code",
   "execution_count": 11,
   "metadata": {},
   "outputs": [],
   "source": [
    "df['Year']=df['Year'].astype(int)"
   ]
  },
  {
   "cell_type": "code",
   "execution_count": 12,
   "metadata": {},
   "outputs": [],
   "source": [
    "df2=df['Price'].str.split(\" \",n=1,expand=True)\n",
    "df['Price']=df2[1]"
   ]
  },
  {
   "cell_type": "code",
   "execution_count": 13,
   "metadata": {},
   "outputs": [
    {
     "data": {
      "text/html": [
       "<div>\n",
       "<style scoped>\n",
       "    .dataframe tbody tr th:only-of-type {\n",
       "        vertical-align: middle;\n",
       "    }\n",
       "\n",
       "    .dataframe tbody tr th {\n",
       "        vertical-align: top;\n",
       "    }\n",
       "\n",
       "    .dataframe thead th {\n",
       "        text-align: right;\n",
       "    }\n",
       "</style>\n",
       "<table border=\"1\" class=\"dataframe\">\n",
       "  <thead>\n",
       "    <tr style=\"text-align: right;\">\n",
       "      <th></th>\n",
       "      <th>0</th>\n",
       "      <th>1</th>\n",
       "    </tr>\n",
       "  </thead>\n",
       "  <tbody>\n",
       "    <tr>\n",
       "      <th>0</th>\n",
       "      <td>₹</td>\n",
       "      <td>174,699</td>\n",
       "    </tr>\n",
       "    <tr>\n",
       "      <th>1</th>\n",
       "      <td>₹</td>\n",
       "      <td>333,999</td>\n",
       "    </tr>\n",
       "    <tr>\n",
       "      <th>2</th>\n",
       "      <td>₹</td>\n",
       "      <td>353,199</td>\n",
       "    </tr>\n",
       "    <tr>\n",
       "      <th>3</th>\n",
       "      <td>₹</td>\n",
       "      <td>237,899</td>\n",
       "    </tr>\n",
       "    <tr>\n",
       "      <th>4</th>\n",
       "      <td>₹</td>\n",
       "      <td>300,699</td>\n",
       "    </tr>\n",
       "  </tbody>\n",
       "</table>\n",
       "</div>"
      ],
      "text/plain": [
       "   0        1\n",
       "0  ₹  174,699\n",
       "1  ₹  333,999\n",
       "2  ₹  353,199\n",
       "3  ₹  237,899\n",
       "4  ₹  300,699"
      ]
     },
     "execution_count": 13,
     "metadata": {},
     "output_type": "execute_result"
    }
   ],
   "source": [
    "df2.head()"
   ]
  },
  {
   "cell_type": "code",
   "execution_count": 14,
   "metadata": {},
   "outputs": [
    {
     "data": {
      "text/html": [
       "<div>\n",
       "<style scoped>\n",
       "    .dataframe tbody tr th:only-of-type {\n",
       "        vertical-align: middle;\n",
       "    }\n",
       "\n",
       "    .dataframe tbody tr th {\n",
       "        vertical-align: top;\n",
       "    }\n",
       "\n",
       "    .dataframe thead th {\n",
       "        text-align: right;\n",
       "    }\n",
       "</style>\n",
       "<table border=\"1\" class=\"dataframe\">\n",
       "  <thead>\n",
       "    <tr style=\"text-align: right;\">\n",
       "      <th></th>\n",
       "      <th>Price</th>\n",
       "      <th>Rating</th>\n",
       "      <th>city</th>\n",
       "      <th>Kilometers</th>\n",
       "      <th>Year_of_Purchase</th>\n",
       "      <th>Owner</th>\n",
       "      <th>Fuel_Type</th>\n",
       "      <th>Transmission</th>\n",
       "      <th>RTO</th>\n",
       "      <th>Insurance_Type</th>\n",
       "      <th>Year</th>\n",
       "      <th>Company</th>\n",
       "      <th>Car_Model</th>\n",
       "    </tr>\n",
       "  </thead>\n",
       "  <tbody>\n",
       "    <tr>\n",
       "      <th>0</th>\n",
       "      <td>174,699</td>\n",
       "      <td>4out of 5</td>\n",
       "      <td>3686</td>\n",
       "      <td>Kilometers34,854 km</td>\n",
       "      <td>Year of PurchaseMay 2010</td>\n",
       "      <td>OwnerFirst Owner</td>\n",
       "      <td>FuelPetrol</td>\n",
       "      <td>TransmissionMANUAL</td>\n",
       "      <td>RTOAP09</td>\n",
       "      <td>Insurance TypeInsurance Expired</td>\n",
       "      <td>2010</td>\n",
       "      <td>Maruti</td>\n",
       "      <td>Alto LXI</td>\n",
       "    </tr>\n",
       "    <tr>\n",
       "      <th>1</th>\n",
       "      <td>333,999</td>\n",
       "      <td>4.2out of 5</td>\n",
       "      <td>3686</td>\n",
       "      <td>Kilometers39,541 km</td>\n",
       "      <td>Year of PurchaseJuly 2013</td>\n",
       "      <td>OwnerSecond Owner</td>\n",
       "      <td>FuelPetrol</td>\n",
       "      <td>TransmissionMANUAL</td>\n",
       "      <td>RTOAP28</td>\n",
       "      <td>Insurance TypeComp</td>\n",
       "      <td>2013</td>\n",
       "      <td>Maruti</td>\n",
       "      <td>Wagon R 1.0 VXI</td>\n",
       "    </tr>\n",
       "    <tr>\n",
       "      <th>2</th>\n",
       "      <td>353,199</td>\n",
       "      <td>4.3out of 5</td>\n",
       "      <td>3686</td>\n",
       "      <td>Kilometers23,233 km</td>\n",
       "      <td>Year of PurchaseMarch 2014</td>\n",
       "      <td>OwnerSecond Owner</td>\n",
       "      <td>FuelPetrol</td>\n",
       "      <td>TransmissionMANUAL</td>\n",
       "      <td>RTOAP28</td>\n",
       "      <td>Insurance TypeComp</td>\n",
       "      <td>2014</td>\n",
       "      <td>Maruti</td>\n",
       "      <td>Wagon R 1.0 VXI</td>\n",
       "    </tr>\n",
       "    <tr>\n",
       "      <th>3</th>\n",
       "      <td>237,899</td>\n",
       "      <td>4.4out of 5</td>\n",
       "      <td>3686</td>\n",
       "      <td>Kilometers27,748 km</td>\n",
       "      <td>Year of PurchaseNovember 2013</td>\n",
       "      <td>OwnerFirst Owner</td>\n",
       "      <td>FuelPetrol</td>\n",
       "      <td>TransmissionMANUAL</td>\n",
       "      <td>RTOAP13</td>\n",
       "      <td>Insurance TypeComp</td>\n",
       "      <td>2013</td>\n",
       "      <td>Hyundai</td>\n",
       "      <td>Eon D LITE PLUS</td>\n",
       "    </tr>\n",
       "    <tr>\n",
       "      <th>4</th>\n",
       "      <td>300,699</td>\n",
       "      <td>4.4out of 5</td>\n",
       "      <td>3686</td>\n",
       "      <td>Kilometers12,238 km</td>\n",
       "      <td>Year of PurchaseAugust 2017</td>\n",
       "      <td>OwnerSecond Owner</td>\n",
       "      <td>FuelPetrol</td>\n",
       "      <td>TransmissionMANUAL</td>\n",
       "      <td>RTOTS10</td>\n",
       "      <td>Insurance TypeExpired</td>\n",
       "      <td>2017</td>\n",
       "      <td>Hyundai</td>\n",
       "      <td>Eon ERA PLUS</td>\n",
       "    </tr>\n",
       "  </tbody>\n",
       "</table>\n",
       "</div>"
      ],
      "text/plain": [
       "     Price       Rating  city           Kilometers  \\\n",
       "0  174,699    4out of 5  3686  Kilometers34,854 km   \n",
       "1  333,999  4.2out of 5  3686  Kilometers39,541 km   \n",
       "2  353,199  4.3out of 5  3686  Kilometers23,233 km   \n",
       "3  237,899  4.4out of 5  3686  Kilometers27,748 km   \n",
       "4  300,699  4.4out of 5  3686  Kilometers12,238 km   \n",
       "\n",
       "                Year_of_Purchase              Owner   Fuel_Type  \\\n",
       "0       Year of PurchaseMay 2010   OwnerFirst Owner  FuelPetrol   \n",
       "1      Year of PurchaseJuly 2013  OwnerSecond Owner  FuelPetrol   \n",
       "2     Year of PurchaseMarch 2014  OwnerSecond Owner  FuelPetrol   \n",
       "3  Year of PurchaseNovember 2013   OwnerFirst Owner  FuelPetrol   \n",
       "4    Year of PurchaseAugust 2017  OwnerSecond Owner  FuelPetrol   \n",
       "\n",
       "         Transmission      RTO                   Insurance_Type  Year  \\\n",
       "0  TransmissionMANUAL  RTOAP09  Insurance TypeInsurance Expired  2010   \n",
       "1  TransmissionMANUAL  RTOAP28               Insurance TypeComp  2013   \n",
       "2  TransmissionMANUAL  RTOAP28               Insurance TypeComp  2014   \n",
       "3  TransmissionMANUAL  RTOAP13               Insurance TypeComp  2013   \n",
       "4  TransmissionMANUAL  RTOTS10            Insurance TypeExpired  2017   \n",
       "\n",
       "   Company        Car_Model  \n",
       "0   Maruti         Alto LXI  \n",
       "1   Maruti  Wagon R 1.0 VXI  \n",
       "2   Maruti  Wagon R 1.0 VXI  \n",
       "3  Hyundai  Eon D LITE PLUS  \n",
       "4  Hyundai     Eon ERA PLUS  "
      ]
     },
     "execution_count": 14,
     "metadata": {},
     "output_type": "execute_result"
    }
   ],
   "source": [
    "df.head()"
   ]
  },
  {
   "cell_type": "code",
   "execution_count": 15,
   "metadata": {},
   "outputs": [],
   "source": [
    "df['Price']=df['Price'].str.replace(',', '')"
   ]
  },
  {
   "cell_type": "code",
   "execution_count": null,
   "metadata": {},
   "outputs": [],
   "source": []
  },
  {
   "cell_type": "code",
   "execution_count": 16,
   "metadata": {},
   "outputs": [
    {
     "data": {
      "text/plain": [
       "Price               object\n",
       "Rating              object\n",
       "city                 int64\n",
       "Kilometers          object\n",
       "Year_of_Purchase    object\n",
       "Owner               object\n",
       "Fuel_Type           object\n",
       "Transmission        object\n",
       "RTO                 object\n",
       "Insurance_Type      object\n",
       "Year                 int32\n",
       "Company             object\n",
       "Car_Model           object\n",
       "dtype: object"
      ]
     },
     "execution_count": 16,
     "metadata": {},
     "output_type": "execute_result"
    }
   ],
   "source": [
    "df.dtypes"
   ]
  },
  {
   "cell_type": "code",
   "execution_count": 17,
   "metadata": {},
   "outputs": [
    {
     "data": {
      "text/html": [
       "<div>\n",
       "<style scoped>\n",
       "    .dataframe tbody tr th:only-of-type {\n",
       "        vertical-align: middle;\n",
       "    }\n",
       "\n",
       "    .dataframe tbody tr th {\n",
       "        vertical-align: top;\n",
       "    }\n",
       "\n",
       "    .dataframe thead th {\n",
       "        text-align: right;\n",
       "    }\n",
       "</style>\n",
       "<table border=\"1\" class=\"dataframe\">\n",
       "  <thead>\n",
       "    <tr style=\"text-align: right;\">\n",
       "      <th></th>\n",
       "      <th>Price</th>\n",
       "      <th>Rating</th>\n",
       "      <th>city</th>\n",
       "      <th>Kilometers</th>\n",
       "      <th>Year_of_Purchase</th>\n",
       "      <th>Owner</th>\n",
       "      <th>Fuel_Type</th>\n",
       "      <th>Transmission</th>\n",
       "      <th>RTO</th>\n",
       "      <th>Insurance_Type</th>\n",
       "      <th>Year</th>\n",
       "      <th>Company</th>\n",
       "      <th>Car_Model</th>\n",
       "    </tr>\n",
       "  </thead>\n",
       "  <tbody>\n",
       "    <tr>\n",
       "      <th>0</th>\n",
       "      <td>174699</td>\n",
       "      <td>4out of 5</td>\n",
       "      <td>3686</td>\n",
       "      <td>Kilometers34,854 km</td>\n",
       "      <td>Year of PurchaseMay 2010</td>\n",
       "      <td>OwnerFirst Owner</td>\n",
       "      <td>FuelPetrol</td>\n",
       "      <td>TransmissionMANUAL</td>\n",
       "      <td>RTOAP09</td>\n",
       "      <td>Insurance TypeInsurance Expired</td>\n",
       "      <td>2010</td>\n",
       "      <td>Maruti</td>\n",
       "      <td>Alto LXI</td>\n",
       "    </tr>\n",
       "    <tr>\n",
       "      <th>1</th>\n",
       "      <td>333999</td>\n",
       "      <td>4.2out of 5</td>\n",
       "      <td>3686</td>\n",
       "      <td>Kilometers39,541 km</td>\n",
       "      <td>Year of PurchaseJuly 2013</td>\n",
       "      <td>OwnerSecond Owner</td>\n",
       "      <td>FuelPetrol</td>\n",
       "      <td>TransmissionMANUAL</td>\n",
       "      <td>RTOAP28</td>\n",
       "      <td>Insurance TypeComp</td>\n",
       "      <td>2013</td>\n",
       "      <td>Maruti</td>\n",
       "      <td>Wagon R 1.0 VXI</td>\n",
       "    </tr>\n",
       "    <tr>\n",
       "      <th>2</th>\n",
       "      <td>353199</td>\n",
       "      <td>4.3out of 5</td>\n",
       "      <td>3686</td>\n",
       "      <td>Kilometers23,233 km</td>\n",
       "      <td>Year of PurchaseMarch 2014</td>\n",
       "      <td>OwnerSecond Owner</td>\n",
       "      <td>FuelPetrol</td>\n",
       "      <td>TransmissionMANUAL</td>\n",
       "      <td>RTOAP28</td>\n",
       "      <td>Insurance TypeComp</td>\n",
       "      <td>2014</td>\n",
       "      <td>Maruti</td>\n",
       "      <td>Wagon R 1.0 VXI</td>\n",
       "    </tr>\n",
       "    <tr>\n",
       "      <th>3</th>\n",
       "      <td>237899</td>\n",
       "      <td>4.4out of 5</td>\n",
       "      <td>3686</td>\n",
       "      <td>Kilometers27,748 km</td>\n",
       "      <td>Year of PurchaseNovember 2013</td>\n",
       "      <td>OwnerFirst Owner</td>\n",
       "      <td>FuelPetrol</td>\n",
       "      <td>TransmissionMANUAL</td>\n",
       "      <td>RTOAP13</td>\n",
       "      <td>Insurance TypeComp</td>\n",
       "      <td>2013</td>\n",
       "      <td>Hyundai</td>\n",
       "      <td>Eon D LITE PLUS</td>\n",
       "    </tr>\n",
       "    <tr>\n",
       "      <th>4</th>\n",
       "      <td>300699</td>\n",
       "      <td>4.4out of 5</td>\n",
       "      <td>3686</td>\n",
       "      <td>Kilometers12,238 km</td>\n",
       "      <td>Year of PurchaseAugust 2017</td>\n",
       "      <td>OwnerSecond Owner</td>\n",
       "      <td>FuelPetrol</td>\n",
       "      <td>TransmissionMANUAL</td>\n",
       "      <td>RTOTS10</td>\n",
       "      <td>Insurance TypeExpired</td>\n",
       "      <td>2017</td>\n",
       "      <td>Hyundai</td>\n",
       "      <td>Eon ERA PLUS</td>\n",
       "    </tr>\n",
       "  </tbody>\n",
       "</table>\n",
       "</div>"
      ],
      "text/plain": [
       "    Price       Rating  city           Kilometers  \\\n",
       "0  174699    4out of 5  3686  Kilometers34,854 km   \n",
       "1  333999  4.2out of 5  3686  Kilometers39,541 km   \n",
       "2  353199  4.3out of 5  3686  Kilometers23,233 km   \n",
       "3  237899  4.4out of 5  3686  Kilometers27,748 km   \n",
       "4  300699  4.4out of 5  3686  Kilometers12,238 km   \n",
       "\n",
       "                Year_of_Purchase              Owner   Fuel_Type  \\\n",
       "0       Year of PurchaseMay 2010   OwnerFirst Owner  FuelPetrol   \n",
       "1      Year of PurchaseJuly 2013  OwnerSecond Owner  FuelPetrol   \n",
       "2     Year of PurchaseMarch 2014  OwnerSecond Owner  FuelPetrol   \n",
       "3  Year of PurchaseNovember 2013   OwnerFirst Owner  FuelPetrol   \n",
       "4    Year of PurchaseAugust 2017  OwnerSecond Owner  FuelPetrol   \n",
       "\n",
       "         Transmission      RTO                   Insurance_Type  Year  \\\n",
       "0  TransmissionMANUAL  RTOAP09  Insurance TypeInsurance Expired  2010   \n",
       "1  TransmissionMANUAL  RTOAP28               Insurance TypeComp  2013   \n",
       "2  TransmissionMANUAL  RTOAP28               Insurance TypeComp  2014   \n",
       "3  TransmissionMANUAL  RTOAP13               Insurance TypeComp  2013   \n",
       "4  TransmissionMANUAL  RTOTS10            Insurance TypeExpired  2017   \n",
       "\n",
       "   Company        Car_Model  \n",
       "0   Maruti         Alto LXI  \n",
       "1   Maruti  Wagon R 1.0 VXI  \n",
       "2   Maruti  Wagon R 1.0 VXI  \n",
       "3  Hyundai  Eon D LITE PLUS  \n",
       "4  Hyundai     Eon ERA PLUS  "
      ]
     },
     "execution_count": 17,
     "metadata": {},
     "output_type": "execute_result"
    }
   ],
   "source": [
    "df.head()"
   ]
  },
  {
   "cell_type": "code",
   "execution_count": 18,
   "metadata": {},
   "outputs": [],
   "source": [
    "df['Price']=df['Price'].astype(int)"
   ]
  },
  {
   "cell_type": "code",
   "execution_count": 19,
   "metadata": {},
   "outputs": [
    {
     "data": {
      "text/plain": [
       "Price                int32\n",
       "Rating              object\n",
       "city                 int64\n",
       "Kilometers          object\n",
       "Year_of_Purchase    object\n",
       "Owner               object\n",
       "Fuel_Type           object\n",
       "Transmission        object\n",
       "RTO                 object\n",
       "Insurance_Type      object\n",
       "Year                 int32\n",
       "Company             object\n",
       "Car_Model           object\n",
       "dtype: object"
      ]
     },
     "execution_count": 19,
     "metadata": {},
     "output_type": "execute_result"
    }
   ],
   "source": [
    "df.dtypes"
   ]
  },
  {
   "cell_type": "code",
   "execution_count": 20,
   "metadata": {},
   "outputs": [],
   "source": [
    "df['Kilometers']=df['Kilometers'].str.replace('Kilometers', '')"
   ]
  },
  {
   "cell_type": "code",
   "execution_count": 21,
   "metadata": {},
   "outputs": [
    {
     "data": {
      "text/plain": [
       "Price                int32\n",
       "Rating              object\n",
       "city                 int64\n",
       "Kilometers          object\n",
       "Year_of_Purchase    object\n",
       "Owner               object\n",
       "Fuel_Type           object\n",
       "Transmission        object\n",
       "RTO                 object\n",
       "Insurance_Type      object\n",
       "Year                 int32\n",
       "Company             object\n",
       "Car_Model           object\n",
       "dtype: object"
      ]
     },
     "execution_count": 21,
     "metadata": {},
     "output_type": "execute_result"
    }
   ],
   "source": [
    "df.dtypes"
   ]
  },
  {
   "cell_type": "code",
   "execution_count": 22,
   "metadata": {},
   "outputs": [
    {
     "data": {
      "text/html": [
       "<div>\n",
       "<style scoped>\n",
       "    .dataframe tbody tr th:only-of-type {\n",
       "        vertical-align: middle;\n",
       "    }\n",
       "\n",
       "    .dataframe tbody tr th {\n",
       "        vertical-align: top;\n",
       "    }\n",
       "\n",
       "    .dataframe thead th {\n",
       "        text-align: right;\n",
       "    }\n",
       "</style>\n",
       "<table border=\"1\" class=\"dataframe\">\n",
       "  <thead>\n",
       "    <tr style=\"text-align: right;\">\n",
       "      <th></th>\n",
       "      <th>Price</th>\n",
       "      <th>Rating</th>\n",
       "      <th>city</th>\n",
       "      <th>Kilometers</th>\n",
       "      <th>Year_of_Purchase</th>\n",
       "      <th>Owner</th>\n",
       "      <th>Fuel_Type</th>\n",
       "      <th>Transmission</th>\n",
       "      <th>RTO</th>\n",
       "      <th>Insurance_Type</th>\n",
       "      <th>Year</th>\n",
       "      <th>Company</th>\n",
       "      <th>Car_Model</th>\n",
       "    </tr>\n",
       "  </thead>\n",
       "  <tbody>\n",
       "    <tr>\n",
       "      <th>0</th>\n",
       "      <td>174699</td>\n",
       "      <td>4out of 5</td>\n",
       "      <td>3686</td>\n",
       "      <td>34,854 km</td>\n",
       "      <td>Year of PurchaseMay 2010</td>\n",
       "      <td>OwnerFirst Owner</td>\n",
       "      <td>FuelPetrol</td>\n",
       "      <td>TransmissionMANUAL</td>\n",
       "      <td>RTOAP09</td>\n",
       "      <td>Insurance TypeInsurance Expired</td>\n",
       "      <td>2010</td>\n",
       "      <td>Maruti</td>\n",
       "      <td>Alto LXI</td>\n",
       "    </tr>\n",
       "    <tr>\n",
       "      <th>1</th>\n",
       "      <td>333999</td>\n",
       "      <td>4.2out of 5</td>\n",
       "      <td>3686</td>\n",
       "      <td>39,541 km</td>\n",
       "      <td>Year of PurchaseJuly 2013</td>\n",
       "      <td>OwnerSecond Owner</td>\n",
       "      <td>FuelPetrol</td>\n",
       "      <td>TransmissionMANUAL</td>\n",
       "      <td>RTOAP28</td>\n",
       "      <td>Insurance TypeComp</td>\n",
       "      <td>2013</td>\n",
       "      <td>Maruti</td>\n",
       "      <td>Wagon R 1.0 VXI</td>\n",
       "    </tr>\n",
       "    <tr>\n",
       "      <th>2</th>\n",
       "      <td>353199</td>\n",
       "      <td>4.3out of 5</td>\n",
       "      <td>3686</td>\n",
       "      <td>23,233 km</td>\n",
       "      <td>Year of PurchaseMarch 2014</td>\n",
       "      <td>OwnerSecond Owner</td>\n",
       "      <td>FuelPetrol</td>\n",
       "      <td>TransmissionMANUAL</td>\n",
       "      <td>RTOAP28</td>\n",
       "      <td>Insurance TypeComp</td>\n",
       "      <td>2014</td>\n",
       "      <td>Maruti</td>\n",
       "      <td>Wagon R 1.0 VXI</td>\n",
       "    </tr>\n",
       "    <tr>\n",
       "      <th>3</th>\n",
       "      <td>237899</td>\n",
       "      <td>4.4out of 5</td>\n",
       "      <td>3686</td>\n",
       "      <td>27,748 km</td>\n",
       "      <td>Year of PurchaseNovember 2013</td>\n",
       "      <td>OwnerFirst Owner</td>\n",
       "      <td>FuelPetrol</td>\n",
       "      <td>TransmissionMANUAL</td>\n",
       "      <td>RTOAP13</td>\n",
       "      <td>Insurance TypeComp</td>\n",
       "      <td>2013</td>\n",
       "      <td>Hyundai</td>\n",
       "      <td>Eon D LITE PLUS</td>\n",
       "    </tr>\n",
       "    <tr>\n",
       "      <th>4</th>\n",
       "      <td>300699</td>\n",
       "      <td>4.4out of 5</td>\n",
       "      <td>3686</td>\n",
       "      <td>12,238 km</td>\n",
       "      <td>Year of PurchaseAugust 2017</td>\n",
       "      <td>OwnerSecond Owner</td>\n",
       "      <td>FuelPetrol</td>\n",
       "      <td>TransmissionMANUAL</td>\n",
       "      <td>RTOTS10</td>\n",
       "      <td>Insurance TypeExpired</td>\n",
       "      <td>2017</td>\n",
       "      <td>Hyundai</td>\n",
       "      <td>Eon ERA PLUS</td>\n",
       "    </tr>\n",
       "  </tbody>\n",
       "</table>\n",
       "</div>"
      ],
      "text/plain": [
       "    Price       Rating  city Kilometers               Year_of_Purchase  \\\n",
       "0  174699    4out of 5  3686  34,854 km       Year of PurchaseMay 2010   \n",
       "1  333999  4.2out of 5  3686  39,541 km      Year of PurchaseJuly 2013   \n",
       "2  353199  4.3out of 5  3686  23,233 km     Year of PurchaseMarch 2014   \n",
       "3  237899  4.4out of 5  3686  27,748 km  Year of PurchaseNovember 2013   \n",
       "4  300699  4.4out of 5  3686  12,238 km    Year of PurchaseAugust 2017   \n",
       "\n",
       "               Owner   Fuel_Type        Transmission      RTO  \\\n",
       "0   OwnerFirst Owner  FuelPetrol  TransmissionMANUAL  RTOAP09   \n",
       "1  OwnerSecond Owner  FuelPetrol  TransmissionMANUAL  RTOAP28   \n",
       "2  OwnerSecond Owner  FuelPetrol  TransmissionMANUAL  RTOAP28   \n",
       "3   OwnerFirst Owner  FuelPetrol  TransmissionMANUAL  RTOAP13   \n",
       "4  OwnerSecond Owner  FuelPetrol  TransmissionMANUAL  RTOTS10   \n",
       "\n",
       "                    Insurance_Type  Year  Company        Car_Model  \n",
       "0  Insurance TypeInsurance Expired  2010   Maruti         Alto LXI  \n",
       "1               Insurance TypeComp  2013   Maruti  Wagon R 1.0 VXI  \n",
       "2               Insurance TypeComp  2014   Maruti  Wagon R 1.0 VXI  \n",
       "3               Insurance TypeComp  2013  Hyundai  Eon D LITE PLUS  \n",
       "4            Insurance TypeExpired  2017  Hyundai     Eon ERA PLUS  "
      ]
     },
     "execution_count": 22,
     "metadata": {},
     "output_type": "execute_result"
    }
   ],
   "source": [
    "df.head()"
   ]
  },
  {
   "cell_type": "code",
   "execution_count": 23,
   "metadata": {},
   "outputs": [],
   "source": [
    "df2=df['Kilometers'].str.split(\" \",n=1,expand=True)\n",
    "df['Kilometers']=df2[0]"
   ]
  },
  {
   "cell_type": "code",
   "execution_count": 24,
   "metadata": {},
   "outputs": [
    {
     "data": {
      "text/html": [
       "<div>\n",
       "<style scoped>\n",
       "    .dataframe tbody tr th:only-of-type {\n",
       "        vertical-align: middle;\n",
       "    }\n",
       "\n",
       "    .dataframe tbody tr th {\n",
       "        vertical-align: top;\n",
       "    }\n",
       "\n",
       "    .dataframe thead th {\n",
       "        text-align: right;\n",
       "    }\n",
       "</style>\n",
       "<table border=\"1\" class=\"dataframe\">\n",
       "  <thead>\n",
       "    <tr style=\"text-align: right;\">\n",
       "      <th></th>\n",
       "      <th>0</th>\n",
       "      <th>1</th>\n",
       "    </tr>\n",
       "  </thead>\n",
       "  <tbody>\n",
       "    <tr>\n",
       "      <th>0</th>\n",
       "      <td>34,854</td>\n",
       "      <td>km</td>\n",
       "    </tr>\n",
       "    <tr>\n",
       "      <th>1</th>\n",
       "      <td>39,541</td>\n",
       "      <td>km</td>\n",
       "    </tr>\n",
       "    <tr>\n",
       "      <th>2</th>\n",
       "      <td>23,233</td>\n",
       "      <td>km</td>\n",
       "    </tr>\n",
       "    <tr>\n",
       "      <th>3</th>\n",
       "      <td>27,748</td>\n",
       "      <td>km</td>\n",
       "    </tr>\n",
       "    <tr>\n",
       "      <th>4</th>\n",
       "      <td>12,238</td>\n",
       "      <td>km</td>\n",
       "    </tr>\n",
       "  </tbody>\n",
       "</table>\n",
       "</div>"
      ],
      "text/plain": [
       "        0   1\n",
       "0  34,854  km\n",
       "1  39,541  km\n",
       "2  23,233  km\n",
       "3  27,748  km\n",
       "4  12,238  km"
      ]
     },
     "execution_count": 24,
     "metadata": {},
     "output_type": "execute_result"
    }
   ],
   "source": [
    "df2.head()"
   ]
  },
  {
   "cell_type": "code",
   "execution_count": 25,
   "metadata": {},
   "outputs": [
    {
     "data": {
      "text/html": [
       "<div>\n",
       "<style scoped>\n",
       "    .dataframe tbody tr th:only-of-type {\n",
       "        vertical-align: middle;\n",
       "    }\n",
       "\n",
       "    .dataframe tbody tr th {\n",
       "        vertical-align: top;\n",
       "    }\n",
       "\n",
       "    .dataframe thead th {\n",
       "        text-align: right;\n",
       "    }\n",
       "</style>\n",
       "<table border=\"1\" class=\"dataframe\">\n",
       "  <thead>\n",
       "    <tr style=\"text-align: right;\">\n",
       "      <th></th>\n",
       "      <th>Price</th>\n",
       "      <th>Rating</th>\n",
       "      <th>city</th>\n",
       "      <th>Kilometers</th>\n",
       "      <th>Year_of_Purchase</th>\n",
       "      <th>Owner</th>\n",
       "      <th>Fuel_Type</th>\n",
       "      <th>Transmission</th>\n",
       "      <th>RTO</th>\n",
       "      <th>Insurance_Type</th>\n",
       "      <th>Year</th>\n",
       "      <th>Company</th>\n",
       "      <th>Car_Model</th>\n",
       "    </tr>\n",
       "  </thead>\n",
       "  <tbody>\n",
       "    <tr>\n",
       "      <th>0</th>\n",
       "      <td>174699</td>\n",
       "      <td>4out of 5</td>\n",
       "      <td>3686</td>\n",
       "      <td>34,854</td>\n",
       "      <td>Year of PurchaseMay 2010</td>\n",
       "      <td>OwnerFirst Owner</td>\n",
       "      <td>FuelPetrol</td>\n",
       "      <td>TransmissionMANUAL</td>\n",
       "      <td>RTOAP09</td>\n",
       "      <td>Insurance TypeInsurance Expired</td>\n",
       "      <td>2010</td>\n",
       "      <td>Maruti</td>\n",
       "      <td>Alto LXI</td>\n",
       "    </tr>\n",
       "    <tr>\n",
       "      <th>1</th>\n",
       "      <td>333999</td>\n",
       "      <td>4.2out of 5</td>\n",
       "      <td>3686</td>\n",
       "      <td>39,541</td>\n",
       "      <td>Year of PurchaseJuly 2013</td>\n",
       "      <td>OwnerSecond Owner</td>\n",
       "      <td>FuelPetrol</td>\n",
       "      <td>TransmissionMANUAL</td>\n",
       "      <td>RTOAP28</td>\n",
       "      <td>Insurance TypeComp</td>\n",
       "      <td>2013</td>\n",
       "      <td>Maruti</td>\n",
       "      <td>Wagon R 1.0 VXI</td>\n",
       "    </tr>\n",
       "    <tr>\n",
       "      <th>2</th>\n",
       "      <td>353199</td>\n",
       "      <td>4.3out of 5</td>\n",
       "      <td>3686</td>\n",
       "      <td>23,233</td>\n",
       "      <td>Year of PurchaseMarch 2014</td>\n",
       "      <td>OwnerSecond Owner</td>\n",
       "      <td>FuelPetrol</td>\n",
       "      <td>TransmissionMANUAL</td>\n",
       "      <td>RTOAP28</td>\n",
       "      <td>Insurance TypeComp</td>\n",
       "      <td>2014</td>\n",
       "      <td>Maruti</td>\n",
       "      <td>Wagon R 1.0 VXI</td>\n",
       "    </tr>\n",
       "    <tr>\n",
       "      <th>3</th>\n",
       "      <td>237899</td>\n",
       "      <td>4.4out of 5</td>\n",
       "      <td>3686</td>\n",
       "      <td>27,748</td>\n",
       "      <td>Year of PurchaseNovember 2013</td>\n",
       "      <td>OwnerFirst Owner</td>\n",
       "      <td>FuelPetrol</td>\n",
       "      <td>TransmissionMANUAL</td>\n",
       "      <td>RTOAP13</td>\n",
       "      <td>Insurance TypeComp</td>\n",
       "      <td>2013</td>\n",
       "      <td>Hyundai</td>\n",
       "      <td>Eon D LITE PLUS</td>\n",
       "    </tr>\n",
       "    <tr>\n",
       "      <th>4</th>\n",
       "      <td>300699</td>\n",
       "      <td>4.4out of 5</td>\n",
       "      <td>3686</td>\n",
       "      <td>12,238</td>\n",
       "      <td>Year of PurchaseAugust 2017</td>\n",
       "      <td>OwnerSecond Owner</td>\n",
       "      <td>FuelPetrol</td>\n",
       "      <td>TransmissionMANUAL</td>\n",
       "      <td>RTOTS10</td>\n",
       "      <td>Insurance TypeExpired</td>\n",
       "      <td>2017</td>\n",
       "      <td>Hyundai</td>\n",
       "      <td>Eon ERA PLUS</td>\n",
       "    </tr>\n",
       "  </tbody>\n",
       "</table>\n",
       "</div>"
      ],
      "text/plain": [
       "    Price       Rating  city Kilometers               Year_of_Purchase  \\\n",
       "0  174699    4out of 5  3686     34,854       Year of PurchaseMay 2010   \n",
       "1  333999  4.2out of 5  3686     39,541      Year of PurchaseJuly 2013   \n",
       "2  353199  4.3out of 5  3686     23,233     Year of PurchaseMarch 2014   \n",
       "3  237899  4.4out of 5  3686     27,748  Year of PurchaseNovember 2013   \n",
       "4  300699  4.4out of 5  3686     12,238    Year of PurchaseAugust 2017   \n",
       "\n",
       "               Owner   Fuel_Type        Transmission      RTO  \\\n",
       "0   OwnerFirst Owner  FuelPetrol  TransmissionMANUAL  RTOAP09   \n",
       "1  OwnerSecond Owner  FuelPetrol  TransmissionMANUAL  RTOAP28   \n",
       "2  OwnerSecond Owner  FuelPetrol  TransmissionMANUAL  RTOAP28   \n",
       "3   OwnerFirst Owner  FuelPetrol  TransmissionMANUAL  RTOAP13   \n",
       "4  OwnerSecond Owner  FuelPetrol  TransmissionMANUAL  RTOTS10   \n",
       "\n",
       "                    Insurance_Type  Year  Company        Car_Model  \n",
       "0  Insurance TypeInsurance Expired  2010   Maruti         Alto LXI  \n",
       "1               Insurance TypeComp  2013   Maruti  Wagon R 1.0 VXI  \n",
       "2               Insurance TypeComp  2014   Maruti  Wagon R 1.0 VXI  \n",
       "3               Insurance TypeComp  2013  Hyundai  Eon D LITE PLUS  \n",
       "4            Insurance TypeExpired  2017  Hyundai     Eon ERA PLUS  "
      ]
     },
     "execution_count": 25,
     "metadata": {},
     "output_type": "execute_result"
    }
   ],
   "source": [
    "df.head()"
   ]
  },
  {
   "cell_type": "code",
   "execution_count": 26,
   "metadata": {},
   "outputs": [],
   "source": [
    "df['Kilometers']=df['Kilometers'].str.replace(',', '')"
   ]
  },
  {
   "cell_type": "code",
   "execution_count": 27,
   "metadata": {},
   "outputs": [
    {
     "data": {
      "text/html": [
       "<div>\n",
       "<style scoped>\n",
       "    .dataframe tbody tr th:only-of-type {\n",
       "        vertical-align: middle;\n",
       "    }\n",
       "\n",
       "    .dataframe tbody tr th {\n",
       "        vertical-align: top;\n",
       "    }\n",
       "\n",
       "    .dataframe thead th {\n",
       "        text-align: right;\n",
       "    }\n",
       "</style>\n",
       "<table border=\"1\" class=\"dataframe\">\n",
       "  <thead>\n",
       "    <tr style=\"text-align: right;\">\n",
       "      <th></th>\n",
       "      <th>Price</th>\n",
       "      <th>Rating</th>\n",
       "      <th>city</th>\n",
       "      <th>Kilometers</th>\n",
       "      <th>Year_of_Purchase</th>\n",
       "      <th>Owner</th>\n",
       "      <th>Fuel_Type</th>\n",
       "      <th>Transmission</th>\n",
       "      <th>RTO</th>\n",
       "      <th>Insurance_Type</th>\n",
       "      <th>Year</th>\n",
       "      <th>Company</th>\n",
       "      <th>Car_Model</th>\n",
       "    </tr>\n",
       "  </thead>\n",
       "  <tbody>\n",
       "    <tr>\n",
       "      <th>0</th>\n",
       "      <td>174699</td>\n",
       "      <td>4out of 5</td>\n",
       "      <td>3686</td>\n",
       "      <td>34854</td>\n",
       "      <td>Year of PurchaseMay 2010</td>\n",
       "      <td>OwnerFirst Owner</td>\n",
       "      <td>FuelPetrol</td>\n",
       "      <td>TransmissionMANUAL</td>\n",
       "      <td>RTOAP09</td>\n",
       "      <td>Insurance TypeInsurance Expired</td>\n",
       "      <td>2010</td>\n",
       "      <td>Maruti</td>\n",
       "      <td>Alto LXI</td>\n",
       "    </tr>\n",
       "    <tr>\n",
       "      <th>1</th>\n",
       "      <td>333999</td>\n",
       "      <td>4.2out of 5</td>\n",
       "      <td>3686</td>\n",
       "      <td>39541</td>\n",
       "      <td>Year of PurchaseJuly 2013</td>\n",
       "      <td>OwnerSecond Owner</td>\n",
       "      <td>FuelPetrol</td>\n",
       "      <td>TransmissionMANUAL</td>\n",
       "      <td>RTOAP28</td>\n",
       "      <td>Insurance TypeComp</td>\n",
       "      <td>2013</td>\n",
       "      <td>Maruti</td>\n",
       "      <td>Wagon R 1.0 VXI</td>\n",
       "    </tr>\n",
       "    <tr>\n",
       "      <th>2</th>\n",
       "      <td>353199</td>\n",
       "      <td>4.3out of 5</td>\n",
       "      <td>3686</td>\n",
       "      <td>23233</td>\n",
       "      <td>Year of PurchaseMarch 2014</td>\n",
       "      <td>OwnerSecond Owner</td>\n",
       "      <td>FuelPetrol</td>\n",
       "      <td>TransmissionMANUAL</td>\n",
       "      <td>RTOAP28</td>\n",
       "      <td>Insurance TypeComp</td>\n",
       "      <td>2014</td>\n",
       "      <td>Maruti</td>\n",
       "      <td>Wagon R 1.0 VXI</td>\n",
       "    </tr>\n",
       "    <tr>\n",
       "      <th>3</th>\n",
       "      <td>237899</td>\n",
       "      <td>4.4out of 5</td>\n",
       "      <td>3686</td>\n",
       "      <td>27748</td>\n",
       "      <td>Year of PurchaseNovember 2013</td>\n",
       "      <td>OwnerFirst Owner</td>\n",
       "      <td>FuelPetrol</td>\n",
       "      <td>TransmissionMANUAL</td>\n",
       "      <td>RTOAP13</td>\n",
       "      <td>Insurance TypeComp</td>\n",
       "      <td>2013</td>\n",
       "      <td>Hyundai</td>\n",
       "      <td>Eon D LITE PLUS</td>\n",
       "    </tr>\n",
       "    <tr>\n",
       "      <th>4</th>\n",
       "      <td>300699</td>\n",
       "      <td>4.4out of 5</td>\n",
       "      <td>3686</td>\n",
       "      <td>12238</td>\n",
       "      <td>Year of PurchaseAugust 2017</td>\n",
       "      <td>OwnerSecond Owner</td>\n",
       "      <td>FuelPetrol</td>\n",
       "      <td>TransmissionMANUAL</td>\n",
       "      <td>RTOTS10</td>\n",
       "      <td>Insurance TypeExpired</td>\n",
       "      <td>2017</td>\n",
       "      <td>Hyundai</td>\n",
       "      <td>Eon ERA PLUS</td>\n",
       "    </tr>\n",
       "  </tbody>\n",
       "</table>\n",
       "</div>"
      ],
      "text/plain": [
       "    Price       Rating  city Kilometers               Year_of_Purchase  \\\n",
       "0  174699    4out of 5  3686      34854       Year of PurchaseMay 2010   \n",
       "1  333999  4.2out of 5  3686      39541      Year of PurchaseJuly 2013   \n",
       "2  353199  4.3out of 5  3686      23233     Year of PurchaseMarch 2014   \n",
       "3  237899  4.4out of 5  3686      27748  Year of PurchaseNovember 2013   \n",
       "4  300699  4.4out of 5  3686      12238    Year of PurchaseAugust 2017   \n",
       "\n",
       "               Owner   Fuel_Type        Transmission      RTO  \\\n",
       "0   OwnerFirst Owner  FuelPetrol  TransmissionMANUAL  RTOAP09   \n",
       "1  OwnerSecond Owner  FuelPetrol  TransmissionMANUAL  RTOAP28   \n",
       "2  OwnerSecond Owner  FuelPetrol  TransmissionMANUAL  RTOAP28   \n",
       "3   OwnerFirst Owner  FuelPetrol  TransmissionMANUAL  RTOAP13   \n",
       "4  OwnerSecond Owner  FuelPetrol  TransmissionMANUAL  RTOTS10   \n",
       "\n",
       "                    Insurance_Type  Year  Company        Car_Model  \n",
       "0  Insurance TypeInsurance Expired  2010   Maruti         Alto LXI  \n",
       "1               Insurance TypeComp  2013   Maruti  Wagon R 1.0 VXI  \n",
       "2               Insurance TypeComp  2014   Maruti  Wagon R 1.0 VXI  \n",
       "3               Insurance TypeComp  2013  Hyundai  Eon D LITE PLUS  \n",
       "4            Insurance TypeExpired  2017  Hyundai     Eon ERA PLUS  "
      ]
     },
     "execution_count": 27,
     "metadata": {},
     "output_type": "execute_result"
    }
   ],
   "source": [
    "df.head()"
   ]
  },
  {
   "cell_type": "code",
   "execution_count": 28,
   "metadata": {},
   "outputs": [],
   "source": [
    "df['Kilometers']=df['Kilometers'].astype(int)"
   ]
  },
  {
   "cell_type": "code",
   "execution_count": 29,
   "metadata": {},
   "outputs": [
    {
     "data": {
      "text/plain": [
       "Price                int32\n",
       "Rating              object\n",
       "city                 int64\n",
       "Kilometers           int32\n",
       "Year_of_Purchase    object\n",
       "Owner               object\n",
       "Fuel_Type           object\n",
       "Transmission        object\n",
       "RTO                 object\n",
       "Insurance_Type      object\n",
       "Year                 int32\n",
       "Company             object\n",
       "Car_Model           object\n",
       "dtype: object"
      ]
     },
     "execution_count": 29,
     "metadata": {},
     "output_type": "execute_result"
    }
   ],
   "source": [
    "df.dtypes"
   ]
  },
  {
   "cell_type": "code",
   "execution_count": 30,
   "metadata": {},
   "outputs": [],
   "source": [
    "df['Owner']=df['Owner'].str.replace('Owner', '')"
   ]
  },
  {
   "cell_type": "code",
   "execution_count": 31,
   "metadata": {},
   "outputs": [
    {
     "data": {
      "text/html": [
       "<div>\n",
       "<style scoped>\n",
       "    .dataframe tbody tr th:only-of-type {\n",
       "        vertical-align: middle;\n",
       "    }\n",
       "\n",
       "    .dataframe tbody tr th {\n",
       "        vertical-align: top;\n",
       "    }\n",
       "\n",
       "    .dataframe thead th {\n",
       "        text-align: right;\n",
       "    }\n",
       "</style>\n",
       "<table border=\"1\" class=\"dataframe\">\n",
       "  <thead>\n",
       "    <tr style=\"text-align: right;\">\n",
       "      <th></th>\n",
       "      <th>Price</th>\n",
       "      <th>Rating</th>\n",
       "      <th>city</th>\n",
       "      <th>Kilometers</th>\n",
       "      <th>Year_of_Purchase</th>\n",
       "      <th>Owner</th>\n",
       "      <th>Fuel_Type</th>\n",
       "      <th>Transmission</th>\n",
       "      <th>RTO</th>\n",
       "      <th>Insurance_Type</th>\n",
       "      <th>Year</th>\n",
       "      <th>Company</th>\n",
       "      <th>Car_Model</th>\n",
       "    </tr>\n",
       "  </thead>\n",
       "  <tbody>\n",
       "    <tr>\n",
       "      <th>0</th>\n",
       "      <td>174699</td>\n",
       "      <td>4out of 5</td>\n",
       "      <td>3686</td>\n",
       "      <td>34854</td>\n",
       "      <td>Year of PurchaseMay 2010</td>\n",
       "      <td>First</td>\n",
       "      <td>FuelPetrol</td>\n",
       "      <td>TransmissionMANUAL</td>\n",
       "      <td>RTOAP09</td>\n",
       "      <td>Insurance TypeInsurance Expired</td>\n",
       "      <td>2010</td>\n",
       "      <td>Maruti</td>\n",
       "      <td>Alto LXI</td>\n",
       "    </tr>\n",
       "    <tr>\n",
       "      <th>1</th>\n",
       "      <td>333999</td>\n",
       "      <td>4.2out of 5</td>\n",
       "      <td>3686</td>\n",
       "      <td>39541</td>\n",
       "      <td>Year of PurchaseJuly 2013</td>\n",
       "      <td>Second</td>\n",
       "      <td>FuelPetrol</td>\n",
       "      <td>TransmissionMANUAL</td>\n",
       "      <td>RTOAP28</td>\n",
       "      <td>Insurance TypeComp</td>\n",
       "      <td>2013</td>\n",
       "      <td>Maruti</td>\n",
       "      <td>Wagon R 1.0 VXI</td>\n",
       "    </tr>\n",
       "    <tr>\n",
       "      <th>2</th>\n",
       "      <td>353199</td>\n",
       "      <td>4.3out of 5</td>\n",
       "      <td>3686</td>\n",
       "      <td>23233</td>\n",
       "      <td>Year of PurchaseMarch 2014</td>\n",
       "      <td>Second</td>\n",
       "      <td>FuelPetrol</td>\n",
       "      <td>TransmissionMANUAL</td>\n",
       "      <td>RTOAP28</td>\n",
       "      <td>Insurance TypeComp</td>\n",
       "      <td>2014</td>\n",
       "      <td>Maruti</td>\n",
       "      <td>Wagon R 1.0 VXI</td>\n",
       "    </tr>\n",
       "    <tr>\n",
       "      <th>3</th>\n",
       "      <td>237899</td>\n",
       "      <td>4.4out of 5</td>\n",
       "      <td>3686</td>\n",
       "      <td>27748</td>\n",
       "      <td>Year of PurchaseNovember 2013</td>\n",
       "      <td>First</td>\n",
       "      <td>FuelPetrol</td>\n",
       "      <td>TransmissionMANUAL</td>\n",
       "      <td>RTOAP13</td>\n",
       "      <td>Insurance TypeComp</td>\n",
       "      <td>2013</td>\n",
       "      <td>Hyundai</td>\n",
       "      <td>Eon D LITE PLUS</td>\n",
       "    </tr>\n",
       "    <tr>\n",
       "      <th>4</th>\n",
       "      <td>300699</td>\n",
       "      <td>4.4out of 5</td>\n",
       "      <td>3686</td>\n",
       "      <td>12238</td>\n",
       "      <td>Year of PurchaseAugust 2017</td>\n",
       "      <td>Second</td>\n",
       "      <td>FuelPetrol</td>\n",
       "      <td>TransmissionMANUAL</td>\n",
       "      <td>RTOTS10</td>\n",
       "      <td>Insurance TypeExpired</td>\n",
       "      <td>2017</td>\n",
       "      <td>Hyundai</td>\n",
       "      <td>Eon ERA PLUS</td>\n",
       "    </tr>\n",
       "  </tbody>\n",
       "</table>\n",
       "</div>"
      ],
      "text/plain": [
       "    Price       Rating  city  Kilometers               Year_of_Purchase  \\\n",
       "0  174699    4out of 5  3686       34854       Year of PurchaseMay 2010   \n",
       "1  333999  4.2out of 5  3686       39541      Year of PurchaseJuly 2013   \n",
       "2  353199  4.3out of 5  3686       23233     Year of PurchaseMarch 2014   \n",
       "3  237899  4.4out of 5  3686       27748  Year of PurchaseNovember 2013   \n",
       "4  300699  4.4out of 5  3686       12238    Year of PurchaseAugust 2017   \n",
       "\n",
       "     Owner   Fuel_Type        Transmission      RTO  \\\n",
       "0   First   FuelPetrol  TransmissionMANUAL  RTOAP09   \n",
       "1  Second   FuelPetrol  TransmissionMANUAL  RTOAP28   \n",
       "2  Second   FuelPetrol  TransmissionMANUAL  RTOAP28   \n",
       "3   First   FuelPetrol  TransmissionMANUAL  RTOAP13   \n",
       "4  Second   FuelPetrol  TransmissionMANUAL  RTOTS10   \n",
       "\n",
       "                    Insurance_Type  Year  Company        Car_Model  \n",
       "0  Insurance TypeInsurance Expired  2010   Maruti         Alto LXI  \n",
       "1               Insurance TypeComp  2013   Maruti  Wagon R 1.0 VXI  \n",
       "2               Insurance TypeComp  2014   Maruti  Wagon R 1.0 VXI  \n",
       "3               Insurance TypeComp  2013  Hyundai  Eon D LITE PLUS  \n",
       "4            Insurance TypeExpired  2017  Hyundai     Eon ERA PLUS  "
      ]
     },
     "execution_count": 31,
     "metadata": {},
     "output_type": "execute_result"
    }
   ],
   "source": [
    "df.head()"
   ]
  },
  {
   "cell_type": "code",
   "execution_count": 32,
   "metadata": {},
   "outputs": [],
   "source": [
    "df['Transmission']=df['Transmission'].str.replace('Transmission', '')"
   ]
  },
  {
   "cell_type": "code",
   "execution_count": 33,
   "metadata": {},
   "outputs": [],
   "source": [
    "df['Insurance_Type']=df['Insurance_Type'].str.replace('Insurance', '')"
   ]
  },
  {
   "cell_type": "code",
   "execution_count": 34,
   "metadata": {},
   "outputs": [],
   "source": [
    "df['Fuel_Type']=df['Fuel_Type'].str.replace('Fuel', '')"
   ]
  },
  {
   "cell_type": "code",
   "execution_count": 35,
   "metadata": {},
   "outputs": [],
   "source": [
    "df['Rating']=df['Rating'].str.replace('out of 5', '')"
   ]
  },
  {
   "cell_type": "code",
   "execution_count": 36,
   "metadata": {},
   "outputs": [],
   "source": [
    "df['Rating']=df['Rating'].astype(float)"
   ]
  },
  {
   "cell_type": "code",
   "execution_count": 37,
   "metadata": {},
   "outputs": [],
   "source": [
    "df[\"Insurance_Type\"]=df[\"Insurance_Type\"].str.replace('Comp', 'Comprehensive')\n",
    "df[\"Insurance_Type\"]=df[\"Insurance_Type\"].str.replace('Zero_Dep', 'ZeroDepreciation')\n",
    "df[\"Insurance_Type\"]=df[\"Insurance_Type\"].str.replace('3rdParty', 'Third_party')\n",
    "df[\"Insurance_Type\"]=df[\"Insurance_Type\"].str.replace('NotAvailable', 'Expired')"
   ]
  },
  {
   "cell_type": "code",
   "execution_count": 38,
   "metadata": {},
   "outputs": [
    {
     "data": {
      "text/html": [
       "<div>\n",
       "<style scoped>\n",
       "    .dataframe tbody tr th:only-of-type {\n",
       "        vertical-align: middle;\n",
       "    }\n",
       "\n",
       "    .dataframe tbody tr th {\n",
       "        vertical-align: top;\n",
       "    }\n",
       "\n",
       "    .dataframe thead th {\n",
       "        text-align: right;\n",
       "    }\n",
       "</style>\n",
       "<table border=\"1\" class=\"dataframe\">\n",
       "  <thead>\n",
       "    <tr style=\"text-align: right;\">\n",
       "      <th></th>\n",
       "      <th>Price</th>\n",
       "      <th>Rating</th>\n",
       "      <th>city</th>\n",
       "      <th>Kilometers</th>\n",
       "      <th>Year_of_Purchase</th>\n",
       "      <th>Owner</th>\n",
       "      <th>Fuel_Type</th>\n",
       "      <th>Transmission</th>\n",
       "      <th>RTO</th>\n",
       "      <th>Insurance_Type</th>\n",
       "      <th>Year</th>\n",
       "      <th>Company</th>\n",
       "      <th>Car_Model</th>\n",
       "    </tr>\n",
       "  </thead>\n",
       "  <tbody>\n",
       "    <tr>\n",
       "      <th>0</th>\n",
       "      <td>174699</td>\n",
       "      <td>4.0</td>\n",
       "      <td>3686</td>\n",
       "      <td>34854</td>\n",
       "      <td>Year of PurchaseMay 2010</td>\n",
       "      <td>First</td>\n",
       "      <td>Petrol</td>\n",
       "      <td>MANUAL</td>\n",
       "      <td>RTOAP09</td>\n",
       "      <td>Type Expired</td>\n",
       "      <td>2010</td>\n",
       "      <td>Maruti</td>\n",
       "      <td>Alto LXI</td>\n",
       "    </tr>\n",
       "    <tr>\n",
       "      <th>1</th>\n",
       "      <td>333999</td>\n",
       "      <td>4.2</td>\n",
       "      <td>3686</td>\n",
       "      <td>39541</td>\n",
       "      <td>Year of PurchaseJuly 2013</td>\n",
       "      <td>Second</td>\n",
       "      <td>Petrol</td>\n",
       "      <td>MANUAL</td>\n",
       "      <td>RTOAP28</td>\n",
       "      <td>TypeComprehensive</td>\n",
       "      <td>2013</td>\n",
       "      <td>Maruti</td>\n",
       "      <td>Wagon R 1.0 VXI</td>\n",
       "    </tr>\n",
       "    <tr>\n",
       "      <th>2</th>\n",
       "      <td>353199</td>\n",
       "      <td>4.3</td>\n",
       "      <td>3686</td>\n",
       "      <td>23233</td>\n",
       "      <td>Year of PurchaseMarch 2014</td>\n",
       "      <td>Second</td>\n",
       "      <td>Petrol</td>\n",
       "      <td>MANUAL</td>\n",
       "      <td>RTOAP28</td>\n",
       "      <td>TypeComprehensive</td>\n",
       "      <td>2014</td>\n",
       "      <td>Maruti</td>\n",
       "      <td>Wagon R 1.0 VXI</td>\n",
       "    </tr>\n",
       "    <tr>\n",
       "      <th>3</th>\n",
       "      <td>237899</td>\n",
       "      <td>4.4</td>\n",
       "      <td>3686</td>\n",
       "      <td>27748</td>\n",
       "      <td>Year of PurchaseNovember 2013</td>\n",
       "      <td>First</td>\n",
       "      <td>Petrol</td>\n",
       "      <td>MANUAL</td>\n",
       "      <td>RTOAP13</td>\n",
       "      <td>TypeComprehensive</td>\n",
       "      <td>2013</td>\n",
       "      <td>Hyundai</td>\n",
       "      <td>Eon D LITE PLUS</td>\n",
       "    </tr>\n",
       "    <tr>\n",
       "      <th>4</th>\n",
       "      <td>300699</td>\n",
       "      <td>4.4</td>\n",
       "      <td>3686</td>\n",
       "      <td>12238</td>\n",
       "      <td>Year of PurchaseAugust 2017</td>\n",
       "      <td>Second</td>\n",
       "      <td>Petrol</td>\n",
       "      <td>MANUAL</td>\n",
       "      <td>RTOTS10</td>\n",
       "      <td>TypeExpired</td>\n",
       "      <td>2017</td>\n",
       "      <td>Hyundai</td>\n",
       "      <td>Eon ERA PLUS</td>\n",
       "    </tr>\n",
       "  </tbody>\n",
       "</table>\n",
       "</div>"
      ],
      "text/plain": [
       "    Price  Rating  city  Kilometers               Year_of_Purchase    Owner  \\\n",
       "0  174699     4.0  3686       34854       Year of PurchaseMay 2010   First    \n",
       "1  333999     4.2  3686       39541      Year of PurchaseJuly 2013  Second    \n",
       "2  353199     4.3  3686       23233     Year of PurchaseMarch 2014  Second    \n",
       "3  237899     4.4  3686       27748  Year of PurchaseNovember 2013   First    \n",
       "4  300699     4.4  3686       12238    Year of PurchaseAugust 2017  Second    \n",
       "\n",
       "  Fuel_Type Transmission      RTO      Insurance_Type  Year  Company  \\\n",
       "0    Petrol       MANUAL  RTOAP09        Type Expired  2010   Maruti   \n",
       "1    Petrol       MANUAL  RTOAP28   TypeComprehensive  2013   Maruti   \n",
       "2    Petrol       MANUAL  RTOAP28   TypeComprehensive  2014   Maruti   \n",
       "3    Petrol       MANUAL  RTOAP13   TypeComprehensive  2013  Hyundai   \n",
       "4    Petrol       MANUAL  RTOTS10         TypeExpired  2017  Hyundai   \n",
       "\n",
       "         Car_Model  \n",
       "0         Alto LXI  \n",
       "1  Wagon R 1.0 VXI  \n",
       "2  Wagon R 1.0 VXI  \n",
       "3  Eon D LITE PLUS  \n",
       "4     Eon ERA PLUS  "
      ]
     },
     "execution_count": 38,
     "metadata": {},
     "output_type": "execute_result"
    }
   ],
   "source": [
    "df.head()"
   ]
  },
  {
   "cell_type": "code",
   "execution_count": 39,
   "metadata": {},
   "outputs": [
    {
     "data": {
      "text/html": [
       "<table class=\"simpletable\">\n",
       "<caption>OLS Regression Results</caption>\n",
       "<tr>\n",
       "  <th>Dep. Variable:</th>          <td>Price</td>      <th>  R-squared:         </th>  <td>   0.380</td>  \n",
       "</tr>\n",
       "<tr>\n",
       "  <th>Model:</th>                   <td>OLS</td>       <th>  Adj. R-squared:    </th>  <td>   0.380</td>  \n",
       "</tr>\n",
       "<tr>\n",
       "  <th>Method:</th>             <td>Least Squares</td>  <th>  F-statistic:       </th>  <td>   1059.</td>  \n",
       "</tr>\n",
       "<tr>\n",
       "  <th>Date:</th>             <td>Thu, 13 Oct 2022</td> <th>  Prob (F-statistic):</th>   <td>  0.00</td>   \n",
       "</tr>\n",
       "<tr>\n",
       "  <th>Time:</th>                 <td>15:59:43</td>     <th>  Log-Likelihood:    </th> <td>-4.1411e+05</td>\n",
       "</tr>\n",
       "<tr>\n",
       "  <th>No. Observations:</th>      <td> 29342</td>      <th>  AIC:               </th>  <td>8.283e+05</td> \n",
       "</tr>\n",
       "<tr>\n",
       "  <th>Df Residuals:</th>          <td> 29324</td>      <th>  BIC:               </th>  <td>8.284e+05</td> \n",
       "</tr>\n",
       "<tr>\n",
       "  <th>Df Model:</th>              <td>    17</td>      <th>                     </th>      <td> </td>     \n",
       "</tr>\n",
       "<tr>\n",
       "  <th>Covariance Type:</th>      <td>nonrobust</td>    <th>                     </th>      <td> </td>     \n",
       "</tr>\n",
       "</table>\n",
       "<table class=\"simpletable\">\n",
       "<tr>\n",
       "              <td></td>                 <th>coef</th>     <th>std err</th>      <th>t</th>      <th>P>|t|</th>  <th>[0.025</th>    <th>0.975]</th>  \n",
       "</tr>\n",
       "<tr>\n",
       "  <th>Intercept</th>                 <td> 3.245e+05</td> <td> 1.24e+05</td> <td>    2.618</td> <td> 0.009</td> <td> 8.15e+04</td> <td> 5.67e+05</td>\n",
       "</tr>\n",
       "<tr>\n",
       "  <th>Owner[T.Fifth ]</th>           <td>-8.563e+04</td> <td> 1.25e+05</td> <td>   -0.682</td> <td> 0.495</td> <td>-3.32e+05</td> <td>  1.6e+05</td>\n",
       "</tr>\n",
       "<tr>\n",
       "  <th>Owner[T.First ]</th>           <td>-2.173e+04</td> <td> 1.23e+05</td> <td>   -0.176</td> <td> 0.860</td> <td>-2.64e+05</td> <td>  2.2e+05</td>\n",
       "</tr>\n",
       "<tr>\n",
       "  <th>Owner[T.Fourth ]</th>          <td>-9.944e+04</td> <td> 1.24e+05</td> <td>   -0.803</td> <td> 0.422</td> <td>-3.42e+05</td> <td> 1.43e+05</td>\n",
       "</tr>\n",
       "<tr>\n",
       "  <th>Owner[T.Ninth ]</th>           <td>-6.783e+04</td> <td> 2.25e+05</td> <td>   -0.302</td> <td> 0.763</td> <td>-5.09e+05</td> <td> 3.73e+05</td>\n",
       "</tr>\n",
       "<tr>\n",
       "  <th>Owner[T.Second ]</th>          <td>-8.609e+04</td> <td> 1.23e+05</td> <td>   -0.698</td> <td> 0.485</td> <td>-3.28e+05</td> <td> 1.56e+05</td>\n",
       "</tr>\n",
       "<tr>\n",
       "  <th>Owner[T.Seventh ]</th>         <td>-2.504e+04</td> <td> 1.45e+05</td> <td>   -0.172</td> <td> 0.863</td> <td> -3.1e+05</td> <td>  2.6e+05</td>\n",
       "</tr>\n",
       "<tr>\n",
       "  <th>Owner[T.Sixth ]</th>           <td> 2.432e+04</td> <td> 1.32e+05</td> <td>    0.184</td> <td> 0.854</td> <td>-2.35e+05</td> <td> 2.84e+05</td>\n",
       "</tr>\n",
       "<tr>\n",
       "  <th>Owner[T.Tenth ]</th>           <td>-3.691e+04</td> <td> 1.91e+05</td> <td>   -0.193</td> <td> 0.847</td> <td>-4.11e+05</td> <td> 3.37e+05</td>\n",
       "</tr>\n",
       "<tr>\n",
       "  <th>Owner[T.Third ]</th>           <td>-1.051e+05</td> <td> 1.23e+05</td> <td>   -0.851</td> <td> 0.395</td> <td>-3.47e+05</td> <td> 1.37e+05</td>\n",
       "</tr>\n",
       "<tr>\n",
       "  <th>Fuel_Type[T.Electric]</th>     <td>-3.327e+05</td> <td> 8.16e+04</td> <td>   -4.078</td> <td> 0.000</td> <td>-4.93e+05</td> <td>-1.73e+05</td>\n",
       "</tr>\n",
       "<tr>\n",
       "  <th>Fuel_Type[T.Hybrid]</th>       <td> 5.827e+06</td> <td> 3.26e+05</td> <td>   17.871</td> <td> 0.000</td> <td> 5.19e+06</td> <td> 6.47e+06</td>\n",
       "</tr>\n",
       "<tr>\n",
       "  <th>Fuel_Type[T.Petrol]</th>       <td>-2.711e+05</td> <td> 4333.809</td> <td>  -62.555</td> <td> 0.000</td> <td> -2.8e+05</td> <td>-2.63e+05</td>\n",
       "</tr>\n",
       "<tr>\n",
       "  <th>Fuel_Type[T.Petrol + CNG]</th> <td>-2.497e+05</td> <td> 9225.512</td> <td>  -27.070</td> <td> 0.000</td> <td>-2.68e+05</td> <td>-2.32e+05</td>\n",
       "</tr>\n",
       "<tr>\n",
       "  <th>Fuel_Type[T.Petrol + LPG]</th> <td>-2.843e+05</td> <td> 1.54e+04</td> <td>  -18.486</td> <td> 0.000</td> <td>-3.14e+05</td> <td>-2.54e+05</td>\n",
       "</tr>\n",
       "<tr>\n",
       "  <th>Transmission[T.MANUAL]</th>    <td>-4.516e+05</td> <td> 6653.099</td> <td>  -67.871</td> <td> 0.000</td> <td>-4.65e+05</td> <td>-4.39e+05</td>\n",
       "</tr>\n",
       "<tr>\n",
       "  <th>Rating</th>                    <td> 2.001e+05</td> <td> 3575.356</td> <td>   55.959</td> <td> 0.000</td> <td> 1.93e+05</td> <td> 2.07e+05</td>\n",
       "</tr>\n",
       "<tr>\n",
       "  <th>Kilometers</th>                <td>   -1.0267</td> <td>    0.043</td> <td>  -24.138</td> <td> 0.000</td> <td>   -1.110</td> <td>   -0.943</td>\n",
       "</tr>\n",
       "</table>\n",
       "<table class=\"simpletable\">\n",
       "<tr>\n",
       "  <th>Omnibus:</th>       <td>34276.237</td> <th>  Durbin-Watson:     </th>   <td>   1.855</td>  \n",
       "</tr>\n",
       "<tr>\n",
       "  <th>Prob(Omnibus):</th>  <td> 0.000</td>   <th>  Jarque-Bera (JB):  </th> <td>10492616.836</td>\n",
       "</tr>\n",
       "<tr>\n",
       "  <th>Skew:</th>           <td> 5.787</td>   <th>  Prob(JB):          </th>   <td>    0.00</td>  \n",
       "</tr>\n",
       "<tr>\n",
       "  <th>Kurtosis:</th>       <td>94.915</td>   <th>  Cond. No.          </th>   <td>1.99e+07</td>  \n",
       "</tr>\n",
       "</table><br/><br/>Notes:<br/>[1] Standard Errors assume that the covariance matrix of the errors is correctly specified.<br/>[2] The condition number is large, 1.99e+07. This might indicate that there are<br/>strong multicollinearity or other numerical problems."
      ],
      "text/plain": [
       "<class 'statsmodels.iolib.summary.Summary'>\n",
       "\"\"\"\n",
       "                            OLS Regression Results                            \n",
       "==============================================================================\n",
       "Dep. Variable:                  Price   R-squared:                       0.380\n",
       "Model:                            OLS   Adj. R-squared:                  0.380\n",
       "Method:                 Least Squares   F-statistic:                     1059.\n",
       "Date:                Thu, 13 Oct 2022   Prob (F-statistic):               0.00\n",
       "Time:                        15:59:43   Log-Likelihood:            -4.1411e+05\n",
       "No. Observations:               29342   AIC:                         8.283e+05\n",
       "Df Residuals:                   29324   BIC:                         8.284e+05\n",
       "Df Model:                          17                                         \n",
       "Covariance Type:            nonrobust                                         \n",
       "=============================================================================================\n",
       "                                coef    std err          t      P>|t|      [0.025      0.975]\n",
       "---------------------------------------------------------------------------------------------\n",
       "Intercept                  3.245e+05   1.24e+05      2.618      0.009    8.15e+04    5.67e+05\n",
       "Owner[T.Fifth ]           -8.563e+04   1.25e+05     -0.682      0.495   -3.32e+05     1.6e+05\n",
       "Owner[T.First ]           -2.173e+04   1.23e+05     -0.176      0.860   -2.64e+05     2.2e+05\n",
       "Owner[T.Fourth ]          -9.944e+04   1.24e+05     -0.803      0.422   -3.42e+05    1.43e+05\n",
       "Owner[T.Ninth ]           -6.783e+04   2.25e+05     -0.302      0.763   -5.09e+05    3.73e+05\n",
       "Owner[T.Second ]          -8.609e+04   1.23e+05     -0.698      0.485   -3.28e+05    1.56e+05\n",
       "Owner[T.Seventh ]         -2.504e+04   1.45e+05     -0.172      0.863    -3.1e+05     2.6e+05\n",
       "Owner[T.Sixth ]            2.432e+04   1.32e+05      0.184      0.854   -2.35e+05    2.84e+05\n",
       "Owner[T.Tenth ]           -3.691e+04   1.91e+05     -0.193      0.847   -4.11e+05    3.37e+05\n",
       "Owner[T.Third ]           -1.051e+05   1.23e+05     -0.851      0.395   -3.47e+05    1.37e+05\n",
       "Fuel_Type[T.Electric]     -3.327e+05   8.16e+04     -4.078      0.000   -4.93e+05   -1.73e+05\n",
       "Fuel_Type[T.Hybrid]        5.827e+06   3.26e+05     17.871      0.000    5.19e+06    6.47e+06\n",
       "Fuel_Type[T.Petrol]       -2.711e+05   4333.809    -62.555      0.000    -2.8e+05   -2.63e+05\n",
       "Fuel_Type[T.Petrol + CNG] -2.497e+05   9225.512    -27.070      0.000   -2.68e+05   -2.32e+05\n",
       "Fuel_Type[T.Petrol + LPG] -2.843e+05   1.54e+04    -18.486      0.000   -3.14e+05   -2.54e+05\n",
       "Transmission[T.MANUAL]    -4.516e+05   6653.099    -67.871      0.000   -4.65e+05   -4.39e+05\n",
       "Rating                     2.001e+05   3575.356     55.959      0.000    1.93e+05    2.07e+05\n",
       "Kilometers                   -1.0267      0.043    -24.138      0.000      -1.110      -0.943\n",
       "==============================================================================\n",
       "Omnibus:                    34276.237   Durbin-Watson:                   1.855\n",
       "Prob(Omnibus):                  0.000   Jarque-Bera (JB):         10492616.836\n",
       "Skew:                           5.787   Prob(JB):                         0.00\n",
       "Kurtosis:                      94.915   Cond. No.                     1.99e+07\n",
       "==============================================================================\n",
       "\n",
       "Notes:\n",
       "[1] Standard Errors assume that the covariance matrix of the errors is correctly specified.\n",
       "[2] The condition number is large, 1.99e+07. This might indicate that there are\n",
       "strong multicollinearity or other numerical problems.\n",
       "\"\"\""
      ]
     },
     "execution_count": 39,
     "metadata": {},
     "output_type": "execute_result"
    }
   ],
   "source": [
    "import statsmodels.formula.api as smf\n",
    "pro=smf.ols(\"Price~Rating+Kilometers+Owner+Fuel_Type+Transmission\",data=df).fit()\n",
    "pro.summary()"
   ]
  },
  {
   "cell_type": "code",
   "execution_count": null,
   "metadata": {},
   "outputs": [],
   "source": []
  },
  {
   "cell_type": "code",
   "execution_count": null,
   "metadata": {},
   "outputs": [],
   "source": []
  },
  {
   "cell_type": "code",
   "execution_count": 40,
   "metadata": {},
   "outputs": [],
   "source": [
    "df.drop(columns=['RTO','Year_of_Purchase'],axis=1,inplace=True)"
   ]
  },
  {
   "cell_type": "code",
   "execution_count": 41,
   "metadata": {},
   "outputs": [
    {
     "data": {
      "text/html": [
       "<div>\n",
       "<style scoped>\n",
       "    .dataframe tbody tr th:only-of-type {\n",
       "        vertical-align: middle;\n",
       "    }\n",
       "\n",
       "    .dataframe tbody tr th {\n",
       "        vertical-align: top;\n",
       "    }\n",
       "\n",
       "    .dataframe thead th {\n",
       "        text-align: right;\n",
       "    }\n",
       "</style>\n",
       "<table border=\"1\" class=\"dataframe\">\n",
       "  <thead>\n",
       "    <tr style=\"text-align: right;\">\n",
       "      <th></th>\n",
       "      <th>Price</th>\n",
       "      <th>Rating</th>\n",
       "      <th>city</th>\n",
       "      <th>Kilometers</th>\n",
       "      <th>Owner</th>\n",
       "      <th>Fuel_Type</th>\n",
       "      <th>Transmission</th>\n",
       "      <th>Insurance_Type</th>\n",
       "      <th>Year</th>\n",
       "      <th>Company</th>\n",
       "      <th>Car_Model</th>\n",
       "    </tr>\n",
       "  </thead>\n",
       "  <tbody>\n",
       "    <tr>\n",
       "      <th>0</th>\n",
       "      <td>174699</td>\n",
       "      <td>4.0</td>\n",
       "      <td>3686</td>\n",
       "      <td>34854</td>\n",
       "      <td>First</td>\n",
       "      <td>Petrol</td>\n",
       "      <td>MANUAL</td>\n",
       "      <td>Type Expired</td>\n",
       "      <td>2010</td>\n",
       "      <td>Maruti</td>\n",
       "      <td>Alto LXI</td>\n",
       "    </tr>\n",
       "    <tr>\n",
       "      <th>1</th>\n",
       "      <td>333999</td>\n",
       "      <td>4.2</td>\n",
       "      <td>3686</td>\n",
       "      <td>39541</td>\n",
       "      <td>Second</td>\n",
       "      <td>Petrol</td>\n",
       "      <td>MANUAL</td>\n",
       "      <td>TypeComprehensive</td>\n",
       "      <td>2013</td>\n",
       "      <td>Maruti</td>\n",
       "      <td>Wagon R 1.0 VXI</td>\n",
       "    </tr>\n",
       "    <tr>\n",
       "      <th>2</th>\n",
       "      <td>353199</td>\n",
       "      <td>4.3</td>\n",
       "      <td>3686</td>\n",
       "      <td>23233</td>\n",
       "      <td>Second</td>\n",
       "      <td>Petrol</td>\n",
       "      <td>MANUAL</td>\n",
       "      <td>TypeComprehensive</td>\n",
       "      <td>2014</td>\n",
       "      <td>Maruti</td>\n",
       "      <td>Wagon R 1.0 VXI</td>\n",
       "    </tr>\n",
       "    <tr>\n",
       "      <th>3</th>\n",
       "      <td>237899</td>\n",
       "      <td>4.4</td>\n",
       "      <td>3686</td>\n",
       "      <td>27748</td>\n",
       "      <td>First</td>\n",
       "      <td>Petrol</td>\n",
       "      <td>MANUAL</td>\n",
       "      <td>TypeComprehensive</td>\n",
       "      <td>2013</td>\n",
       "      <td>Hyundai</td>\n",
       "      <td>Eon D LITE PLUS</td>\n",
       "    </tr>\n",
       "    <tr>\n",
       "      <th>4</th>\n",
       "      <td>300699</td>\n",
       "      <td>4.4</td>\n",
       "      <td>3686</td>\n",
       "      <td>12238</td>\n",
       "      <td>Second</td>\n",
       "      <td>Petrol</td>\n",
       "      <td>MANUAL</td>\n",
       "      <td>TypeExpired</td>\n",
       "      <td>2017</td>\n",
       "      <td>Hyundai</td>\n",
       "      <td>Eon ERA PLUS</td>\n",
       "    </tr>\n",
       "  </tbody>\n",
       "</table>\n",
       "</div>"
      ],
      "text/plain": [
       "    Price  Rating  city  Kilometers    Owner Fuel_Type Transmission  \\\n",
       "0  174699     4.0  3686       34854   First     Petrol       MANUAL   \n",
       "1  333999     4.2  3686       39541  Second     Petrol       MANUAL   \n",
       "2  353199     4.3  3686       23233  Second     Petrol       MANUAL   \n",
       "3  237899     4.4  3686       27748   First     Petrol       MANUAL   \n",
       "4  300699     4.4  3686       12238  Second     Petrol       MANUAL   \n",
       "\n",
       "       Insurance_Type  Year  Company        Car_Model  \n",
       "0        Type Expired  2010   Maruti         Alto LXI  \n",
       "1   TypeComprehensive  2013   Maruti  Wagon R 1.0 VXI  \n",
       "2   TypeComprehensive  2014   Maruti  Wagon R 1.0 VXI  \n",
       "3   TypeComprehensive  2013  Hyundai  Eon D LITE PLUS  \n",
       "4         TypeExpired  2017  Hyundai     Eon ERA PLUS  "
      ]
     },
     "execution_count": 41,
     "metadata": {},
     "output_type": "execute_result"
    }
   ],
   "source": [
    "df.head()"
   ]
  },
  {
   "cell_type": "code",
   "execution_count": 42,
   "metadata": {
    "scrolled": true
   },
   "outputs": [
    {
     "data": {
      "text/plain": [
       "Price               int32\n",
       "Rating            float64\n",
       "city                int64\n",
       "Kilometers          int32\n",
       "Owner              object\n",
       "Fuel_Type          object\n",
       "Transmission       object\n",
       "Insurance_Type     object\n",
       "Year                int32\n",
       "Company            object\n",
       "Car_Model          object\n",
       "dtype: object"
      ]
     },
     "execution_count": 42,
     "metadata": {},
     "output_type": "execute_result"
    }
   ],
   "source": [
    "df.dtypes"
   ]
  },
  {
   "cell_type": "code",
   "execution_count": 43,
   "metadata": {},
   "outputs": [
    {
     "data": {
      "text/html": [
       "<div>\n",
       "<style scoped>\n",
       "    .dataframe tbody tr th:only-of-type {\n",
       "        vertical-align: middle;\n",
       "    }\n",
       "\n",
       "    .dataframe tbody tr th {\n",
       "        vertical-align: top;\n",
       "    }\n",
       "\n",
       "    .dataframe thead th {\n",
       "        text-align: right;\n",
       "    }\n",
       "</style>\n",
       "<table border=\"1\" class=\"dataframe\">\n",
       "  <thead>\n",
       "    <tr style=\"text-align: right;\">\n",
       "      <th></th>\n",
       "      <th>Price</th>\n",
       "      <th>Rating</th>\n",
       "      <th>city</th>\n",
       "      <th>Kilometers</th>\n",
       "      <th>Year</th>\n",
       "    </tr>\n",
       "  </thead>\n",
       "  <tbody>\n",
       "    <tr>\n",
       "      <th>count</th>\n",
       "      <td>3.215800e+04</td>\n",
       "      <td>32158.000000</td>\n",
       "      <td>32158.000000</td>\n",
       "      <td>3.215800e+04</td>\n",
       "      <td>32158.000000</td>\n",
       "    </tr>\n",
       "    <tr>\n",
       "      <th>mean</th>\n",
       "      <td>4.760937e+05</td>\n",
       "      <td>4.046806</td>\n",
       "      <td>2883.844207</td>\n",
       "      <td>7.630189e+04</td>\n",
       "      <td>2012.378537</td>\n",
       "    </tr>\n",
       "    <tr>\n",
       "      <th>std</th>\n",
       "      <td>4.521493e+05</td>\n",
       "      <td>0.617091</td>\n",
       "      <td>1569.462476</td>\n",
       "      <td>5.303039e+04</td>\n",
       "      <td>4.509912</td>\n",
       "    </tr>\n",
       "    <tr>\n",
       "      <th>min</th>\n",
       "      <td>1.000000e+00</td>\n",
       "      <td>0.500000</td>\n",
       "      <td>290.000000</td>\n",
       "      <td>1.000000e+00</td>\n",
       "      <td>1980.000000</td>\n",
       "    </tr>\n",
       "    <tr>\n",
       "      <th>25%</th>\n",
       "      <td>2.100000e+05</td>\n",
       "      <td>3.800000</td>\n",
       "      <td>1692.000000</td>\n",
       "      <td>3.833125e+04</td>\n",
       "      <td>2010.000000</td>\n",
       "    </tr>\n",
       "    <tr>\n",
       "      <th>50%</th>\n",
       "      <td>3.680000e+05</td>\n",
       "      <td>4.100000</td>\n",
       "      <td>2423.000000</td>\n",
       "      <td>6.924700e+04</td>\n",
       "      <td>2013.000000</td>\n",
       "    </tr>\n",
       "    <tr>\n",
       "      <th>75%</th>\n",
       "      <td>6.000000e+05</td>\n",
       "      <td>4.400000</td>\n",
       "      <td>4709.000000</td>\n",
       "      <td>1.015375e+05</td>\n",
       "      <td>2016.000000</td>\n",
       "    </tr>\n",
       "    <tr>\n",
       "      <th>max</th>\n",
       "      <td>1.080170e+07</td>\n",
       "      <td>5.000000</td>\n",
       "      <td>5732.000000</td>\n",
       "      <td>1.234567e+06</td>\n",
       "      <td>2020.000000</td>\n",
       "    </tr>\n",
       "  </tbody>\n",
       "</table>\n",
       "</div>"
      ],
      "text/plain": [
       "              Price        Rating          city    Kilometers          Year\n",
       "count  3.215800e+04  32158.000000  32158.000000  3.215800e+04  32158.000000\n",
       "mean   4.760937e+05      4.046806   2883.844207  7.630189e+04   2012.378537\n",
       "std    4.521493e+05      0.617091   1569.462476  5.303039e+04      4.509912\n",
       "min    1.000000e+00      0.500000    290.000000  1.000000e+00   1980.000000\n",
       "25%    2.100000e+05      3.800000   1692.000000  3.833125e+04   2010.000000\n",
       "50%    3.680000e+05      4.100000   2423.000000  6.924700e+04   2013.000000\n",
       "75%    6.000000e+05      4.400000   4709.000000  1.015375e+05   2016.000000\n",
       "max    1.080170e+07      5.000000   5732.000000  1.234567e+06   2020.000000"
      ]
     },
     "execution_count": 43,
     "metadata": {},
     "output_type": "execute_result"
    }
   ],
   "source": [
    "df.describe()"
   ]
  },
  {
   "cell_type": "code",
   "execution_count": 44,
   "metadata": {},
   "outputs": [
    {
     "data": {
      "text/plain": [
       "Price                0\n",
       "Rating               0\n",
       "city                 0\n",
       "Kilometers           0\n",
       "Owner                0\n",
       "Fuel_Type            0\n",
       "Transmission      2816\n",
       "Insurance_Type       0\n",
       "Year                 0\n",
       "Company              0\n",
       "Car_Model            0\n",
       "dtype: int64"
      ]
     },
     "execution_count": 44,
     "metadata": {},
     "output_type": "execute_result"
    }
   ],
   "source": [
    "df.isnull().sum()"
   ]
  },
  {
   "cell_type": "code",
   "execution_count": 45,
   "metadata": {},
   "outputs": [],
   "source": [
    "from sklearn.impute import SimpleImputer"
   ]
  },
  {
   "cell_type": "code",
   "execution_count": 46,
   "metadata": {},
   "outputs": [],
   "source": [
    "mode_imputer = SimpleImputer(missing_values = np.nan, strategy = 'most_frequent')\n",
    "df['Transmission'] = pd.DataFrame(mode_imputer.fit_transform(df[['Transmission']]))"
   ]
  },
  {
   "cell_type": "code",
   "execution_count": 47,
   "metadata": {},
   "outputs": [
    {
     "data": {
      "text/plain": [
       "Price             0\n",
       "Rating            0\n",
       "city              0\n",
       "Kilometers        0\n",
       "Owner             0\n",
       "Fuel_Type         0\n",
       "Transmission      0\n",
       "Insurance_Type    0\n",
       "Year              0\n",
       "Company           0\n",
       "Car_Model         0\n",
       "dtype: int64"
      ]
     },
     "execution_count": 47,
     "metadata": {},
     "output_type": "execute_result"
    }
   ],
   "source": [
    "df.isnull().sum()"
   ]
  },
  {
   "cell_type": "code",
   "execution_count": 48,
   "metadata": {},
   "outputs": [
    {
     "data": {
      "text/plain": [
       "<AxesSubplot:>"
      ]
     },
     "execution_count": 48,
     "metadata": {},
     "output_type": "execute_result"
    },
    {
     "data": {
      "image/png": "[encoded data removed]",
      "text/plain": [
       "<Figure size 432x288 with 1 Axes>"
      ]
     },
     "metadata": {
      "needs_background": "light"
     },
     "output_type": "display_data"
    }
   ],
   "source": [
    "sns.boxplot(data=df.Price)"
   ]
  },
  {
   "cell_type": "code",
   "execution_count": 49,
   "metadata": {},
   "outputs": [
    {
     "data": {
      "text/plain": [
       "<AxesSubplot:>"
      ]
     },
     "execution_count": 49,
     "metadata": {},
     "output_type": "execute_result"
    },
    {
     "data": {
      "image/png": "[encoded data removed]",
      "text/plain": [
       "<Figure size 432x288 with 1 Axes>"
      ]
     },
     "metadata": {
      "needs_background": "light"
     },
     "output_type": "display_data"
    }
   ],
   "source": [
    "sns.boxplot(data=df.Kilometers)"
   ]
  },
  {
   "cell_type": "code",
   "execution_count": 50,
   "metadata": {},
   "outputs": [
    {
     "data": {
      "text/plain": [
       "(-375000.0, 1185000.0)"
      ]
     },
     "execution_count": 50,
     "metadata": {},
     "output_type": "execute_result"
    }
   ],
   "source": [
    "IQR = df['Price'].quantile(0.75) - df['Price'].quantile(0.25)\n",
    "lower_limit_p = df['Price'].quantile(0.25) - (IQR * 1.5)\n",
    "upper_limit_p = df['Price'].quantile(0.75) + (IQR * 1.5)\n",
    "lower_limit_p,upper_limit_p"
   ]
  },
  {
   "cell_type": "code",
   "execution_count": 51,
   "metadata": {},
   "outputs": [
    {
     "data": {
      "image/png": "[encoded data removed]",
      "text/plain": [
       "<Figure size 432x288 with 1 Axes>"
      ]
     },
     "metadata": {
      "needs_background": "light"
     },
     "output_type": "display_data"
    }
   ],
   "source": [
    "df['Price']= pd.DataFrame(np.where(df['Price'] > upper_limit_p, upper_limit_p,\n",
    "                                    np.where(df['Price'] < lower_limit_p, lower_limit_p, df['Price'])))\n",
    "sns.boxplot(df.Price)\n",
    "plt.title('Boxplot')\n",
    "plt.show()"
   ]
  },
  {
   "cell_type": "code",
   "execution_count": 52,
   "metadata": {},
   "outputs": [
    {
     "data": {
      "text/plain": [
       "(-56478.125, 196346.875)"
      ]
     },
     "execution_count": 52,
     "metadata": {},
     "output_type": "execute_result"
    }
   ],
   "source": [
    "IQR = df['Kilometers'].quantile(0.75) - df['Kilometers'].quantile(0.25)\n",
    "lower_limit_k = df['Kilometers'].quantile(0.25) - (IQR * 1.5)\n",
    "upper_limit_k = df['Kilometers'].quantile(0.75) + (IQR * 1.5)\n",
    "lower_limit_k,upper_limit_k"
   ]
  },
  {
   "cell_type": "code",
   "execution_count": 53,
   "metadata": {},
   "outputs": [
    {
     "data": {
      "image/png": "[encoded data removed]",
      "text/plain": [
       "<Figure size 432x288 with 1 Axes>"
      ]
     },
     "metadata": {
      "needs_background": "light"
     },
     "output_type": "display_data"
    }
   ],
   "source": [
    "df['Kilometers']= pd.DataFrame(np.where(df['Kilometers'] > upper_limit_k, upper_limit_k,\n",
    "                                    np.where(df['Kilometers'] < lower_limit_k, lower_limit_k, df['Kilometers'])))\n",
    "sns.boxplot(df.Kilometers)\n",
    "plt.title('Boxplot')\n",
    "plt.show()"
   ]
  },
  {
   "cell_type": "code",
   "execution_count": 54,
   "metadata": {},
   "outputs": [],
   "source": [
    "df=pd.get_dummies(data=df,drop_first=True)"
   ]
  },
  {
   "cell_type": "code",
   "execution_count": 55,
   "metadata": {},
   "outputs": [
    {
     "data": {
      "text/html": [
       "<div>\n",
       "<style scoped>\n",
       "    .dataframe tbody tr th:only-of-type {\n",
       "        vertical-align: middle;\n",
       "    }\n",
       "\n",
       "    .dataframe tbody tr th {\n",
       "        vertical-align: top;\n",
       "    }\n",
       "\n",
       "    .dataframe thead th {\n",
       "        text-align: right;\n",
       "    }\n",
       "</style>\n",
       "<table border=\"1\" class=\"dataframe\">\n",
       "  <thead>\n",
       "    <tr style=\"text-align: right;\">\n",
       "      <th></th>\n",
       "      <th>Price</th>\n",
       "      <th>Rating</th>\n",
       "      <th>city</th>\n",
       "      <th>Kilometers</th>\n",
       "      <th>Year</th>\n",
       "      <th>Owner_Fifth</th>\n",
       "      <th>Owner_First</th>\n",
       "      <th>Owner_Fourth</th>\n",
       "      <th>Owner_Ninth</th>\n",
       "      <th>Owner_Second</th>\n",
       "      <th>...</th>\n",
       "      <th>Car_Model_i20 Magna O 1.4 CRDI</th>\n",
       "      <th>Car_Model_i20 SPORTZ 1.2 O</th>\n",
       "      <th>Car_Model_i20 SPORTZ 1.2 VTVT</th>\n",
       "      <th>Car_Model_i20 SPORTZ 1.4 AT VTVT</th>\n",
       "      <th>Car_Model_i20 SPORTZ 1.4 CRDI</th>\n",
       "      <th>Car_Model_i20 SPORTZ 1.4 CRDI 6 SPEED BS IV</th>\n",
       "      <th>Car_Model_i20 SPORTZ O 1.4 CRDI</th>\n",
       "      <th>Car_Model_i20 Sportz 1.2 O</th>\n",
       "      <th>Car_Model_i20 Sportz 1.2 VTVT</th>\n",
       "      <th>Car_Model_spacio 3.0L DI</th>\n",
       "    </tr>\n",
       "  </thead>\n",
       "  <tbody>\n",
       "    <tr>\n",
       "      <th>0</th>\n",
       "      <td>174699.0</td>\n",
       "      <td>4.0</td>\n",
       "      <td>3686</td>\n",
       "      <td>34854.0</td>\n",
       "      <td>2010</td>\n",
       "      <td>0</td>\n",
       "      <td>1</td>\n",
       "      <td>0</td>\n",
       "      <td>0</td>\n",
       "      <td>0</td>\n",
       "      <td>...</td>\n",
       "      <td>0</td>\n",
       "      <td>0</td>\n",
       "      <td>0</td>\n",
       "      <td>0</td>\n",
       "      <td>0</td>\n",
       "      <td>0</td>\n",
       "      <td>0</td>\n",
       "      <td>0</td>\n",
       "      <td>0</td>\n",
       "      <td>0</td>\n",
       "    </tr>\n",
       "    <tr>\n",
       "      <th>1</th>\n",
       "      <td>333999.0</td>\n",
       "      <td>4.2</td>\n",
       "      <td>3686</td>\n",
       "      <td>39541.0</td>\n",
       "      <td>2013</td>\n",
       "      <td>0</td>\n",
       "      <td>0</td>\n",
       "      <td>0</td>\n",
       "      <td>0</td>\n",
       "      <td>1</td>\n",
       "      <td>...</td>\n",
       "      <td>0</td>\n",
       "      <td>0</td>\n",
       "      <td>0</td>\n",
       "      <td>0</td>\n",
       "      <td>0</td>\n",
       "      <td>0</td>\n",
       "      <td>0</td>\n",
       "      <td>0</td>\n",
       "      <td>0</td>\n",
       "      <td>0</td>\n",
       "    </tr>\n",
       "    <tr>\n",
       "      <th>2</th>\n",
       "      <td>353199.0</td>\n",
       "      <td>4.3</td>\n",
       "      <td>3686</td>\n",
       "      <td>23233.0</td>\n",
       "      <td>2014</td>\n",
       "      <td>0</td>\n",
       "      <td>0</td>\n",
       "      <td>0</td>\n",
       "      <td>0</td>\n",
       "      <td>1</td>\n",
       "      <td>...</td>\n",
       "      <td>0</td>\n",
       "      <td>0</td>\n",
       "      <td>0</td>\n",
       "      <td>0</td>\n",
       "      <td>0</td>\n",
       "      <td>0</td>\n",
       "      <td>0</td>\n",
       "      <td>0</td>\n",
       "      <td>0</td>\n",
       "      <td>0</td>\n",
       "    </tr>\n",
       "    <tr>\n",
       "      <th>3</th>\n",
       "      <td>237899.0</td>\n",
       "      <td>4.4</td>\n",
       "      <td>3686</td>\n",
       "      <td>27748.0</td>\n",
       "      <td>2013</td>\n",
       "      <td>0</td>\n",
       "      <td>1</td>\n",
       "      <td>0</td>\n",
       "      <td>0</td>\n",
       "      <td>0</td>\n",
       "      <td>...</td>\n",
       "      <td>0</td>\n",
       "      <td>0</td>\n",
       "      <td>0</td>\n",
       "      <td>0</td>\n",
       "      <td>0</td>\n",
       "      <td>0</td>\n",
       "      <td>0</td>\n",
       "      <td>0</td>\n",
       "      <td>0</td>\n",
       "      <td>0</td>\n",
       "    </tr>\n",
       "    <tr>\n",
       "      <th>4</th>\n",
       "      <td>300699.0</td>\n",
       "      <td>4.4</td>\n",
       "      <td>3686</td>\n",
       "      <td>12238.0</td>\n",
       "      <td>2017</td>\n",
       "      <td>0</td>\n",
       "      <td>0</td>\n",
       "      <td>0</td>\n",
       "      <td>0</td>\n",
       "      <td>1</td>\n",
       "      <td>...</td>\n",
       "      <td>0</td>\n",
       "      <td>0</td>\n",
       "      <td>0</td>\n",
       "      <td>0</td>\n",
       "      <td>0</td>\n",
       "      <td>0</td>\n",
       "      <td>0</td>\n",
       "      <td>0</td>\n",
       "      <td>0</td>\n",
       "      <td>0</td>\n",
       "    </tr>\n",
       "  </tbody>\n",
       "</table>\n",
       "<p>5 rows × 2738 columns</p>\n",
       "</div>"
      ],
      "text/plain": [
       "      Price  Rating  city  Kilometers  Year  Owner_Fifth   Owner_First   \\\n",
       "0  174699.0     4.0  3686     34854.0  2010             0             1   \n",
       "1  333999.0     4.2  3686     39541.0  2013             0             0   \n",
       "2  353199.0     4.3  3686     23233.0  2014             0             0   \n",
       "3  237899.0     4.4  3686     27748.0  2013             0             1   \n",
       "4  300699.0     4.4  3686     12238.0  2017             0             0   \n",
       "\n",
       "   Owner_Fourth   Owner_Ninth   Owner_Second   ...  \\\n",
       "0              0             0              0  ...   \n",
       "1              0             0              1  ...   \n",
       "2              0             0              1  ...   \n",
       "3              0             0              0  ...   \n",
       "4              0             0              1  ...   \n",
       "\n",
       "   Car_Model_i20 Magna O 1.4 CRDI  Car_Model_i20 SPORTZ 1.2 O  \\\n",
       "0                               0                           0   \n",
       "1                               0                           0   \n",
       "2                               0                           0   \n",
       "3                               0                           0   \n",
       "4                               0                           0   \n",
       "\n",
       "   Car_Model_i20 SPORTZ 1.2 VTVT  Car_Model_i20 SPORTZ 1.4 AT VTVT  \\\n",
       "0                              0                                 0   \n",
       "1                              0                                 0   \n",
       "2                              0                                 0   \n",
       "3                              0                                 0   \n",
       "4                              0                                 0   \n",
       "\n",
       "   Car_Model_i20 SPORTZ 1.4 CRDI  Car_Model_i20 SPORTZ 1.4 CRDI 6 SPEED BS IV  \\\n",
       "0                              0                                            0   \n",
       "1                              0                                            0   \n",
       "2                              0                                            0   \n",
       "3                              0                                            0   \n",
       "4                              0                                            0   \n",
       "\n",
       "   Car_Model_i20 SPORTZ O 1.4 CRDI  Car_Model_i20 Sportz 1.2 O  \\\n",
       "0                                0                           0   \n",
       "1                                0                           0   \n",
       "2                                0                           0   \n",
       "3                                0                           0   \n",
       "4                                0                           0   \n",
       "\n",
       "   Car_Model_i20 Sportz 1.2 VTVT  Car_Model_spacio 3.0L DI  \n",
       "0                              0                         0  \n",
       "1                              0                         0  \n",
       "2                              0                         0  \n",
       "3                              0                         0  \n",
       "4                              0                         0  \n",
       "\n",
       "[5 rows x 2738 columns]"
      ]
     },
     "execution_count": 55,
     "metadata": {},
     "output_type": "execute_result"
    }
   ],
   "source": [
    "df.head()"
   ]
  },
  {
   "cell_type": "code",
   "execution_count": 56,
   "metadata": {},
   "outputs": [
    {
     "data": {
      "text/plain": [
       "0.9189949320342946"
      ]
     },
     "execution_count": 56,
     "metadata": {},
     "output_type": "execute_result"
    },
    {
     "data": {
      "image/png": "[encoded data removed]",
      "text/plain": [
       "<Figure size 432x288 with 1 Axes>"
      ]
     },
     "metadata": {
      "needs_background": "light"
     },
     "output_type": "display_data"
    }
   ],
   "source": [
    "df['Price'].hist()\n",
    "df['Price'].skew()"
   ]
  },
  {
   "cell_type": "code",
   "execution_count": 57,
   "metadata": {},
   "outputs": [
    {
     "data": {
      "text/plain": [
       "0.691978469644594"
      ]
     },
     "execution_count": 57,
     "metadata": {},
     "output_type": "execute_result"
    },
    {
     "data": {
      "image/png": "[encoded data removed]",
      "text/plain": [
       "<Figure size 432x288 with 1 Axes>"
      ]
     },
     "metadata": {
      "needs_background": "light"
     },
     "output_type": "display_data"
    }
   ],
   "source": [
    "df['Kilometers'].hist()\n",
    "df['Kilometers'].skew()"
   ]
  },
  {
   "cell_type": "code",
   "execution_count": 58,
   "metadata": {},
   "outputs": [
    {
     "data": {
      "text/plain": [
       "-2.365609912696441"
      ]
     },
     "execution_count": 58,
     "metadata": {},
     "output_type": "execute_result"
    },
    {
     "data": {
      "image/png": "[encoded data removed]",
      "text/plain": [
       "<Figure size 432x288 with 1 Axes>"
      ]
     },
     "metadata": {
      "needs_background": "light"
     },
     "output_type": "display_data"
    }
   ],
   "source": [
    "df['Rating'].hist()\n",
    "df['Rating'].skew()"
   ]
  },
  {
   "cell_type": "code",
   "execution_count": 59,
   "metadata": {},
   "outputs": [],
   "source": [
    "X = df.drop(columns=['Price'],axis='columns')\n",
    "y = df.Price"
   ]
  },
  {
   "cell_type": "code",
   "execution_count": 60,
   "metadata": {
    "scrolled": true
   },
   "outputs": [
    {
     "data": {
      "text/html": [
       "<div>\n",
       "<style scoped>\n",
       "    .dataframe tbody tr th:only-of-type {\n",
       "        vertical-align: middle;\n",
       "    }\n",
       "\n",
       "    .dataframe tbody tr th {\n",
       "        vertical-align: top;\n",
       "    }\n",
       "\n",
       "    .dataframe thead th {\n",
       "        text-align: right;\n",
       "    }\n",
       "</style>\n",
       "<table border=\"1\" class=\"dataframe\">\n",
       "  <thead>\n",
       "    <tr style=\"text-align: right;\">\n",
       "      <th></th>\n",
       "      <th>Rating</th>\n",
       "      <th>city</th>\n",
       "      <th>Kilometers</th>\n",
       "      <th>Year</th>\n",
       "      <th>Owner_Fifth</th>\n",
       "      <th>Owner_First</th>\n",
       "      <th>Owner_Fourth</th>\n",
       "      <th>Owner_Ninth</th>\n",
       "      <th>Owner_Second</th>\n",
       "      <th>Owner_Seventh</th>\n",
       "      <th>...</th>\n",
       "      <th>Car_Model_i20 Magna O 1.4 CRDI</th>\n",
       "      <th>Car_Model_i20 SPORTZ 1.2 O</th>\n",
       "      <th>Car_Model_i20 SPORTZ 1.2 VTVT</th>\n",
       "      <th>Car_Model_i20 SPORTZ 1.4 AT VTVT</th>\n",
       "      <th>Car_Model_i20 SPORTZ 1.4 CRDI</th>\n",
       "      <th>Car_Model_i20 SPORTZ 1.4 CRDI 6 SPEED BS IV</th>\n",
       "      <th>Car_Model_i20 SPORTZ O 1.4 CRDI</th>\n",
       "      <th>Car_Model_i20 Sportz 1.2 O</th>\n",
       "      <th>Car_Model_i20 Sportz 1.2 VTVT</th>\n",
       "      <th>Car_Model_spacio 3.0L DI</th>\n",
       "    </tr>\n",
       "  </thead>\n",
       "  <tbody>\n",
       "    <tr>\n",
       "      <th>0</th>\n",
       "      <td>4.0</td>\n",
       "      <td>3686</td>\n",
       "      <td>34854.0</td>\n",
       "      <td>2010</td>\n",
       "      <td>0</td>\n",
       "      <td>1</td>\n",
       "      <td>0</td>\n",
       "      <td>0</td>\n",
       "      <td>0</td>\n",
       "      <td>0</td>\n",
       "      <td>...</td>\n",
       "      <td>0</td>\n",
       "      <td>0</td>\n",
       "      <td>0</td>\n",
       "      <td>0</td>\n",
       "      <td>0</td>\n",
       "      <td>0</td>\n",
       "      <td>0</td>\n",
       "      <td>0</td>\n",
       "      <td>0</td>\n",
       "      <td>0</td>\n",
       "    </tr>\n",
       "    <tr>\n",
       "      <th>1</th>\n",
       "      <td>4.2</td>\n",
       "      <td>3686</td>\n",
       "      <td>39541.0</td>\n",
       "      <td>2013</td>\n",
       "      <td>0</td>\n",
       "      <td>0</td>\n",
       "      <td>0</td>\n",
       "      <td>0</td>\n",
       "      <td>1</td>\n",
       "      <td>0</td>\n",
       "      <td>...</td>\n",
       "      <td>0</td>\n",
       "      <td>0</td>\n",
       "      <td>0</td>\n",
       "      <td>0</td>\n",
       "      <td>0</td>\n",
       "      <td>0</td>\n",
       "      <td>0</td>\n",
       "      <td>0</td>\n",
       "      <td>0</td>\n",
       "      <td>0</td>\n",
       "    </tr>\n",
       "    <tr>\n",
       "      <th>2</th>\n",
       "      <td>4.3</td>\n",
       "      <td>3686</td>\n",
       "      <td>23233.0</td>\n",
       "      <td>2014</td>\n",
       "      <td>0</td>\n",
       "      <td>0</td>\n",
       "      <td>0</td>\n",
       "      <td>0</td>\n",
       "      <td>1</td>\n",
       "      <td>0</td>\n",
       "      <td>...</td>\n",
       "      <td>0</td>\n",
       "      <td>0</td>\n",
       "      <td>0</td>\n",
       "      <td>0</td>\n",
       "      <td>0</td>\n",
       "      <td>0</td>\n",
       "      <td>0</td>\n",
       "      <td>0</td>\n",
       "      <td>0</td>\n",
       "      <td>0</td>\n",
       "    </tr>\n",
       "    <tr>\n",
       "      <th>3</th>\n",
       "      <td>4.4</td>\n",
       "      <td>3686</td>\n",
       "      <td>27748.0</td>\n",
       "      <td>2013</td>\n",
       "      <td>0</td>\n",
       "      <td>1</td>\n",
       "      <td>0</td>\n",
       "      <td>0</td>\n",
       "      <td>0</td>\n",
       "      <td>0</td>\n",
       "      <td>...</td>\n",
       "      <td>0</td>\n",
       "      <td>0</td>\n",
       "      <td>0</td>\n",
       "      <td>0</td>\n",
       "      <td>0</td>\n",
       "      <td>0</td>\n",
       "      <td>0</td>\n",
       "      <td>0</td>\n",
       "      <td>0</td>\n",
       "      <td>0</td>\n",
       "    </tr>\n",
       "    <tr>\n",
       "      <th>4</th>\n",
       "      <td>4.4</td>\n",
       "      <td>3686</td>\n",
       "      <td>12238.0</td>\n",
       "      <td>2017</td>\n",
       "      <td>0</td>\n",
       "      <td>0</td>\n",
       "      <td>0</td>\n",
       "      <td>0</td>\n",
       "      <td>1</td>\n",
       "      <td>0</td>\n",
       "      <td>...</td>\n",
       "      <td>0</td>\n",
       "      <td>0</td>\n",
       "      <td>0</td>\n",
       "      <td>0</td>\n",
       "      <td>0</td>\n",
       "      <td>0</td>\n",
       "      <td>0</td>\n",
       "      <td>0</td>\n",
       "      <td>0</td>\n",
       "      <td>0</td>\n",
       "    </tr>\n",
       "  </tbody>\n",
       "</table>\n",
       "<p>5 rows × 2737 columns</p>\n",
       "</div>"
      ],
      "text/plain": [
       "   Rating  city  Kilometers  Year  Owner_Fifth   Owner_First   Owner_Fourth   \\\n",
       "0     4.0  3686     34854.0  2010             0             1              0   \n",
       "1     4.2  3686     39541.0  2013             0             0              0   \n",
       "2     4.3  3686     23233.0  2014             0             0              0   \n",
       "3     4.4  3686     27748.0  2013             0             1              0   \n",
       "4     4.4  3686     12238.0  2017             0             0              0   \n",
       "\n",
       "   Owner_Ninth   Owner_Second   Owner_Seventh   ...  \\\n",
       "0             0              0               0  ...   \n",
       "1             0              1               0  ...   \n",
       "2             0              1               0  ...   \n",
       "3             0              0               0  ...   \n",
       "4             0              1               0  ...   \n",
       "\n",
       "   Car_Model_i20 Magna O 1.4 CRDI  Car_Model_i20 SPORTZ 1.2 O  \\\n",
       "0                               0                           0   \n",
       "1                               0                           0   \n",
       "2                               0                           0   \n",
       "3                               0                           0   \n",
       "4                               0                           0   \n",
       "\n",
       "   Car_Model_i20 SPORTZ 1.2 VTVT  Car_Model_i20 SPORTZ 1.4 AT VTVT  \\\n",
       "0                              0                                 0   \n",
       "1                              0                                 0   \n",
       "2                              0                                 0   \n",
       "3                              0                                 0   \n",
       "4                              0                                 0   \n",
       "\n",
       "   Car_Model_i20 SPORTZ 1.4 CRDI  Car_Model_i20 SPORTZ 1.4 CRDI 6 SPEED BS IV  \\\n",
       "0                              0                                            0   \n",
       "1                              0                                            0   \n",
       "2                              0                                            0   \n",
       "3                              0                                            0   \n",
       "4                              0                                            0   \n",
       "\n",
       "   Car_Model_i20 SPORTZ O 1.4 CRDI  Car_Model_i20 Sportz 1.2 O  \\\n",
       "0                                0                           0   \n",
       "1                                0                           0   \n",
       "2                                0                           0   \n",
       "3                                0                           0   \n",
       "4                                0                           0   \n",
       "\n",
       "   Car_Model_i20 Sportz 1.2 VTVT  Car_Model_spacio 3.0L DI  \n",
       "0                              0                         0  \n",
       "1                              0                         0  \n",
       "2                              0                         0  \n",
       "3                              0                         0  \n",
       "4                              0                         0  \n",
       "\n",
       "[5 rows x 2737 columns]"
      ]
     },
     "execution_count": 60,
     "metadata": {},
     "output_type": "execute_result"
    }
   ],
   "source": [
    "X.head()"
   ]
  },
  {
   "cell_type": "code",
   "execution_count": 61,
   "metadata": {},
   "outputs": [
    {
     "data": {
      "text/plain": [
       "0    174699.0\n",
       "1    333999.0\n",
       "2    353199.0\n",
       "3    237899.0\n",
       "4    300699.0\n",
       "Name: Price, dtype: float64"
      ]
     },
     "execution_count": 61,
     "metadata": {},
     "output_type": "execute_result"
    }
   ],
   "source": [
    "y.head()"
   ]
  },
  {
   "cell_type": "code",
   "execution_count": 62,
   "metadata": {},
   "outputs": [],
   "source": [
    "from sklearn.model_selection import train_test_split\n",
    "X_train,X_test,y_train,y_test = train_test_split(X, y, test_size=0.2,random_state=1)"
   ]
  },
  {
   "cell_type": "code",
   "execution_count": 63,
   "metadata": {},
   "outputs": [
    {
     "data": {
      "text/html": [
       "<div>\n",
       "<style scoped>\n",
       "    .dataframe tbody tr th:only-of-type {\n",
       "        vertical-align: middle;\n",
       "    }\n",
       "\n",
       "    .dataframe tbody tr th {\n",
       "        vertical-align: top;\n",
       "    }\n",
       "\n",
       "    .dataframe thead th {\n",
       "        text-align: right;\n",
       "    }\n",
       "</style>\n",
       "<table border=\"1\" class=\"dataframe\">\n",
       "  <thead>\n",
       "    <tr style=\"text-align: right;\">\n",
       "      <th></th>\n",
       "      <th>Rating</th>\n",
       "      <th>city</th>\n",
       "      <th>Kilometers</th>\n",
       "      <th>Year</th>\n",
       "      <th>Owner_Fifth</th>\n",
       "      <th>Owner_First</th>\n",
       "      <th>Owner_Fourth</th>\n",
       "      <th>Owner_Ninth</th>\n",
       "      <th>Owner_Second</th>\n",
       "      <th>Owner_Seventh</th>\n",
       "      <th>...</th>\n",
       "      <th>Car_Model_i20 Magna O 1.4 CRDI</th>\n",
       "      <th>Car_Model_i20 SPORTZ 1.2 O</th>\n",
       "      <th>Car_Model_i20 SPORTZ 1.2 VTVT</th>\n",
       "      <th>Car_Model_i20 SPORTZ 1.4 AT VTVT</th>\n",
       "      <th>Car_Model_i20 SPORTZ 1.4 CRDI</th>\n",
       "      <th>Car_Model_i20 SPORTZ 1.4 CRDI 6 SPEED BS IV</th>\n",
       "      <th>Car_Model_i20 SPORTZ O 1.4 CRDI</th>\n",
       "      <th>Car_Model_i20 Sportz 1.2 O</th>\n",
       "      <th>Car_Model_i20 Sportz 1.2 VTVT</th>\n",
       "      <th>Car_Model_spacio 3.0L DI</th>\n",
       "    </tr>\n",
       "  </thead>\n",
       "  <tbody>\n",
       "    <tr>\n",
       "      <th>31100</th>\n",
       "      <td>4.1</td>\n",
       "      <td>769</td>\n",
       "      <td>80780.0</td>\n",
       "      <td>2014</td>\n",
       "      <td>0</td>\n",
       "      <td>0</td>\n",
       "      <td>0</td>\n",
       "      <td>0</td>\n",
       "      <td>1</td>\n",
       "      <td>0</td>\n",
       "      <td>...</td>\n",
       "      <td>0</td>\n",
       "      <td>0</td>\n",
       "      <td>0</td>\n",
       "      <td>0</td>\n",
       "      <td>0</td>\n",
       "      <td>0</td>\n",
       "      <td>0</td>\n",
       "      <td>0</td>\n",
       "      <td>0</td>\n",
       "      <td>0</td>\n",
       "    </tr>\n",
       "    <tr>\n",
       "      <th>20197</th>\n",
       "      <td>3.6</td>\n",
       "      <td>2378</td>\n",
       "      <td>56186.0</td>\n",
       "      <td>2009</td>\n",
       "      <td>0</td>\n",
       "      <td>0</td>\n",
       "      <td>0</td>\n",
       "      <td>0</td>\n",
       "      <td>0</td>\n",
       "      <td>0</td>\n",
       "      <td>...</td>\n",
       "      <td>0</td>\n",
       "      <td>0</td>\n",
       "      <td>0</td>\n",
       "      <td>0</td>\n",
       "      <td>0</td>\n",
       "      <td>0</td>\n",
       "      <td>0</td>\n",
       "      <td>0</td>\n",
       "      <td>0</td>\n",
       "      <td>0</td>\n",
       "    </tr>\n",
       "    <tr>\n",
       "      <th>15813</th>\n",
       "      <td>4.2</td>\n",
       "      <td>2423</td>\n",
       "      <td>52284.0</td>\n",
       "      <td>2016</td>\n",
       "      <td>0</td>\n",
       "      <td>1</td>\n",
       "      <td>0</td>\n",
       "      <td>0</td>\n",
       "      <td>0</td>\n",
       "      <td>0</td>\n",
       "      <td>...</td>\n",
       "      <td>0</td>\n",
       "      <td>0</td>\n",
       "      <td>0</td>\n",
       "      <td>0</td>\n",
       "      <td>0</td>\n",
       "      <td>0</td>\n",
       "      <td>0</td>\n",
       "      <td>0</td>\n",
       "      <td>0</td>\n",
       "      <td>0</td>\n",
       "    </tr>\n",
       "    <tr>\n",
       "      <th>24864</th>\n",
       "      <td>4.1</td>\n",
       "      <td>1692</td>\n",
       "      <td>32250.0</td>\n",
       "      <td>2018</td>\n",
       "      <td>0</td>\n",
       "      <td>1</td>\n",
       "      <td>0</td>\n",
       "      <td>0</td>\n",
       "      <td>0</td>\n",
       "      <td>0</td>\n",
       "      <td>...</td>\n",
       "      <td>0</td>\n",
       "      <td>0</td>\n",
       "      <td>0</td>\n",
       "      <td>0</td>\n",
       "      <td>0</td>\n",
       "      <td>0</td>\n",
       "      <td>0</td>\n",
       "      <td>0</td>\n",
       "      <td>0</td>\n",
       "      <td>0</td>\n",
       "    </tr>\n",
       "    <tr>\n",
       "      <th>30026</th>\n",
       "      <td>1.0</td>\n",
       "      <td>2130</td>\n",
       "      <td>114389.0</td>\n",
       "      <td>2004</td>\n",
       "      <td>0</td>\n",
       "      <td>1</td>\n",
       "      <td>0</td>\n",
       "      <td>0</td>\n",
       "      <td>0</td>\n",
       "      <td>0</td>\n",
       "      <td>...</td>\n",
       "      <td>0</td>\n",
       "      <td>0</td>\n",
       "      <td>0</td>\n",
       "      <td>0</td>\n",
       "      <td>0</td>\n",
       "      <td>0</td>\n",
       "      <td>0</td>\n",
       "      <td>0</td>\n",
       "      <td>0</td>\n",
       "      <td>0</td>\n",
       "    </tr>\n",
       "  </tbody>\n",
       "</table>\n",
       "<p>5 rows × 2737 columns</p>\n",
       "</div>"
      ],
      "text/plain": [
       "       Rating  city  Kilometers  Year  Owner_Fifth   Owner_First   \\\n",
       "31100     4.1   769     80780.0  2014             0             0   \n",
       "20197     3.6  2378     56186.0  2009             0             0   \n",
       "15813     4.2  2423     52284.0  2016             0             1   \n",
       "24864     4.1  1692     32250.0  2018             0             1   \n",
       "30026     1.0  2130    114389.0  2004             0             1   \n",
       "\n",
       "       Owner_Fourth   Owner_Ninth   Owner_Second   Owner_Seventh   ...  \\\n",
       "31100              0             0              1               0  ...   \n",
       "20197              0             0              0               0  ...   \n",
       "15813              0             0              0               0  ...   \n",
       "24864              0             0              0               0  ...   \n",
       "30026              0             0              0               0  ...   \n",
       "\n",
       "       Car_Model_i20 Magna O 1.4 CRDI  Car_Model_i20 SPORTZ 1.2 O  \\\n",
       "31100                               0                           0   \n",
       "20197                               0                           0   \n",
       "15813                               0                           0   \n",
       "24864                               0                           0   \n",
       "30026                               0                           0   \n",
       "\n",
       "       Car_Model_i20 SPORTZ 1.2 VTVT  Car_Model_i20 SPORTZ 1.4 AT VTVT  \\\n",
       "31100                              0                                 0   \n",
       "20197                              0                                 0   \n",
       "15813                              0                                 0   \n",
       "24864                              0                                 0   \n",
       "30026                              0                                 0   \n",
       "\n",
       "       Car_Model_i20 SPORTZ 1.4 CRDI  \\\n",
       "31100                              0   \n",
       "20197                              0   \n",
       "15813                              0   \n",
       "24864                              0   \n",
       "30026                              0   \n",
       "\n",
       "       Car_Model_i20 SPORTZ 1.4 CRDI 6 SPEED BS IV  \\\n",
       "31100                                            0   \n",
       "20197                                            0   \n",
       "15813                                            0   \n",
       "24864                                            0   \n",
       "30026                                            0   \n",
       "\n",
       "       Car_Model_i20 SPORTZ O 1.4 CRDI  Car_Model_i20 Sportz 1.2 O  \\\n",
       "31100                                0                           0   \n",
       "20197                                0                           0   \n",
       "15813                                0                           0   \n",
       "24864                                0                           0   \n",
       "30026                                0                           0   \n",
       "\n",
       "       Car_Model_i20 Sportz 1.2 VTVT  Car_Model_spacio 3.0L DI  \n",
       "31100                              0                         0  \n",
       "20197                              0                         0  \n",
       "15813                              0                         0  \n",
       "24864                              0                         0  \n",
       "30026                              0                         0  \n",
       "\n",
       "[5 rows x 2737 columns]"
      ]
     },
     "execution_count": 63,
     "metadata": {},
     "output_type": "execute_result"
    }
   ],
   "source": [
    "X_train.head()"
   ]
  },
  {
   "cell_type": "code",
   "execution_count": 64,
   "metadata": {},
   "outputs": [
    {
     "data": {
      "text/html": [
       "<div>\n",
       "<style scoped>\n",
       "    .dataframe tbody tr th:only-of-type {\n",
       "        vertical-align: middle;\n",
       "    }\n",
       "\n",
       "    .dataframe tbody tr th {\n",
       "        vertical-align: top;\n",
       "    }\n",
       "\n",
       "    .dataframe thead th {\n",
       "        text-align: right;\n",
       "    }\n",
       "</style>\n",
       "<table border=\"1\" class=\"dataframe\">\n",
       "  <thead>\n",
       "    <tr style=\"text-align: right;\">\n",
       "      <th></th>\n",
       "      <th>Rating</th>\n",
       "      <th>city</th>\n",
       "      <th>Kilometers</th>\n",
       "      <th>Year</th>\n",
       "      <th>Owner_Fifth</th>\n",
       "      <th>Owner_First</th>\n",
       "      <th>Owner_Fourth</th>\n",
       "      <th>Owner_Ninth</th>\n",
       "      <th>Owner_Second</th>\n",
       "      <th>Owner_Seventh</th>\n",
       "      <th>...</th>\n",
       "      <th>Car_Model_i20 Magna O 1.4 CRDI</th>\n",
       "      <th>Car_Model_i20 SPORTZ 1.2 O</th>\n",
       "      <th>Car_Model_i20 SPORTZ 1.2 VTVT</th>\n",
       "      <th>Car_Model_i20 SPORTZ 1.4 AT VTVT</th>\n",
       "      <th>Car_Model_i20 SPORTZ 1.4 CRDI</th>\n",
       "      <th>Car_Model_i20 SPORTZ 1.4 CRDI 6 SPEED BS IV</th>\n",
       "      <th>Car_Model_i20 SPORTZ O 1.4 CRDI</th>\n",
       "      <th>Car_Model_i20 Sportz 1.2 O</th>\n",
       "      <th>Car_Model_i20 Sportz 1.2 VTVT</th>\n",
       "      <th>Car_Model_spacio 3.0L DI</th>\n",
       "    </tr>\n",
       "  </thead>\n",
       "  <tbody>\n",
       "    <tr>\n",
       "      <th>23904</th>\n",
       "      <td>4.5</td>\n",
       "      <td>290</td>\n",
       "      <td>82710.0</td>\n",
       "      <td>2013</td>\n",
       "      <td>0</td>\n",
       "      <td>1</td>\n",
       "      <td>0</td>\n",
       "      <td>0</td>\n",
       "      <td>0</td>\n",
       "      <td>0</td>\n",
       "      <td>...</td>\n",
       "      <td>0</td>\n",
       "      <td>0</td>\n",
       "      <td>0</td>\n",
       "      <td>0</td>\n",
       "      <td>0</td>\n",
       "      <td>0</td>\n",
       "      <td>0</td>\n",
       "      <td>0</td>\n",
       "      <td>0</td>\n",
       "      <td>0</td>\n",
       "    </tr>\n",
       "    <tr>\n",
       "      <th>27463</th>\n",
       "      <td>4.0</td>\n",
       "      <td>1692</td>\n",
       "      <td>136439.0</td>\n",
       "      <td>2016</td>\n",
       "      <td>0</td>\n",
       "      <td>1</td>\n",
       "      <td>0</td>\n",
       "      <td>0</td>\n",
       "      <td>0</td>\n",
       "      <td>0</td>\n",
       "      <td>...</td>\n",
       "      <td>0</td>\n",
       "      <td>0</td>\n",
       "      <td>0</td>\n",
       "      <td>0</td>\n",
       "      <td>0</td>\n",
       "      <td>0</td>\n",
       "      <td>0</td>\n",
       "      <td>0</td>\n",
       "      <td>0</td>\n",
       "      <td>0</td>\n",
       "    </tr>\n",
       "    <tr>\n",
       "      <th>20847</th>\n",
       "      <td>4.8</td>\n",
       "      <td>2378</td>\n",
       "      <td>21139.0</td>\n",
       "      <td>2018</td>\n",
       "      <td>0</td>\n",
       "      <td>1</td>\n",
       "      <td>0</td>\n",
       "      <td>0</td>\n",
       "      <td>0</td>\n",
       "      <td>0</td>\n",
       "      <td>...</td>\n",
       "      <td>0</td>\n",
       "      <td>0</td>\n",
       "      <td>0</td>\n",
       "      <td>0</td>\n",
       "      <td>0</td>\n",
       "      <td>0</td>\n",
       "      <td>0</td>\n",
       "      <td>0</td>\n",
       "      <td>0</td>\n",
       "      <td>0</td>\n",
       "    </tr>\n",
       "    <tr>\n",
       "      <th>22414</th>\n",
       "      <td>4.8</td>\n",
       "      <td>290</td>\n",
       "      <td>32884.0</td>\n",
       "      <td>2017</td>\n",
       "      <td>0</td>\n",
       "      <td>1</td>\n",
       "      <td>0</td>\n",
       "      <td>0</td>\n",
       "      <td>0</td>\n",
       "      <td>0</td>\n",
       "      <td>...</td>\n",
       "      <td>0</td>\n",
       "      <td>0</td>\n",
       "      <td>0</td>\n",
       "      <td>0</td>\n",
       "      <td>0</td>\n",
       "      <td>0</td>\n",
       "      <td>0</td>\n",
       "      <td>0</td>\n",
       "      <td>0</td>\n",
       "      <td>0</td>\n",
       "    </tr>\n",
       "    <tr>\n",
       "      <th>13956</th>\n",
       "      <td>4.1</td>\n",
       "      <td>777</td>\n",
       "      <td>50218.0</td>\n",
       "      <td>2014</td>\n",
       "      <td>0</td>\n",
       "      <td>1</td>\n",
       "      <td>0</td>\n",
       "      <td>0</td>\n",
       "      <td>0</td>\n",
       "      <td>0</td>\n",
       "      <td>...</td>\n",
       "      <td>0</td>\n",
       "      <td>0</td>\n",
       "      <td>0</td>\n",
       "      <td>0</td>\n",
       "      <td>0</td>\n",
       "      <td>0</td>\n",
       "      <td>0</td>\n",
       "      <td>0</td>\n",
       "      <td>0</td>\n",
       "      <td>0</td>\n",
       "    </tr>\n",
       "  </tbody>\n",
       "</table>\n",
       "<p>5 rows × 2737 columns</p>\n",
       "</div>"
      ],
      "text/plain": [
       "       Rating  city  Kilometers  Year  Owner_Fifth   Owner_First   \\\n",
       "23904     4.5   290     82710.0  2013             0             1   \n",
       "27463     4.0  1692    136439.0  2016             0             1   \n",
       "20847     4.8  2378     21139.0  2018             0             1   \n",
       "22414     4.8   290     32884.0  2017             0             1   \n",
       "13956     4.1   777     50218.0  2014             0             1   \n",
       "\n",
       "       Owner_Fourth   Owner_Ninth   Owner_Second   Owner_Seventh   ...  \\\n",
       "23904              0             0              0               0  ...   \n",
       "27463              0             0              0               0  ...   \n",
       "20847              0             0              0               0  ...   \n",
       "22414              0             0              0               0  ...   \n",
       "13956              0             0              0               0  ...   \n",
       "\n",
       "       Car_Model_i20 Magna O 1.4 CRDI  Car_Model_i20 SPORTZ 1.2 O  \\\n",
       "23904                               0                           0   \n",
       "27463                               0                           0   \n",
       "20847                               0                           0   \n",
       "22414                               0                           0   \n",
       "13956                               0                           0   \n",
       "\n",
       "       Car_Model_i20 SPORTZ 1.2 VTVT  Car_Model_i20 SPORTZ 1.4 AT VTVT  \\\n",
       "23904                              0                                 0   \n",
       "27463                              0                                 0   \n",
       "20847                              0                                 0   \n",
       "22414                              0                                 0   \n",
       "13956                              0                                 0   \n",
       "\n",
       "       Car_Model_i20 SPORTZ 1.4 CRDI  \\\n",
       "23904                              0   \n",
       "27463                              0   \n",
       "20847                              0   \n",
       "22414                              0   \n",
       "13956                              0   \n",
       "\n",
       "       Car_Model_i20 SPORTZ 1.4 CRDI 6 SPEED BS IV  \\\n",
       "23904                                            0   \n",
       "27463                                            0   \n",
       "20847                                            0   \n",
       "22414                                            0   \n",
       "13956                                            0   \n",
       "\n",
       "       Car_Model_i20 SPORTZ O 1.4 CRDI  Car_Model_i20 Sportz 1.2 O  \\\n",
       "23904                                0                           0   \n",
       "27463                                0                           0   \n",
       "20847                                0                           0   \n",
       "22414                                0                           0   \n",
       "13956                                0                           0   \n",
       "\n",
       "       Car_Model_i20 Sportz 1.2 VTVT  Car_Model_spacio 3.0L DI  \n",
       "23904                              0                         0  \n",
       "27463                              0                         0  \n",
       "20847                              0                         0  \n",
       "22414                              0                         0  \n",
       "13956                              0                         0  \n",
       "\n",
       "[5 rows x 2737 columns]"
      ]
     },
     "execution_count": 64,
     "metadata": {},
     "output_type": "execute_result"
    }
   ],
   "source": [
    "X_test.head()"
   ]
  },
  {
   "cell_type": "code",
   "execution_count": 65,
   "metadata": {},
   "outputs": [
    {
     "data": {
      "text/plain": [
       "31100    425000.0\n",
       "20197     64800.0\n",
       "15813    425000.0\n",
       "24864    650000.0\n",
       "30026     23940.0\n",
       "Name: Price, dtype: float64"
      ]
     },
     "execution_count": 65,
     "metadata": {},
     "output_type": "execute_result"
    }
   ],
   "source": [
    "y_train.head()"
   ]
  },
  {
   "cell_type": "code",
   "execution_count": 66,
   "metadata": {},
   "outputs": [
    {
     "data": {
      "text/plain": [
       "23904     740000.0\n",
       "27463     700000.0\n",
       "20847    1185000.0\n",
       "22414     200000.0\n",
       "13956     350000.0\n",
       "Name: Price, dtype: float64"
      ]
     },
     "execution_count": 66,
     "metadata": {},
     "output_type": "execute_result"
    }
   ],
   "source": [
    "y_test.head()"
   ]
  },
  {
   "cell_type": "code",
   "execution_count": 67,
   "metadata": {},
   "outputs": [],
   "source": [
    "from sklearn.preprocessing import StandardScaler\n",
    "\n",
    "scaler=StandardScaler()\n",
    "\n",
    "X_train=scaler.fit_transform(X_train)\n",
    "X_test=scaler.transform(X_test)"
   ]
  },
  {
   "cell_type": "code",
   "execution_count": 68,
   "metadata": {},
   "outputs": [
    {
     "data": {
      "text/plain": [
       "array([[ 0.08894458, -1.34499706,  0.12821754, ..., -0.00881751,\n",
       "        -0.0062348 ,  0.        ],\n",
       "       [-0.72212459, -0.31946642, -0.40142616, ..., -0.00881751,\n",
       "        -0.0062348 ,  0.        ],\n",
       "       [ 0.25115842, -0.2907847 , -0.48545762, ..., -0.00881751,\n",
       "        -0.0062348 ,  0.        ],\n",
       "       ...,\n",
       "       [ 0.25115842,  1.16624641,  0.09796019, ..., -0.00881751,\n",
       "        -0.0062348 ,  0.        ],\n",
       "       [ 0.25115842,  0.51421543, -0.65638475, ..., -0.00881751,\n",
       "        -0.0062348 ,  0.        ],\n",
       "       [ 0.08894458, -0.47753453,  0.68256244, ..., -0.00881751,\n",
       "        -0.0062348 ,  0.        ]])"
      ]
     },
     "execution_count": 68,
     "metadata": {},
     "output_type": "execute_result"
    }
   ],
   "source": [
    "X_train"
   ]
  },
  {
   "cell_type": "code",
   "execution_count": 69,
   "metadata": {},
   "outputs": [
    {
     "data": {
      "text/plain": [
       "array([[ 0.73779992, -1.65029798,  0.16978103, ..., -0.00881751,\n",
       "        -0.0062348 ,  0.        ],\n",
       "       [-0.07326925, -0.75670322,  1.32686106, ..., -0.00881751,\n",
       "        -0.0062348 ,  0.        ],\n",
       "       [ 1.22444143, -0.31946642, -1.15618027, ..., -0.00881751,\n",
       "        -0.0062348 ,  0.        ],\n",
       "       ...,\n",
       "       [ 1.38665526,  1.16624641, -1.33343884, ..., -0.00881751,\n",
       "        -0.0062348 ,  0.        ],\n",
       "       [-0.39769692,  0.51421543, -0.00926499, ..., -0.00881751,\n",
       "        -0.0062348 ,  0.        ],\n",
       "       [ 1.22444143,  1.81827739, -1.07738193, ..., -0.00881751,\n",
       "        -0.0062348 ,  0.        ]])"
      ]
     },
     "execution_count": 69,
     "metadata": {},
     "output_type": "execute_result"
    }
   ],
   "source": [
    "X_test"
   ]
  },
  {
   "cell_type": "code",
   "execution_count": 70,
   "metadata": {},
   "outputs": [
    {
     "data": {
      "text/plain": [
       "LinearRegression()"
      ]
     },
     "execution_count": 70,
     "metadata": {},
     "output_type": "execute_result"
    }
   ],
   "source": [
    "from sklearn.linear_model import LinearRegression\n",
    "reg = LinearRegression()\n",
    "reg.fit(X,y)"
   ]
  },
  {
   "cell_type": "code",
   "execution_count": 71,
   "metadata": {},
   "outputs": [
    {
     "data": {
      "text/plain": [
       "array([ 2.84974637e+04,  1.84202192e+01, -6.20457837e-01, ...,\n",
       "       -1.06780096e+05, -9.29999138e+04, -3.86609686e+04])"
      ]
     },
     "execution_count": 71,
     "metadata": {},
     "output_type": "execute_result"
    }
   ],
   "source": [
    "reg.coef_"
   ]
  },
  {
   "cell_type": "code",
   "execution_count": 72,
   "metadata": {},
   "outputs": [
    {
     "data": {
      "text/plain": [
       "-51775934.867127724"
      ]
     },
     "execution_count": 72,
     "metadata": {},
     "output_type": "execute_result"
    }
   ],
   "source": [
    "reg.intercept_"
   ]
  },
  {
   "cell_type": "code",
   "execution_count": 73,
   "metadata": {},
   "outputs": [
    {
     "data": {
      "text/plain": [
       "0.9420519475501764"
      ]
     },
     "execution_count": 73,
     "metadata": {},
     "output_type": "execute_result"
    }
   ],
   "source": [
    "reg.score(X,y)"
   ]
  },
  {
   "cell_type": "code",
   "execution_count": 74,
   "metadata": {},
   "outputs": [],
   "source": [
    "X_train_pred=reg.predict(X_train)"
   ]
  },
  {
   "cell_type": "code",
   "execution_count": 75,
   "metadata": {},
   "outputs": [
    {
     "name": "stdout",
     "output_type": "stream",
     "text": [
      "train 0.9408761934471678\n"
     ]
    },
    {
     "data": {
      "text/plain": [
       "-9.692172776064423e+24"
      ]
     },
     "execution_count": 75,
     "metadata": {},
     "output_type": "execute_result"
    }
   ],
   "source": [
    "from sklearn.linear_model import LinearRegression\n",
    "from sklearn.metrics import r2_score\n",
    "reg=LinearRegression()\n",
    "reg.fit(X_train, y_train)\n",
    "y_pre = reg.predict(X_train)\n",
    "y_pred = reg.predict(X_test)\n",
    "print('train',r2_score(y_train, y_pre))\n",
    "r2_score(y_test, y_pred)"
   ]
  },
  {
   "cell_type": "code",
   "execution_count": 76,
   "metadata": {},
   "outputs": [
    {
     "name": "stdout",
     "output_type": "stream",
     "text": [
      "train 0.943838303821218\n"
     ]
    },
    {
     "data": {
      "text/plain": [
       "0.910524328133608"
      ]
     },
     "execution_count": 76,
     "metadata": {},
     "output_type": "execute_result"
    }
   ],
   "source": [
    "from sklearn.linear_model import Ridge\n",
    "ridge_model=Ridge()\n",
    "ridge_model.fit(X_train,y_train)\n",
    "y_pre = ridge_model.predict(X_train)\n",
    "y_pred = ridge_model.predict(X_test)\n",
    "print('train',r2_score(y_train, y_pre))\n",
    "r2_score(y_test, y_pred)"
   ]
  },
  {
   "cell_type": "code",
   "execution_count": 77,
   "metadata": {},
   "outputs": [
    {
     "data": {
      "text/plain": [
       "RidgeCV(alphas=array([ 0.1,  1. , 10. ]), scoring='neg_mean_absolute_error')"
      ]
     },
     "execution_count": 77,
     "metadata": {},
     "output_type": "execute_result"
    }
   ],
   "source": [
    "from sklearn.linear_model import RidgeCV\n",
    "ridge_cv_model = RidgeCV(alphas=(0.1, 1.0,10.0), scoring='neg_mean_absolute_error')\n",
    "\n",
    "ridge_cv_model.fit(X_train,y_train)"
   ]
  },
  {
   "cell_type": "code",
   "execution_count": 78,
   "metadata": {},
   "outputs": [
    {
     "data": {
      "text/plain": [
       "1.0"
      ]
     },
     "execution_count": 78,
     "metadata": {},
     "output_type": "execute_result"
    }
   ],
   "source": [
    "ridge_cv_model.alpha_"
   ]
  },
  {
   "cell_type": "code",
   "execution_count": 79,
   "metadata": {},
   "outputs": [
    {
     "data": {
      "text/plain": [
       "array([ 17578.82102026,  28862.12416935, -28547.08880053, ...,\n",
       "         -655.7618129 ,   -378.04415805,      0.        ])"
      ]
     },
     "execution_count": 79,
     "metadata": {},
     "output_type": "execute_result"
    }
   ],
   "source": [
    "ridge_cv_model.coef_"
   ]
  },
  {
   "cell_type": "code",
   "execution_count": 80,
   "metadata": {},
   "outputs": [],
   "source": [
    "test_ridge_cv = ridge_cv_model.predict(X_test)"
   ]
  },
  {
   "cell_type": "code",
   "execution_count": 81,
   "metadata": {},
   "outputs": [
    {
     "data": {
      "text/plain": [
       "0.9105243281332274"
      ]
     },
     "execution_count": 81,
     "metadata": {},
     "output_type": "execute_result"
    }
   ],
   "source": [
    "r2_score(y_test,test_ridge_cv)"
   ]
  },
  {
   "cell_type": "code",
   "execution_count": 82,
   "metadata": {},
   "outputs": [
    {
     "name": "stdout",
     "output_type": "stream",
     "text": [
      "Train RMSE:  71960.30590545673\n",
      "Test RMSE:  89786.55496502105\n"
     ]
    }
   ],
   "source": [
    "from sklearn.metrics import mean_squared_error\n",
    "ridge_train_rmse = np.sqrt(mean_squared_error(y_train,y_pre))\n",
    "ridge_test_rmse = np.sqrt(mean_squared_error(y_test,y_pred))\n",
    "print(\"Train RMSE: \",ridge_train_rmse)\n",
    "print(\"Test RMSE: \",ridge_test_rmse)"
   ]
  },
  {
   "cell_type": "code",
   "execution_count": 83,
   "metadata": {},
   "outputs": [
    {
     "name": "stdout",
     "output_type": "stream",
     "text": [
      "train 0.9438348603555546\n"
     ]
    },
    {
     "data": {
      "text/plain": [
       "0.912340191840134"
      ]
     },
     "execution_count": 83,
     "metadata": {},
     "output_type": "execute_result"
    }
   ],
   "source": [
    "from sklearn.linear_model import Lasso\n",
    "ridge_model=Lasso()\n",
    "ridge_model.fit(X_train,y_train)\n",
    "y_pre = ridge_model.predict(X_train)\n",
    "y_pred = ridge_model.predict(X_test)\n",
    "print('train',r2_score(y_train, y_pre))\n",
    "r2_score(y_test, y_pred)"
   ]
  },
  {
   "cell_type": "code",
   "execution_count": 84,
   "metadata": {},
   "outputs": [
    {
     "data": {
      "text/plain": [
       "LassoCV(cv=5, eps=0.1)"
      ]
     },
     "execution_count": 84,
     "metadata": {},
     "output_type": "execute_result"
    }
   ],
   "source": [
    "from sklearn.linear_model import LassoCV\n",
    "\n",
    "lasso_cv_model = LassoCV(eps=0.1,n_alphas=100,cv=5)\n",
    "lasso_cv_model.fit(X_train,y_train)"
   ]
  },
  {
   "cell_type": "code",
   "execution_count": 85,
   "metadata": {},
   "outputs": [
    {
     "data": {
      "text/plain": [
       "19585.85782449812"
      ]
     },
     "execution_count": 85,
     "metadata": {},
     "output_type": "execute_result"
    }
   ],
   "source": [
    "lasso_cv_model.alpha_"
   ]
  },
  {
   "cell_type": "code",
   "execution_count": 86,
   "metadata": {},
   "outputs": [
    {
     "data": {
      "text/plain": [
       "array([28114.63290817, 13407.89959826, -2516.95812563, ...,\n",
       "          -0.        ,    -0.        ,     0.        ])"
      ]
     },
     "execution_count": 86,
     "metadata": {},
     "output_type": "execute_result"
    }
   ],
   "source": [
    "lasso_cv_model.coef_"
   ]
  },
  {
   "cell_type": "code",
   "execution_count": 87,
   "metadata": {},
   "outputs": [],
   "source": [
    "train_lasso_cv = lasso_cv_model.predict(X_train)"
   ]
  },
  {
   "cell_type": "code",
   "execution_count": 88,
   "metadata": {},
   "outputs": [],
   "source": [
    "test_lasso_cv = lasso_cv_model.predict(X_test)"
   ]
  },
  {
   "cell_type": "code",
   "execution_count": 89,
   "metadata": {},
   "outputs": [
    {
     "data": {
      "text/plain": [
       "0.6265883920611923"
      ]
     },
     "execution_count": 89,
     "metadata": {},
     "output_type": "execute_result"
    }
   ],
   "source": [
    "r2_score(y_test,test_lasso_cv)"
   ]
  },
  {
   "cell_type": "code",
   "execution_count": 90,
   "metadata": {},
   "outputs": [
    {
     "name": "stdout",
     "output_type": "stream",
     "text": [
      "Train RMSE:  184420.14642295518\n",
      "Test RMSE:  183422.5519500785\n"
     ]
    }
   ],
   "source": [
    "lasso_cv_train_rmse = np.sqrt(mean_squared_error(y_train,train_lasso_cv))\n",
    "lasso_cv_test_rmse = np.sqrt(mean_squared_error(y_test,test_lasso_cv))\n",
    "print(\"Train RMSE: \",lasso_cv_train_rmse)\n",
    "print(\"Test RMSE: \",lasso_cv_test_rmse)"
   ]
  },
  {
   "cell_type": "code",
   "execution_count": null,
   "metadata": {},
   "outputs": [],
   "source": []
  },
  {
   "cell_type": "code",
   "execution_count": 91,
   "metadata": {},
   "outputs": [],
   "source": [
    "from sklearn.tree import DecisionTreeRegressor"
   ]
  },
  {
   "cell_type": "code",
   "execution_count": 92,
   "metadata": {},
   "outputs": [
    {
     "name": "stdout",
     "output_type": "stream",
     "text": [
      "train 1.0\n"
     ]
    },
    {
     "data": {
      "text/plain": [
       "0.8064640591134049"
      ]
     },
     "execution_count": 92,
     "metadata": {},
     "output_type": "execute_result"
    }
   ],
   "source": [
    "tree_reg = DecisionTreeRegressor()\n",
    "tree_reg.fit(X_train,y_train)\n",
    "y_pre = tree_reg.predict(X_train)\n",
    "y_pred = tree_reg.predict(X_test)\n",
    "print('train',r2_score(y_train, y_pre))\n",
    "r2_score(y_test, y_pred)"
   ]
  },
  {
   "cell_type": "code",
   "execution_count": 93,
   "metadata": {},
   "outputs": [],
   "source": [
    "dtr_parameters={\"splitter\":[\"best\",\"random\"],\n",
    "            \"max_depth\" : [3,5,7,9],\n",
    "           \"max_features\":[\"auto\",\"log2\",\"sqrt\",None] }"
   ]
  },
  {
   "cell_type": "code",
   "execution_count": 94,
   "metadata": {},
   "outputs": [],
   "source": [
    "from sklearn.model_selection import GridSearchCV\n",
    "dtr_grid=GridSearchCV(tree_reg,param_grid=dtr_parameters,scoring='neg_mean_squared_error',cv=3,verbose=3)"
   ]
  },
  {
   "cell_type": "code",
   "execution_count": 95,
   "metadata": {
    "scrolled": true
   },
   "outputs": [
    {
     "name": "stdout",
     "output_type": "stream",
     "text": [
      "Fitting 3 folds for each of 32 candidates, totalling 96 fits\n",
      "[CV 1/3] END max_depth=3, max_features=auto, splitter=best;, score=-43534691844.555 total time=   3.5s\n",
      "[CV 2/3] END max_depth=3, max_features=auto, splitter=best;, score=-45762392174.193 total time=   3.3s\n",
      "[CV 3/3] END max_depth=3, max_features=auto, splitter=best;, score=-48053248780.732 total time=   2.7s\n",
      "[CV 1/3] END max_depth=3, max_features=auto, splitter=random;, score=-49482319259.550 total time=   3.5s\n",
      "[CV 2/3] END max_depth=3, max_features=auto, splitter=random;, score=-53521743706.951 total time=   3.7s\n",
      "[CV 3/3] END max_depth=3, max_features=auto, splitter=random;, score=-55737154786.486 total time=   3.1s\n",
      "[CV 1/3] END max_depth=3, max_features=log2, splitter=best;, score=-90359102681.320 total time=   0.9s\n",
      "[CV 2/3] END max_depth=3, max_features=log2, splitter=best;, score=-91382817693.028 total time=   0.8s\n",
      "[CV 3/3] END max_depth=3, max_features=log2, splitter=best;, score=-93083376302.177 total time=   0.8s\n",
      "[CV 1/3] END max_depth=3, max_features=log2, splitter=random;, score=-90148591283.771 total time=   0.8s\n",
      "[CV 2/3] END max_depth=3, max_features=log2, splitter=random;, score=-92169228000.578 total time=   0.8s\n",
      "[CV 3/3] END max_depth=3, max_features=log2, splitter=random;, score=-90389614179.159 total time=   0.9s\n",
      "[CV 1/3] END max_depth=3, max_features=sqrt, splitter=best;, score=-82467516135.889 total time=   0.9s\n",
      "[CV 2/3] END max_depth=3, max_features=sqrt, splitter=best;, score=-91782020225.974 total time=   0.9s\n",
      "[CV 3/3] END max_depth=3, max_features=sqrt, splitter=best;, score=-92685430091.502 total time=   0.9s\n",
      "[CV 1/3] END max_depth=3, max_features=sqrt, splitter=random;, score=-89795285569.925 total time=   0.9s\n",
      "[CV 2/3] END max_depth=3, max_features=sqrt, splitter=random;, score=-88072202971.048 total time=   0.9s\n",
      "[CV 3/3] END max_depth=3, max_features=sqrt, splitter=random;, score=-85949166935.859 total time=   0.9s\n",
      "[CV 1/3] END max_depth=3, max_features=None, splitter=best;, score=-43534691844.555 total time=   2.7s\n",
      "[CV 2/3] END max_depth=3, max_features=None, splitter=best;, score=-45762392174.193 total time=   2.8s\n",
      "[CV 3/3] END max_depth=3, max_features=None, splitter=best;, score=-48053248780.732 total time=   2.6s\n",
      "[CV 1/3] END max_depth=3, max_features=None, splitter=random;, score=-52837360575.134 total time=   3.1s\n",
      "[CV 2/3] END max_depth=3, max_features=None, splitter=random;, score=-56946383128.952 total time=   3.1s\n",
      "[CV 3/3] END max_depth=3, max_features=None, splitter=random;, score=-49851537205.580 total time=   2.9s\n",
      "[CV 1/3] END max_depth=5, max_features=auto, splitter=best;, score=-31371509645.570 total time=   2.9s\n",
      "[CV 2/3] END max_depth=5, max_features=auto, splitter=best;, score=-31830327304.412 total time=   3.0s\n",
      "[CV 3/3] END max_depth=5, max_features=auto, splitter=best;, score=-31922864875.689 total time=   3.5s\n",
      "[CV 1/3] END max_depth=5, max_features=auto, splitter=random;, score=-49706471422.986 total time=   4.1s\n",
      "[CV 2/3] END max_depth=5, max_features=auto, splitter=random;, score=-44627382920.581 total time=   3.8s\n",
      "[CV 3/3] END max_depth=5, max_features=auto, splitter=random;, score=-45386910717.549 total time=   3.9s\n",
      "[CV 1/3] END max_depth=5, max_features=log2, splitter=best;, score=-87800087182.991 total time=   0.8s\n",
      "[CV 2/3] END max_depth=5, max_features=log2, splitter=best;, score=-91538228364.672 total time=   0.8s\n",
      "[CV 3/3] END max_depth=5, max_features=log2, splitter=best;, score=-92636555391.899 total time=   0.8s\n",
      "[CV 1/3] END max_depth=5, max_features=log2, splitter=random;, score=-87523397557.769 total time=   0.8s\n",
      "[CV 2/3] END max_depth=5, max_features=log2, splitter=random;, score=-92003920498.202 total time=   0.8s\n",
      "[CV 3/3] END max_depth=5, max_features=log2, splitter=random;, score=-91283262857.738 total time=   0.8s\n",
      "[CV 1/3] END max_depth=5, max_features=sqrt, splitter=best;, score=-53989092750.514 total time=   0.8s\n",
      "[CV 2/3] END max_depth=5, max_features=sqrt, splitter=best;, score=-86900099290.457 total time=   0.8s\n",
      "[CV 3/3] END max_depth=5, max_features=sqrt, splitter=best;, score=-82781833684.225 total time=   0.9s\n",
      "[CV 1/3] END max_depth=5, max_features=sqrt, splitter=random;, score=-83969459348.617 total time=   0.9s\n",
      "[CV 2/3] END max_depth=5, max_features=sqrt, splitter=random;, score=-86173644657.811 total time=   0.9s\n",
      "[CV 3/3] END max_depth=5, max_features=sqrt, splitter=random;, score=-75888695118.645 total time=   1.3s\n",
      "[CV 1/3] END max_depth=5, max_features=None, splitter=best;, score=-31371509645.570 total time=   3.8s\n",
      "[CV 2/3] END max_depth=5, max_features=None, splitter=best;, score=-31830327304.412 total time=   3.0s\n",
      "[CV 3/3] END max_depth=5, max_features=None, splitter=best;, score=-31922864875.689 total time=   3.0s\n",
      "[CV 1/3] END max_depth=5, max_features=None, splitter=random;, score=-42969538375.913 total time=   3.9s\n",
      "[CV 2/3] END max_depth=5, max_features=None, splitter=random;, score=-48930818922.569 total time=   4.0s\n",
      "[CV 3/3] END max_depth=5, max_features=None, splitter=random;, score=-36914361917.500 total time=   3.7s\n",
      "[CV 1/3] END max_depth=7, max_features=auto, splitter=best;, score=-25498940437.361 total time=   3.2s\n",
      "[CV 2/3] END max_depth=7, max_features=auto, splitter=best;, score=-25479224418.624 total time=   3.2s\n",
      "[CV 3/3] END max_depth=7, max_features=auto, splitter=best;, score=-26282843095.766 total time=   3.3s\n",
      "[CV 1/3] END max_depth=7, max_features=auto, splitter=random;, score=-26335903187.000 total time=   4.5s\n",
      "[CV 2/3] END max_depth=7, max_features=auto, splitter=random;, score=-31144367631.047 total time=   4.2s\n",
      "[CV 3/3] END max_depth=7, max_features=auto, splitter=random;, score=-26472790471.711 total time=   3.8s\n",
      "[CV 1/3] END max_depth=7, max_features=log2, splitter=best;, score=-88032013579.108 total time=   0.8s\n",
      "[CV 2/3] END max_depth=7, max_features=log2, splitter=best;, score=-91410499149.055 total time=   0.8s\n",
      "[CV 3/3] END max_depth=7, max_features=log2, splitter=best;, score=-80556847235.610 total time=   0.8s\n",
      "[CV 1/3] END max_depth=7, max_features=log2, splitter=random;, score=-83891871862.427 total time=   0.8s\n",
      "[CV 2/3] END max_depth=7, max_features=log2, splitter=random;, score=-91594351594.828 total time=   0.8s\n",
      "[CV 3/3] END max_depth=7, max_features=log2, splitter=random;, score=-92450703059.131 total time=   0.8s\n",
      "[CV 1/3] END max_depth=7, max_features=sqrt, splitter=best;, score=-67823739322.486 total time=   0.9s\n",
      "[CV 2/3] END max_depth=7, max_features=sqrt, splitter=best;, score=-78256638179.275 total time=   0.9s\n",
      "[CV 3/3] END max_depth=7, max_features=sqrt, splitter=best;, score=-89323520624.566 total time=   0.9s\n",
      "[CV 1/3] END max_depth=7, max_features=sqrt, splitter=random;, score=-83294246142.039 total time=   0.9s\n",
      "[CV 2/3] END max_depth=7, max_features=sqrt, splitter=random;, score=-89419623584.679 total time=   0.9s\n",
      "[CV 3/3] END max_depth=7, max_features=sqrt, splitter=random;, score=-88977328486.857 total time=   0.9s\n",
      "[CV 1/3] END max_depth=7, max_features=None, splitter=best;, score=-25455332449.830 total time=   3.2s\n",
      "[CV 2/3] END max_depth=7, max_features=None, splitter=best;, score=-25475530353.878 total time=   3.2s\n",
      "[CV 3/3] END max_depth=7, max_features=None, splitter=best;, score=-26237626298.686 total time=   3.2s\n",
      "[CV 1/3] END max_depth=7, max_features=None, splitter=random;, score=-33425850490.202 total time=   4.4s\n",
      "[CV 2/3] END max_depth=7, max_features=None, splitter=random;, score=-34006904775.788 total time=   4.2s\n",
      "[CV 3/3] END max_depth=7, max_features=None, splitter=random;, score=-31365514577.242 total time=   4.2s\n",
      "[CV 1/3] END max_depth=9, max_features=auto, splitter=best;, score=-22081943481.118 total time=   3.4s\n",
      "[CV 2/3] END max_depth=9, max_features=auto, splitter=best;, score=-21812101112.664 total time=   3.3s\n",
      "[CV 3/3] END max_depth=9, max_features=auto, splitter=best;, score=-22775876602.280 total time=   3.7s\n",
      "[CV 1/3] END max_depth=9, max_features=auto, splitter=random;, score=-23850887229.588 total time=   5.5s\n",
      "[CV 2/3] END max_depth=9, max_features=auto, splitter=random;, score=-28759795313.496 total time=   4.9s\n",
      "[CV 3/3] END max_depth=9, max_features=auto, splitter=random;, score=-30250980843.289 total time=   4.5s\n",
      "[CV 1/3] END max_depth=9, max_features=log2, splitter=best;, score=-83942239873.390 total time=   0.8s\n"
     ]
    },
    {
     "name": "stdout",
     "output_type": "stream",
     "text": [
      "[CV 2/3] END max_depth=9, max_features=log2, splitter=best;, score=-84161279376.146 total time=   0.8s\n",
      "[CV 3/3] END max_depth=9, max_features=log2, splitter=best;, score=-90346739833.263 total time=   0.8s\n",
      "[CV 1/3] END max_depth=9, max_features=log2, splitter=random;, score=-89055306739.289 total time=   0.8s\n",
      "[CV 2/3] END max_depth=9, max_features=log2, splitter=random;, score=-91294736285.233 total time=   0.9s\n",
      "[CV 3/3] END max_depth=9, max_features=log2, splitter=random;, score=-91928237154.906 total time=   0.9s\n",
      "[CV 1/3] END max_depth=9, max_features=sqrt, splitter=best;, score=-68508951081.363 total time=   0.9s\n",
      "[CV 2/3] END max_depth=9, max_features=sqrt, splitter=best;, score=-55695835068.041 total time=   0.9s\n",
      "[CV 3/3] END max_depth=9, max_features=sqrt, splitter=best;, score=-82046918765.199 total time=   0.9s\n",
      "[CV 1/3] END max_depth=9, max_features=sqrt, splitter=random;, score=-76912924615.778 total time=   0.9s\n",
      "[CV 2/3] END max_depth=9, max_features=sqrt, splitter=random;, score=-81496823317.218 total time=   0.9s\n",
      "[CV 3/3] END max_depth=9, max_features=sqrt, splitter=random;, score=-76812900883.427 total time=   0.9s\n",
      "[CV 1/3] END max_depth=9, max_features=None, splitter=best;, score=-22211575943.820 total time=   3.3s\n",
      "[CV 2/3] END max_depth=9, max_features=None, splitter=best;, score=-21768118770.749 total time=   3.4s\n",
      "[CV 3/3] END max_depth=9, max_features=None, splitter=best;, score=-22738318175.441 total time=   3.3s\n",
      "[CV 1/3] END max_depth=9, max_features=None, splitter=random;, score=-23848062015.120 total time=   4.4s\n",
      "[CV 2/3] END max_depth=9, max_features=None, splitter=random;, score=-24470615473.659 total time=   4.2s\n",
      "[CV 3/3] END max_depth=9, max_features=None, splitter=random;, score=-24014907617.743 total time=   4.4s\n"
     ]
    },
    {
     "data": {
      "text/plain": [
       "GridSearchCV(cv=3, estimator=DecisionTreeRegressor(),\n",
       "             param_grid={'max_depth': [3, 5, 7, 9],\n",
       "                         'max_features': ['auto', 'log2', 'sqrt', None],\n",
       "                         'splitter': ['best', 'random']},\n",
       "             scoring='neg_mean_squared_error', verbose=3)"
      ]
     },
     "execution_count": 95,
     "metadata": {},
     "output_type": "execute_result"
    }
   ],
   "source": [
    "dtr_grid.fit(X_train,y_train)"
   ]
  },
  {
   "cell_type": "code",
   "execution_count": 96,
   "metadata": {},
   "outputs": [
    {
     "data": {
      "text/plain": [
       "DecisionTreeRegressor(max_depth=9, max_features='auto')"
      ]
     },
     "execution_count": 96,
     "metadata": {},
     "output_type": "execute_result"
    }
   ],
   "source": [
    "dtr_grid.best_estimator_"
   ]
  },
  {
   "cell_type": "code",
   "execution_count": 97,
   "metadata": {},
   "outputs": [
    {
     "data": {
      "text/plain": [
       "{'max_depth': 9, 'max_features': 'auto', 'splitter': 'best'}"
      ]
     },
     "execution_count": 97,
     "metadata": {},
     "output_type": "execute_result"
    }
   ],
   "source": [
    "dtr_grid.best_params_"
   ]
  },
  {
   "cell_type": "code",
   "execution_count": 98,
   "metadata": {},
   "outputs": [],
   "source": [
    "dtr_train = dtr_grid.predict(X_train)"
   ]
  },
  {
   "cell_type": "code",
   "execution_count": 99,
   "metadata": {},
   "outputs": [],
   "source": [
    "dtr_test = dtr_grid.predict(X_test)"
   ]
  },
  {
   "cell_type": "code",
   "execution_count": 100,
   "metadata": {},
   "outputs": [
    {
     "name": "stdout",
     "output_type": "stream",
     "text": [
      "Train RMSE:  138178.1989691537\n",
      "Test RMSE:  150053.59691203333\n"
     ]
    }
   ],
   "source": [
    "dtr_cv_train_rmse = np.sqrt(mean_squared_error(y_train,dtr_train))\n",
    "dtr_cv_test_rmse = np.sqrt(mean_squared_error(y_test,dtr_test))\n",
    "print(\"Train RMSE: \",dtr_cv_train_rmse)\n",
    "print(\"Test RMSE: \",dtr_cv_test_rmse)"
   ]
  },
  {
   "cell_type": "code",
   "execution_count": null,
   "metadata": {},
   "outputs": [],
   "source": []
  },
  {
   "cell_type": "code",
   "execution_count": null,
   "metadata": {},
   "outputs": [],
   "source": []
  },
  {
   "cell_type": "code",
   "execution_count": 101,
   "metadata": {},
   "outputs": [],
   "source": [
    "from sklearn.ensemble import RandomForestRegressor"
   ]
  },
  {
   "cell_type": "code",
   "execution_count": 102,
   "metadata": {},
   "outputs": [
    {
     "name": "stdout",
     "output_type": "stream",
     "text": [
      "train 0.9841112552302029\n"
     ]
    },
    {
     "data": {
      "text/plain": [
       "0.8782872219441529"
      ]
     },
     "execution_count": 102,
     "metadata": {},
     "output_type": "execute_result"
    }
   ],
   "source": [
    "rf_reg = RandomForestRegressor()\n",
    "rf_reg.fit(X_train, y_train)\n",
    "y_pre = rf_reg.predict(X_train)\n",
    "y_pred = rf_reg.predict(X_test)\n",
    "print('train',r2_score(y_train, y_pre))\n",
    "r2_score(y_test, y_pred)"
   ]
  },
  {
   "cell_type": "code",
   "execution_count": 106,
   "metadata": {},
   "outputs": [],
   "source": [
    "rfr_parameters={\"n_estimators\":[200,300],\n",
    "           \"criterion\":[\"mse\"],\n",
    "           \"max_features\":[\"auto\",\"log2\",\"sqrt\"],}"
   ]
  },
  {
   "cell_type": "code",
   "execution_count": 107,
   "metadata": {},
   "outputs": [],
   "source": [
    "rfr_grid=GridSearchCV(rf_reg,param_grid=rfr_parameters,scoring='neg_mean_squared_error',cv=3,verbose=3)"
   ]
  },
  {
   "cell_type": "code",
   "execution_count": 108,
   "metadata": {
    "scrolled": true
   },
   "outputs": [
    {
     "name": "stdout",
     "output_type": "stream",
     "text": [
      "Fitting 3 folds for each of 6 candidates, totalling 18 fits\n",
      "[CV 1/3] END criterion=mse, max_features=auto, n_estimators=200;, score=-11710152662.727 total time= 8.6min\n",
      "[CV 2/3] END criterion=mse, max_features=auto, n_estimators=200;, score=-11351507238.809 total time= 8.7min\n",
      "[CV 3/3] END criterion=mse, max_features=auto, n_estimators=200;, score=-12212483265.308 total time= 8.7min\n",
      "[CV 1/3] END criterion=mse, max_features=auto, n_estimators=300;, score=-11652371951.617 total time=12.8min\n",
      "[CV 2/3] END criterion=mse, max_features=auto, n_estimators=300;, score=-11304762219.485 total time=11.6min\n",
      "[CV 3/3] END criterion=mse, max_features=auto, n_estimators=300;, score=-12105165922.478 total time=11.7min\n",
      "[CV 1/3] END criterion=mse, max_features=log2, n_estimators=200;, score=-12765990306.764 total time= 1.4min\n",
      "[CV 2/3] END criterion=mse, max_features=log2, n_estimators=200;, score=-12657658291.164 total time= 1.5min\n",
      "[CV 3/3] END criterion=mse, max_features=log2, n_estimators=200;, score=-13376433802.260 total time= 1.5min\n",
      "[CV 1/3] END criterion=mse, max_features=log2, n_estimators=300;, score=-12542814158.292 total time= 2.5min\n",
      "[CV 2/3] END criterion=mse, max_features=log2, n_estimators=300;, score=-12702644630.563 total time= 2.3min\n",
      "[CV 3/3] END criterion=mse, max_features=log2, n_estimators=300;, score=-13472535014.567 total time= 2.6min\n",
      "[CV 1/3] END criterion=mse, max_features=sqrt, n_estimators=200;, score=-13266287013.449 total time= 1.5min\n",
      "[CV 2/3] END criterion=mse, max_features=sqrt, n_estimators=200;, score=-13293536506.261 total time= 1.5min\n",
      "[CV 3/3] END criterion=mse, max_features=sqrt, n_estimators=200;, score=-14127082964.982 total time= 1.5min\n",
      "[CV 1/3] END criterion=mse, max_features=sqrt, n_estimators=300;, score=-13170116742.724 total time= 2.1min\n",
      "[CV 2/3] END criterion=mse, max_features=sqrt, n_estimators=300;, score=-13208812195.384 total time= 2.1min\n",
      "[CV 3/3] END criterion=mse, max_features=sqrt, n_estimators=300;, score=-14062316173.953 total time= 2.5min\n"
     ]
    },
    {
     "data": {
      "text/plain": [
       "GridSearchCV(cv=3, estimator=RandomForestRegressor(),\n",
       "             param_grid={'criterion': ['mse'],\n",
       "                         'max_features': ['auto', 'log2', 'sqrt'],\n",
       "                         'n_estimators': [200, 300]},\n",
       "             scoring='neg_mean_squared_error', verbose=3)"
      ]
     },
     "execution_count": 108,
     "metadata": {},
     "output_type": "execute_result"
    }
   ],
   "source": [
    "rfr_grid.fit(X_train,y_train)"
   ]
  },
  {
   "cell_type": "code",
   "execution_count": 109,
   "metadata": {},
   "outputs": [
    {
     "data": {
      "text/plain": [
       "{'criterion': 'mse', 'max_features': 'auto', 'n_estimators': 300}"
      ]
     },
     "execution_count": 109,
     "metadata": {},
     "output_type": "execute_result"
    }
   ],
   "source": [
    "rfr_grid.best_params_"
   ]
  },
  {
   "cell_type": "code",
   "execution_count": 110,
   "metadata": {},
   "outputs": [],
   "source": [
    "rfr_train = rfr_grid.predict(X_train)"
   ]
  },
  {
   "cell_type": "code",
   "execution_count": 111,
   "metadata": {},
   "outputs": [],
   "source": [
    "rfr_test = rfr_grid.predict(X_test)"
   ]
  },
  {
   "cell_type": "code",
   "execution_count": 112,
   "metadata": {},
   "outputs": [
    {
     "name": "stdout",
     "output_type": "stream",
     "text": [
      "Train RMSE:  37581.03890645805\n",
      "Test RMSE:  104355.44091593231\n"
     ]
    }
   ],
   "source": [
    "rfr_cv_train_rmse = np.sqrt(mean_squared_error(y_train,rfr_train))\n",
    "rfr_cv_test_rmse = np.sqrt(mean_squared_error(y_test,rfr_test))\n",
    "print(\"Train RMSE: \",rfr_cv_train_rmse)\n",
    "print(\"Test RMSE: \",rfr_cv_test_rmse)"
   ]
  },
  {
   "cell_type": "code",
   "execution_count": null,
   "metadata": {},
   "outputs": [],
   "source": []
  },
  {
   "cell_type": "code",
   "execution_count": null,
   "metadata": {},
   "outputs": [],
   "source": []
  },
  {
   "cell_type": "code",
   "execution_count": 113,
   "metadata": {},
   "outputs": [
    {
     "name": "stdout",
     "output_type": "stream",
     "text": [
      "train 0.8956696165701181\n"
     ]
    },
    {
     "data": {
      "text/plain": [
       "0.8664256620546857"
      ]
     },
     "execution_count": 113,
     "metadata": {},
     "output_type": "execute_result"
    }
   ],
   "source": [
    "from xgboost import XGBRegressor\n",
    "knn_reg = XGBRegressor ()\n",
    "knn_reg.fit(X_train, y_train)\n",
    "y_pre = knn_reg.predict(X_train)\n",
    "y_pred = knn_reg.predict(X_test)\n",
    "print('train',r2_score(y_train, y_pre))\n",
    "r2_score(y_test, y_pred)"
   ]
  },
  {
   "cell_type": "code",
   "execution_count": 114,
   "metadata": {},
   "outputs": [],
   "source": [
    "from sklearn.model_selection import GridSearchCV"
   ]
  },
  {
   "cell_type": "code",
   "execution_count": 115,
   "metadata": {},
   "outputs": [],
   "source": [
    "xgb_param = {\n",
    "        'learning_rate': [0.05, 0.1],\n",
    "        'max_depth': [5, 7, 10],\n",
    "        'n_estimators' : [200, 300],\n",
    "        'objective': ['reg:squarederror']\n",
    "    }"
   ]
  },
  {
   "cell_type": "code",
   "execution_count": 116,
   "metadata": {},
   "outputs": [],
   "source": [
    "xgb_model = XGBRegressor()"
   ]
  },
  {
   "cell_type": "code",
   "execution_count": 117,
   "metadata": {},
   "outputs": [],
   "source": [
    "xgb_grid=GridSearchCV(xgb_model,param_grid=xgb_param,scoring='neg_mean_squared_error',cv=3,verbose=3)"
   ]
  },
  {
   "cell_type": "code",
   "execution_count": 118,
   "metadata": {},
   "outputs": [
    {
     "name": "stdout",
     "output_type": "stream",
     "text": [
      "Fitting 3 folds for each of 12 candidates, totalling 36 fits\n",
      "[CV 1/3] END learning_rate=0.05, max_depth=5, n_estimators=200, objective=reg:squarederror;, score=-15494979695.673 total time= 2.8min\n",
      "[CV 2/3] END learning_rate=0.05, max_depth=5, n_estimators=200, objective=reg:squarederror;, score=-15704977216.909 total time= 3.0min\n",
      "[CV 3/3] END learning_rate=0.05, max_depth=5, n_estimators=200, objective=reg:squarederror;, score=-16225509479.602 total time= 3.9min\n",
      "[CV 1/3] END learning_rate=0.05, max_depth=5, n_estimators=300, objective=reg:squarederror;, score=-14456873042.380 total time= 4.5min\n",
      "[CV 2/3] END learning_rate=0.05, max_depth=5, n_estimators=300, objective=reg:squarederror;, score=-14676620913.018 total time= 4.1min\n",
      "[CV 3/3] END learning_rate=0.05, max_depth=5, n_estimators=300, objective=reg:squarederror;, score=-15136781900.583 total time= 4.3min\n",
      "[CV 1/3] END learning_rate=0.05, max_depth=7, n_estimators=200, objective=reg:squarederror;, score=-13400771505.033 total time= 4.2min\n",
      "[CV 2/3] END learning_rate=0.05, max_depth=7, n_estimators=200, objective=reg:squarederror;, score=-13569511971.762 total time= 4.0min\n",
      "[CV 3/3] END learning_rate=0.05, max_depth=7, n_estimators=200, objective=reg:squarederror;, score=-14119436127.801 total time= 3.8min\n",
      "[CV 1/3] END learning_rate=0.05, max_depth=7, n_estimators=300, objective=reg:squarederror;, score=-12581506911.797 total time= 5.2min\n",
      "[CV 2/3] END learning_rate=0.05, max_depth=7, n_estimators=300, objective=reg:squarederror;, score=-12719512296.950 total time= 6.0min\n",
      "[CV 3/3] END learning_rate=0.05, max_depth=7, n_estimators=300, objective=reg:squarederror;, score=-13275822469.889 total time= 5.8min\n",
      "[CV 1/3] END learning_rate=0.05, max_depth=10, n_estimators=200, objective=reg:squarederror;, score=-11531971629.435 total time= 6.0min\n",
      "[CV 2/3] END learning_rate=0.05, max_depth=10, n_estimators=200, objective=reg:squarederror;, score=-11631459673.647 total time= 6.1min\n",
      "[CV 3/3] END learning_rate=0.05, max_depth=10, n_estimators=200, objective=reg:squarederror;, score=-12235225478.925 total time= 6.5min\n",
      "[CV 1/3] END learning_rate=0.05, max_depth=10, n_estimators=300, objective=reg:squarederror;, score=-10952589417.799 total time= 7.5min\n",
      "[CV 2/3] END learning_rate=0.05, max_depth=10, n_estimators=300, objective=reg:squarederror;, score=-11011069179.068 total time= 6.9min\n",
      "[CV 3/3] END learning_rate=0.05, max_depth=10, n_estimators=300, objective=reg:squarederror;, score=-11592179551.339 total time= 6.8min\n",
      "[CV 1/3] END learning_rate=0.1, max_depth=5, n_estimators=200, objective=reg:squarederror;, score=-13641242663.787 total time= 2.5min\n",
      "[CV 2/3] END learning_rate=0.1, max_depth=5, n_estimators=200, objective=reg:squarederror;, score=-13895962091.414 total time= 2.5min\n",
      "[CV 3/3] END learning_rate=0.1, max_depth=5, n_estimators=200, objective=reg:squarederror;, score=-14437321243.756 total time= 2.5min\n",
      "[CV 1/3] END learning_rate=0.1, max_depth=5, n_estimators=300, objective=reg:squarederror;, score=-12576132014.272 total time= 3.7min\n",
      "[CV 2/3] END learning_rate=0.1, max_depth=5, n_estimators=300, objective=reg:squarederror;, score=-12771117481.469 total time= 3.7min\n",
      "[CV 3/3] END learning_rate=0.1, max_depth=5, n_estimators=300, objective=reg:squarederror;, score=-13350259226.247 total time= 3.7min\n",
      "[CV 1/3] END learning_rate=0.1, max_depth=7, n_estimators=200, objective=reg:squarederror;, score=-12057409296.776 total time= 3.3min\n",
      "[CV 2/3] END learning_rate=0.1, max_depth=7, n_estimators=200, objective=reg:squarederror;, score=-12126970173.301 total time= 3.3min\n",
      "[CV 3/3] END learning_rate=0.1, max_depth=7, n_estimators=200, objective=reg:squarederror;, score=-12657397643.924 total time= 3.3min\n",
      "[CV 1/3] END learning_rate=0.1, max_depth=7, n_estimators=300, objective=reg:squarederror;, score=-11221227359.645 total time= 4.9min\n",
      "[CV 2/3] END learning_rate=0.1, max_depth=7, n_estimators=300, objective=reg:squarederror;, score=-11240451724.918 total time= 4.9min\n",
      "[CV 3/3] END learning_rate=0.1, max_depth=7, n_estimators=300, objective=reg:squarederror;, score=-11764128384.043 total time= 4.9min\n",
      "[CV 1/3] END learning_rate=0.1, max_depth=10, n_estimators=200, objective=reg:squarederror;, score=-10501823924.256 total time= 5.0min\n",
      "[CV 2/3] END learning_rate=0.1, max_depth=10, n_estimators=200, objective=reg:squarederror;, score=-10528710820.125 total time= 5.1min\n",
      "[CV 3/3] END learning_rate=0.1, max_depth=10, n_estimators=200, objective=reg:squarederror;, score=-11130119021.535 total time= 5.0min\n",
      "[CV 1/3] END learning_rate=0.1, max_depth=10, n_estimators=300, objective=reg:squarederror;, score=-9907775407.542 total time= 7.4min\n",
      "[CV 2/3] END learning_rate=0.1, max_depth=10, n_estimators=300, objective=reg:squarederror;, score=-9940450835.412 total time= 7.3min\n",
      "[CV 3/3] END learning_rate=0.1, max_depth=10, n_estimators=300, objective=reg:squarederror;, score=-10501807955.184 total time= 7.3min\n"
     ]
    },
    {
     "data": {
      "text/plain": [
       "GridSearchCV(cv=3,\n",
       "             estimator=XGBRegressor(base_score=None, booster=None,\n",
       "                                    callbacks=None, colsample_bylevel=None,\n",
       "                                    colsample_bynode=None,\n",
       "                                    colsample_bytree=None,\n",
       "                                    early_stopping_rounds=None,\n",
       "                                    enable_categorical=False, eval_metric=None,\n",
       "                                    gamma=None, gpu_id=None, grow_policy=None,\n",
       "                                    importance_type=None,\n",
       "                                    interaction_constraints=None,\n",
       "                                    learning_rate=None, max_bin=None,\n",
       "                                    max_cat...\n",
       "                                    max_depth=None, max_leaves=None,\n",
       "                                    min_child_weight=None, missing=nan,\n",
       "                                    monotone_constraints=None, n_estimators=100,\n",
       "                                    n_jobs=None, num_parallel_tree=None,\n",
       "                                    predictor=None, random_state=None,\n",
       "                                    reg_alpha=None, reg_lambda=None, ...),\n",
       "             param_grid={'learning_rate': [0.05, 0.1], 'max_depth': [5, 7, 10],\n",
       "                         'n_estimators': [200, 300],\n",
       "                         'objective': ['reg:squarederror']},\n",
       "             scoring='neg_mean_squared_error', verbose=3)"
      ]
     },
     "execution_count": 118,
     "metadata": {},
     "output_type": "execute_result"
    }
   ],
   "source": [
    "xgb_grid.fit(X_train,y_train)"
   ]
  },
  {
   "cell_type": "code",
   "execution_count": 119,
   "metadata": {},
   "outputs": [
    {
     "data": {
      "text/plain": [
       "{'learning_rate': 0.1,\n",
       " 'max_depth': 10,\n",
       " 'n_estimators': 300,\n",
       " 'objective': 'reg:squarederror'}"
      ]
     },
     "execution_count": 119,
     "metadata": {},
     "output_type": "execute_result"
    }
   ],
   "source": [
    "xgb_grid.best_params_"
   ]
  },
  {
   "cell_type": "code",
   "execution_count": 120,
   "metadata": {},
   "outputs": [],
   "source": [
    "xgb_train = xgb_grid.predict(X_train)"
   ]
  },
  {
   "cell_type": "code",
   "execution_count": 121,
   "metadata": {},
   "outputs": [],
   "source": [
    "xgb_test = xgb_grid.predict(X_test)"
   ]
  },
  {
   "cell_type": "code",
   "execution_count": 122,
   "metadata": {},
   "outputs": [
    {
     "name": "stdout",
     "output_type": "stream",
     "text": [
      "Train RMSE:  74799.10226719918\n",
      "Test RMSE:  99884.50926599202\n"
     ]
    }
   ],
   "source": [
    "xgb_cv_train_rmse = np.sqrt(mean_squared_error(y_train,xgb_train))\n",
    "xgb_cv_test_rmse = np.sqrt(mean_squared_error(y_test,xgb_test))\n",
    "print(\"Train RMSE: \",xgb_cv_train_rmse)\n",
    "print(\"Test RMSE: \",xgb_cv_test_rmse)"
   ]
  },
  {
   "cell_type": "code",
   "execution_count": null,
   "metadata": {},
   "outputs": [],
   "source": []
  },
  {
   "cell_type": "code",
   "execution_count": null,
   "metadata": {},
   "outputs": [],
   "source": []
  },
  {
   "cell_type": "code",
   "execution_count": null,
   "metadata": {},
   "outputs": [],
   "source": []
  },
  {
   "cell_type": "code",
   "execution_count": null,
   "metadata": {},
   "outputs": [],
   "source": []
  },
  {
   "cell_type": "code",
   "execution_count": null,
   "metadata": {},
   "outputs": [],
   "source": []
  },
  {
   "cell_type": "code",
   "execution_count": null,
   "metadata": {},
   "outputs": [],
   "source": []
  },
  {
   "cell_type": "code",
   "execution_count": null,
   "metadata": {},
   "outputs": [],
   "source": []
  }
 ],
 "metadata": {
  "kernelspec": {
   "display_name": "Python 3 (ipykernel)",
   "language": "python",
   "name": "python3"
  },
  "language_info": {
   "codemirror_mode": {
    "name": "ipython",
    "version": 3
   },
   "file_extension": ".py",
   "mimetype": "text/x-python",
   "name": "python",
   "nbconvert_exporter": "python",
   "pygments_lexer": "ipython3",
   "version": "3.9.12"
  }
 },
 "nbformat": 4,
 "nbformat_minor": 4
}
